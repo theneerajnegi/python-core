{
 "cells": [
  {
   "cell_type": "markdown",
   "id": "5cc1ad83",
   "metadata": {},
   "source": [
    "WAP TO PRINT IF A NUMBER IS EVEN OR ODD\n"
   ]
  },
  {
   "cell_type": "code",
   "execution_count": 1,
   "id": "d4264c40",
   "metadata": {},
   "outputs": [
    {
     "name": "stdout",
     "output_type": "stream",
     "text": [
      "enter the number6\n",
      "even\n"
     ]
    }
   ],
   "source": [
    "n=int(input(\"enter the number\"))\n",
    "if n%2==0:\n",
    "    print(\"even\")\n",
    "else:\n",
    "    print(\"odd\")"
   ]
  },
  {
   "cell_type": "markdown",
   "id": "3afeb67a",
   "metadata": {},
   "source": [
    "NESTED CONDITIONS"
   ]
  },
  {
   "cell_type": "code",
   "execution_count": 3,
   "id": "438e98db",
   "metadata": {},
   "outputs": [
    {
     "name": "stdout",
     "output_type": "stream",
     "text": [
      "enter the wheathersunny\n",
      "enter the temp67\n",
      "humid or notyes\n",
      "not play\n"
     ]
    }
   ],
   "source": [
    "a=input(\"enter the wheather\")\n",
    "if a==\"sunny\":\n",
    "    temp=float(input(\"enter the temp\"))\n",
    "    if temp>45:\n",
    "        humid=input(\"humid or not\")\n",
    "        if humid==(\"yes\"):\n",
    "            print(\"not play\")\n",
    "        else:\n",
    "            print(\"play\")\n",
    "    elif temp<=45:\n",
    "        print(\"play\")\n",
    "elif a==\"stormy\":\n",
    "    windspeed=float(input(\"windspeed\"))\n",
    "    if windspeed>=80:\n",
    "        print(\"not play\")\n",
    "    elif windspeed<80:\n",
    "        print(\"play\")\n",
    "elif a==\"cold\":\n",
    "    c=input(\"is it cold outside?\")\n",
    "    if c==\"yes\":\n",
    "        print(\"not play\")\n",
    "    else:\n",
    "        print(\"play\")\n",
    "        \n",
    "                        \n",
    "                    \n",
    "            "
   ]
  },
  {
   "cell_type": "raw",
   "id": "ad471b3a",
   "metadata": {},
   "source": [
    "OWNER OF THE RESTRAUNT AND MENU"
   ]
  },
  {
   "cell_type": "code",
   "execution_count": 8,
   "id": "0c9179fe",
   "metadata": {},
   "outputs": [
    {
     "name": "stdout",
     "output_type": "stream",
     "text": [
      "what do you want to eat(burger/pizza/italian/chinese):-pizza\n",
      "veg/non-vegnon-veg\n",
      "size (regular/medium/large:-)medium\n",
      "toppings (chicken/mutton/fish)chicken\n",
      "rs-1000/-\n"
     ]
    }
   ],
   "source": [
    "a=input(\"what do you want to eat(burger/pizza/italian/chinese):-\")\n",
    "if a==\"pizza\":\n",
    "    b=input(\"veg/non-veg\")\n",
    "    if b==\"veg\":\n",
    "        c=input(\"size (regular/medium/large:-)\")\n",
    "        d=input(\"toppings (paneer/onion/capsicum)\")\n",
    "        if c==\"regular\" and d==\"paneer\":\n",
    "            print(\"rs-500/-\")\n",
    "        elif c==\"medium\" and d==\"paneer\":\n",
    "            print(\"rs-1000/-\")\n",
    "        elif c==\"large\" and d==\"paneer\":\n",
    "            print(\"rs-1500/-\")\n",
    "        elif c==\"regular\" and d==\"onion\":\n",
    "            print(\"rs-500/-\")\n",
    "        elif c==\"medium\" and d==\"onion\":\n",
    "            print(\"rs-1000/-\")\n",
    "        elif c==\"large\" and d==\"onion\":\n",
    "            print(\"rs-1500/-\")\n",
    "        elif c==\"regular\" and d==\"capcicum\":\n",
    "            print(\"rs-500/-\")\n",
    "        elif c==\"medium\" and d==\"capcicum\":\n",
    "            print(\"rs-1000/-\")\n",
    "        elif c==\"large\" and d==\"capcicum\":\n",
    "            print(\"rs-1500/-\")\n",
    "    elif b==\"non-veg\":\n",
    "        c=input(\"size (regular/medium/large:-)\")\n",
    "        d=input(\"toppings (chicken/mutton/fish)\")\n",
    "        if c==\"regular\" and d==\"chicken\":\n",
    "            print(\"rs-500/-\")\n",
    "        elif c==\"medium\" and d==\"chicken\":\n",
    "            print(\"rs-1000/-\")\n",
    "        elif c==\"large\" and d==\"chicken\":\n",
    "            print(\"rs-1500/-\")\n",
    "        elif c==\"regular\" and d==\"mutton\":\n",
    "            print(\"rs-500/-\")\n",
    "        elif c==\"medium\" and d==\"mutton\":\n",
    "            print(\"rs-1000/-\")\n",
    "        elif c==\"large\" and d==\"mutton\":\n",
    "            print(\"rs-1500/-\")\n",
    "        elif c==\"regular\" and d==\"fish\":\n",
    "            print(\"rs-500/-\")\n",
    "        elif c==\"medium\" and d==\"fish\":\n",
    "            print(\"rs-1000/-\")\n",
    "        elif c==\"large\" and d==\"fish\":\n",
    "            print(\"rs-1500/-\")\n",
    "elif a==\"burger\":\n",
    "    b=input(\"veg/non-veg\")\n",
    "    if b==\"veg\":\n",
    "        d=input(\"filling (paneer/onion/extra cheese)\")\n",
    "        if d==\"paneer\":\n",
    "            print(\"rs-500/-\")\n",
    "        elif d==\"onion\":\n",
    "            print(\"rs-1000/-\")\n",
    "        elif d==\"extra cheese\":\n",
    "            print(\"rs-1500/-\")\n",
    "    elif b==\"non-veg\":\n",
    "        d=input(\"fillings (chicken/mutton/fish)\")\n",
    "        if d==\"chicken\":\n",
    "            print(\"rs-500/-\")\n",
    "        elif d==\"mutton\":\n",
    "            print(\"rs-1000/-\")\n",
    "        elif d==\"fish\":\n",
    "            print(\"rs-1500/-\")\n",
    "elif a==\"italian\":\n",
    "    b=input(\"soup/pasta\")\n",
    "    if b==\"soup\":\n",
    "        print(\"rs5000/-\")\n",
    "    elif b==\"pasta\":\n",
    "        print(\"10000/-\")\n",
    "elif a==\"chinese\":\n",
    "    d=input(\"(coronafry/hakkanoodles/chickenchilly)\")\n",
    "    if d==\"coronafry\":\n",
    "        print(\"rs-500/-\")\n",
    "    elif d==\"hakkanoodles\":\n",
    "        print(\"rs-1000/-\")\n",
    "    elif d==\"chickenchilly\":\n",
    "         print(\"rs-1500/-\")\n",
    "    \n",
    "       \n",
    "            \n",
    "\n"
   ]
  },
  {
   "cell_type": "code",
   "execution_count": 57,
   "id": "8c1e922f",
   "metadata": {},
   "outputs": [
    {
     "name": "stdout",
     "output_type": "stream",
     "text": [
      "what are you looking for (electronics/babyproduct/clothes/grooming/groceries):grooming\n",
      "(trimmer/wax)wax\n",
      "50%OFF\n"
     ]
    }
   ],
   "source": [
    "a=input(\"what are you looking for (electronics/babyproduct/clothes/grooming/groceries):\")\n",
    "if a==\"electronics\":\n",
    "    b=input(\"what are you searching for:(laptop/phones/tv/headphones/)\")\n",
    "    if b==\"laptop\":\n",
    "        print(\"30%OFF\")\n",
    "    elif b==\"phones\":\n",
    "        print(\"10%OFF\")\n",
    "    elif b==\"tv\":\n",
    "        print(\"20%OFF\")\n",
    "    elif b==\"headphones\":\n",
    "        print(\"5%OFF\")\n",
    "elif a==\"babyproduct\":\n",
    "    print(\"flat40%OFF\")\n",
    "elif a==\"clothes\":\n",
    "    c=input(\"(male/female)-\")\n",
    "    if c==\"male\":\n",
    "        print(\"15%OFF\")\n",
    "    elif c==\"female\":\n",
    "        print(\"25%OFF\")\n",
    "elif a==\"grooming\":\n",
    "    z=input(\"(trimmer/wax)\")\n",
    "    if z==\"trimmer\":\n",
    "        print(\"20%OFF\")\n",
    "    elif z==\"wax\":\n",
    "        print(\"50%OFF\")\n",
    "\n",
    "\n",
    "\n",
    "\n",
    "\n",
    "    "
   ]
  },
  {
   "cell_type": "code",
   "execution_count": 7,
   "id": "e914e001",
   "metadata": {},
   "outputs": [
    {
     "name": "stdout",
     "output_type": "stream",
     "text": [
      "do you have an umbrella?-no\n",
      "is it rainning too heavy?-no\n",
      "do you have a hoody?yes\n",
      "you are  safe form the wheather you can go outside\n"
     ]
    }
   ],
   "source": [
    "a=input(\"do you have an umbrella?-\")\n",
    "if a==\"no\":\n",
    "    b=input(\"is it rainning too heavy?-\")\n",
    "    c=input(\"do you have a hoody?\")\n",
    "    if b==\"yes\" and c==\"no\" or b==\"yes\" and c==\"yes\" or b==\"no\" and c==\"no\":\n",
    "        e=input(\"its a workday?\")\n",
    "        if e==\"yes\":\n",
    "            print(\"you are not safe form the wheather dont go outside\")\n",
    "        elif e==\"no\":\n",
    "            print(\"you are  safe form the wheather because its not a workday , STAY HOME - STAY SAFE\")\n",
    "    elif b==\"no\" and c==\"yes\":\n",
    "        print(\"you are  safe form the wheather you can go outside\")\n",
    "else:\n",
    "    print(\"you are  safe from the wheather you can go outside\")\n",
    "        "
   ]
  },
  {
   "cell_type": "code",
   "execution_count": null,
   "id": "2d03aa9c",
   "metadata": {},
   "outputs": [],
   "source": []
  },
  {
   "cell_type": "code",
   "execution_count": null,
   "id": "bd898075",
   "metadata": {},
   "outputs": [],
   "source": []
  }
 ],
 "metadata": {
  "kernelspec": {
   "display_name": "Python 3 (ipykernel)",
   "language": "python",
   "name": "python3"
  },
  "language_info": {
   "codemirror_mode": {
    "name": "ipython",
    "version": 3
   },
   "file_extension": ".py",
   "mimetype": "text/x-python",
   "name": "python",
   "nbconvert_exporter": "python",
   "pygments_lexer": "ipython3",
   "version": "3.9.7"
  }
 },
 "nbformat": 4,
 "nbformat_minor": 5
}
