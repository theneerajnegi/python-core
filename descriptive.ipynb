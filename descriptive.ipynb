{
 "cells": [
  {
   "cell_type": "code",
   "execution_count": 1,
   "id": "fcae31ba",
   "metadata": {},
   "outputs": [],
   "source": [
    "import numpy as np\n",
    "import pandas as pd\n",
    "import seaborn as sns\n",
    "import matplotlib.pyplot as plt\n",
    "import scipy.stats as st\n",
    "import statsmodels\n",
    "import pylab\n",
    "import statsmodels\n",
    "from statsmodels.stats.weightstats import ztest as zt"
   ]
  },
  {
   "cell_type": "code",
   "execution_count": 3,
   "id": "425f2b52",
   "metadata": {},
   "outputs": [
    {
     "data": {
      "text/html": [
       "<div>\n",
       "<style scoped>\n",
       "    .dataframe tbody tr th:only-of-type {\n",
       "        vertical-align: middle;\n",
       "    }\n",
       "\n",
       "    .dataframe tbody tr th {\n",
       "        vertical-align: top;\n",
       "    }\n",
       "\n",
       "    .dataframe thead th {\n",
       "        text-align: right;\n",
       "    }\n",
       "</style>\n",
       "<table border=\"1\" class=\"dataframe\">\n",
       "  <thead>\n",
       "    <tr style=\"text-align: right;\">\n",
       "      <th></th>\n",
       "      <th>sepal_length</th>\n",
       "      <th>sepal_width</th>\n",
       "      <th>petal_length</th>\n",
       "      <th>petal_width</th>\n",
       "      <th>species</th>\n",
       "    </tr>\n",
       "  </thead>\n",
       "  <tbody>\n",
       "    <tr>\n",
       "      <th>0</th>\n",
       "      <td>5.1</td>\n",
       "      <td>3.5</td>\n",
       "      <td>1.4</td>\n",
       "      <td>0.2</td>\n",
       "      <td>setosa</td>\n",
       "    </tr>\n",
       "    <tr>\n",
       "      <th>1</th>\n",
       "      <td>4.9</td>\n",
       "      <td>3.0</td>\n",
       "      <td>1.4</td>\n",
       "      <td>0.2</td>\n",
       "      <td>setosa</td>\n",
       "    </tr>\n",
       "    <tr>\n",
       "      <th>2</th>\n",
       "      <td>4.7</td>\n",
       "      <td>3.2</td>\n",
       "      <td>1.3</td>\n",
       "      <td>0.2</td>\n",
       "      <td>setosa</td>\n",
       "    </tr>\n",
       "    <tr>\n",
       "      <th>3</th>\n",
       "      <td>4.6</td>\n",
       "      <td>3.1</td>\n",
       "      <td>1.5</td>\n",
       "      <td>0.2</td>\n",
       "      <td>setosa</td>\n",
       "    </tr>\n",
       "    <tr>\n",
       "      <th>4</th>\n",
       "      <td>5.0</td>\n",
       "      <td>3.6</td>\n",
       "      <td>1.4</td>\n",
       "      <td>0.2</td>\n",
       "      <td>setosa</td>\n",
       "    </tr>\n",
       "    <tr>\n",
       "      <th>...</th>\n",
       "      <td>...</td>\n",
       "      <td>...</td>\n",
       "      <td>...</td>\n",
       "      <td>...</td>\n",
       "      <td>...</td>\n",
       "    </tr>\n",
       "    <tr>\n",
       "      <th>145</th>\n",
       "      <td>6.7</td>\n",
       "      <td>3.0</td>\n",
       "      <td>5.2</td>\n",
       "      <td>2.3</td>\n",
       "      <td>virginica</td>\n",
       "    </tr>\n",
       "    <tr>\n",
       "      <th>146</th>\n",
       "      <td>6.3</td>\n",
       "      <td>2.5</td>\n",
       "      <td>5.0</td>\n",
       "      <td>1.9</td>\n",
       "      <td>virginica</td>\n",
       "    </tr>\n",
       "    <tr>\n",
       "      <th>147</th>\n",
       "      <td>6.5</td>\n",
       "      <td>3.0</td>\n",
       "      <td>5.2</td>\n",
       "      <td>2.0</td>\n",
       "      <td>virginica</td>\n",
       "    </tr>\n",
       "    <tr>\n",
       "      <th>148</th>\n",
       "      <td>6.2</td>\n",
       "      <td>3.4</td>\n",
       "      <td>5.4</td>\n",
       "      <td>2.3</td>\n",
       "      <td>virginica</td>\n",
       "    </tr>\n",
       "    <tr>\n",
       "      <th>149</th>\n",
       "      <td>5.9</td>\n",
       "      <td>3.0</td>\n",
       "      <td>5.1</td>\n",
       "      <td>1.8</td>\n",
       "      <td>virginica</td>\n",
       "    </tr>\n",
       "  </tbody>\n",
       "</table>\n",
       "<p>150 rows × 5 columns</p>\n",
       "</div>"
      ],
      "text/plain": [
       "     sepal_length  sepal_width  petal_length  petal_width    species\n",
       "0             5.1          3.5           1.4          0.2     setosa\n",
       "1             4.9          3.0           1.4          0.2     setosa\n",
       "2             4.7          3.2           1.3          0.2     setosa\n",
       "3             4.6          3.1           1.5          0.2     setosa\n",
       "4             5.0          3.6           1.4          0.2     setosa\n",
       "..            ...          ...           ...          ...        ...\n",
       "145           6.7          3.0           5.2          2.3  virginica\n",
       "146           6.3          2.5           5.0          1.9  virginica\n",
       "147           6.5          3.0           5.2          2.0  virginica\n",
       "148           6.2          3.4           5.4          2.3  virginica\n",
       "149           5.9          3.0           5.1          1.8  virginica\n",
       "\n",
       "[150 rows x 5 columns]"
      ]
     },
     "execution_count": 3,
     "metadata": {},
     "output_type": "execute_result"
    }
   ],
   "source": [
    "df=sns.load_dataset(\"iris\")\n",
    "df"
   ]
  },
  {
   "cell_type": "code",
   "execution_count": 4,
   "id": "9d4f682a",
   "metadata": {},
   "outputs": [
    {
     "data": {
      "text/plain": [
       "(150, 5)"
      ]
     },
     "execution_count": 4,
     "metadata": {},
     "output_type": "execute_result"
    }
   ],
   "source": [
    "df.shape"
   ]
  },
  {
   "cell_type": "code",
   "execution_count": 5,
   "id": "d21962cc",
   "metadata": {},
   "outputs": [
    {
     "name": "stdout",
     "output_type": "stream",
     "text": [
      "<class 'pandas.core.frame.DataFrame'>\n",
      "RangeIndex: 150 entries, 0 to 149\n",
      "Data columns (total 5 columns):\n",
      " #   Column        Non-Null Count  Dtype  \n",
      "---  ------        --------------  -----  \n",
      " 0   sepal_length  150 non-null    float64\n",
      " 1   sepal_width   150 non-null    float64\n",
      " 2   petal_length  150 non-null    float64\n",
      " 3   petal_width   150 non-null    float64\n",
      " 4   species       150 non-null    object \n",
      "dtypes: float64(4), object(1)\n",
      "memory usage: 6.0+ KB\n"
     ]
    }
   ],
   "source": [
    "df.info()"
   ]
  },
  {
   "cell_type": "code",
   "execution_count": 6,
   "id": "44c7f5af",
   "metadata": {},
   "outputs": [
    {
     "data": {
      "text/html": [
       "<div>\n",
       "<style scoped>\n",
       "    .dataframe tbody tr th:only-of-type {\n",
       "        vertical-align: middle;\n",
       "    }\n",
       "\n",
       "    .dataframe tbody tr th {\n",
       "        vertical-align: top;\n",
       "    }\n",
       "\n",
       "    .dataframe thead th {\n",
       "        text-align: right;\n",
       "    }\n",
       "</style>\n",
       "<table border=\"1\" class=\"dataframe\">\n",
       "  <thead>\n",
       "    <tr style=\"text-align: right;\">\n",
       "      <th></th>\n",
       "      <th>count</th>\n",
       "      <th>mean</th>\n",
       "      <th>std</th>\n",
       "      <th>min</th>\n",
       "      <th>25%</th>\n",
       "      <th>50%</th>\n",
       "      <th>75%</th>\n",
       "      <th>max</th>\n",
       "    </tr>\n",
       "  </thead>\n",
       "  <tbody>\n",
       "    <tr>\n",
       "      <th>sepal_length</th>\n",
       "      <td>150.0</td>\n",
       "      <td>5.843333</td>\n",
       "      <td>0.828066</td>\n",
       "      <td>4.3</td>\n",
       "      <td>5.1</td>\n",
       "      <td>5.80</td>\n",
       "      <td>6.4</td>\n",
       "      <td>7.9</td>\n",
       "    </tr>\n",
       "    <tr>\n",
       "      <th>sepal_width</th>\n",
       "      <td>150.0</td>\n",
       "      <td>3.057333</td>\n",
       "      <td>0.435866</td>\n",
       "      <td>2.0</td>\n",
       "      <td>2.8</td>\n",
       "      <td>3.00</td>\n",
       "      <td>3.3</td>\n",
       "      <td>4.4</td>\n",
       "    </tr>\n",
       "    <tr>\n",
       "      <th>petal_length</th>\n",
       "      <td>150.0</td>\n",
       "      <td>3.758000</td>\n",
       "      <td>1.765298</td>\n",
       "      <td>1.0</td>\n",
       "      <td>1.6</td>\n",
       "      <td>4.35</td>\n",
       "      <td>5.1</td>\n",
       "      <td>6.9</td>\n",
       "    </tr>\n",
       "    <tr>\n",
       "      <th>petal_width</th>\n",
       "      <td>150.0</td>\n",
       "      <td>1.199333</td>\n",
       "      <td>0.762238</td>\n",
       "      <td>0.1</td>\n",
       "      <td>0.3</td>\n",
       "      <td>1.30</td>\n",
       "      <td>1.8</td>\n",
       "      <td>2.5</td>\n",
       "    </tr>\n",
       "  </tbody>\n",
       "</table>\n",
       "</div>"
      ],
      "text/plain": [
       "              count      mean       std  min  25%   50%  75%  max\n",
       "sepal_length  150.0  5.843333  0.828066  4.3  5.1  5.80  6.4  7.9\n",
       "sepal_width   150.0  3.057333  0.435866  2.0  2.8  3.00  3.3  4.4\n",
       "petal_length  150.0  3.758000  1.765298  1.0  1.6  4.35  5.1  6.9\n",
       "petal_width   150.0  1.199333  0.762238  0.1  0.3  1.30  1.8  2.5"
      ]
     },
     "execution_count": 6,
     "metadata": {},
     "output_type": "execute_result"
    }
   ],
   "source": [
    "df.describe().T"
   ]
  },
  {
   "cell_type": "code",
   "execution_count": 8,
   "id": "84a5204a",
   "metadata": {},
   "outputs": [
    {
     "data": {
      "image/png": "[encoded data removed]",
      "text/plain": [
       "<Figure size 432x288 with 1 Axes>"
      ]
     },
     "metadata": {
      "needs_background": "light"
     },
     "output_type": "display_data"
    }
   ],
   "source": [
    "st.probplot(df[\"sepal_length\"],dist=\"norm\",plot=pylab);"
   ]
  },
  {
   "cell_type": "code",
   "execution_count": 9,
   "id": "ea567d01",
   "metadata": {},
   "outputs": [
    {
     "data": {
      "image/png": "[encoded data removed]",
      "text/plain": [
       "<Figure size 432x288 with 1 Axes>"
      ]
     },
     "metadata": {
      "needs_background": "light"
     },
     "output_type": "display_data"
    }
   ],
   "source": [
    "st.probplot(df[\"sepal_width\"],dist=\"norm\",plot=pylab);"
   ]
  },
  {
   "cell_type": "code",
   "execution_count": 13,
   "id": "3182e05b",
   "metadata": {},
   "outputs": [
    {
     "name": "stderr",
     "output_type": "stream",
     "text": [
      "C:\\Users\\Neeraj\\anaconda3\\lib\\site-packages\\seaborn\\distributions.py:2619: FutureWarning: `distplot` is a deprecated function and will be removed in a future version. Please adapt your code to use either `displot` (a figure-level function with similar flexibility) or `histplot` (an axes-level function for histograms).\n",
      "  warnings.warn(msg, FutureWarning)\n"
     ]
    },
    {
     "data": {
      "image/png": "[encoded data removed]",
      "text/plain": [
       "<Figure size 432x288 with 1 Axes>"
      ]
     },
     "metadata": {
      "needs_background": "light"
     },
     "output_type": "display_data"
    }
   ],
   "source": [
    "sns.distplot(df[\"sepal_length\"]);"
   ]
  },
  {
   "cell_type": "code",
   "execution_count": 14,
   "id": "ec4568f4",
   "metadata": {},
   "outputs": [
    {
     "data": {
      "image/png": "[encoded data removed]",
      "text/plain": [
       "<Figure size 432x288 with 1 Axes>"
      ]
     },
     "metadata": {
      "needs_background": "light"
     },
     "output_type": "display_data"
    }
   ],
   "source": [
    "sns.kdeplot(df[\"sepal_length\"]);      #yaxis = probablity , \n",
    "                                      "
   ]
  },
  {
   "cell_type": "code",
   "execution_count": 15,
   "id": "ee712f77",
   "metadata": {},
   "outputs": [
    {
     "data": {
      "text/plain": [
       "0.3149109566369728"
      ]
     },
     "execution_count": 15,
     "metadata": {},
     "output_type": "execute_result"
    }
   ],
   "source": [
    "df[\"sepal_length\"].skew()  #method to check normal distribution"
   ]
  },
  {
   "cell_type": "code",
   "execution_count": 16,
   "id": "72f15f1d",
   "metadata": {},
   "outputs": [],
   "source": []
  },
  {
   "cell_type": "code",
   "execution_count": 20,
   "id": "faae8cd6",
   "metadata": {},
   "outputs": [
    {
     "data": {
      "image/png": "[encoded data removed]",
      "text/plain": [
       "<Figure size 432x288 with 1 Axes>"
      ]
     },
     "metadata": {
      "needs_background": "light"
     },
     "output_type": "display_data"
    }
   ],
   "source": [
    "st.probplot(df[\"sepal_length\"],dist=\"norm\",plot=pylab);#QQplot if allbule dotslie in red line then it is normaldistribution"
   ]
  },
  {
   "cell_type": "code",
   "execution_count": null,
   "id": "927c6ea3",
   "metadata": {},
   "outputs": [],
   "source": [
    "z score = xi- xbar         zscore used for feature engineering\n",
    "          std"
   ]
  },
  {
   "cell_type": "code",
   "execution_count": 22,
   "id": "4d81be33",
   "metadata": {},
   "outputs": [
    {
     "ename": "SyntaxError",
     "evalue": "invalid syntax (Temp/ipykernel_764/2050738634.py, line 1)",
     "output_type": "error",
     "traceback": [
      "\u001b[1;36m  File \u001b[1;32m\"C:\\Users\\Neeraj\\AppData\\Local\\Temp/ipykernel_764/2050738634.py\"\u001b[1;36m, line \u001b[1;32m1\u001b[0m\n\u001b[1;33m    feature scaling\u001b[0m\n\u001b[1;37m            ^\u001b[0m\n\u001b[1;31mSyntaxError\u001b[0m\u001b[1;31m:\u001b[0m invalid syntax\n"
     ]
    }
   ],
   "source": [
    "feature scaling"
   ]
  },
  {
   "cell_type": "code",
   "execution_count": 24,
   "id": "4ee504f4",
   "metadata": {},
   "outputs": [
    {
     "data": {
      "text/plain": [
       "122.46"
      ]
     },
     "execution_count": 24,
     "metadata": {},
     "output_type": "execute_result"
    }
   ],
   "source": [
    "612.3/5"
   ]
  },
  {
   "cell_type": "code",
   "execution_count": null,
   "id": "2f9521e4",
   "metadata": {},
   "outputs": [],
   "source": []
  },
  {
   "cell_type": "code",
   "execution_count": 31,
   "id": "4380a6d0",
   "metadata": {},
   "outputs": [],
   "source": [
    "h=pd.Series([120,120.5,121,120.8,130])"
   ]
  },
  {
   "cell_type": "code",
   "execution_count": 34,
   "id": "53ac6910",
   "metadata": {},
   "outputs": [],
   "source": [
    "s=h.std()"
   ]
  },
  {
   "cell_type": "code",
   "execution_count": 35,
   "id": "36adb66d",
   "metadata": {},
   "outputs": [],
   "source": [
    "m=h.mean()"
   ]
  },
  {
   "cell_type": "code",
   "execution_count": 39,
   "id": "a9fdcb7c",
   "metadata": {},
   "outputs": [],
   "source": [
    "l=[]\n",
    "for i in h:\n",
    "    z=(i-m)/s\n",
    "    l.append(z)"
   ]
  },
  {
   "cell_type": "code",
   "execution_count": 41,
   "id": "2163b2d5",
   "metadata": {},
   "outputs": [
    {
     "data": {
      "text/plain": [
       "array([-0.58131505, -0.46316158, -0.34500812, -0.3922695 ,  1.78175425])"
      ]
     },
     "execution_count": 41,
     "metadata": {},
     "output_type": "execute_result"
    }
   ],
   "source": [
    "arr=np.array(l)\n",
    "arr"
   ]
  },
  {
   "cell_type": "code",
   "execution_count": 53,
   "id": "49f24901",
   "metadata": {},
   "outputs": [
    {
     "name": "stdout",
     "output_type": "stream",
     "text": [
      "0.0\n",
      "0.9\n"
     ]
    }
   ],
   "source": [
    "print(round(arr.mean(),))\n",
    "print(round(arr.std(),1))"
   ]
  },
  {
   "cell_type": "code",
   "execution_count": null,
   "id": "360981be",
   "metadata": {},
   "outputs": [],
   "source": [
    "___________________________________________________________________________________________________________________________"
   ]
  },
  {
   "cell_type": "code",
   "execution_count": 4,
   "id": "efadc8ad",
   "metadata": {},
   "outputs": [],
   "source": [
    "import seaborn as sns"
   ]
  },
  {
   "cell_type": "code",
   "execution_count": 10,
   "id": "ff13efe3",
   "metadata": {},
   "outputs": [],
   "source": [
    "df=sns.load_dataset(\"iris\")"
   ]
  },
  {
   "cell_type": "code",
   "execution_count": 11,
   "id": "16ac05c5",
   "metadata": {},
   "outputs": [
    {
     "name": "stderr",
     "output_type": "stream",
     "text": [
      "C:\\Users\\Neeraj\\AppData\\Local\\Temp/ipykernel_16552/1665899112.py:1: FutureWarning: Dropping of nuisance columns in DataFrame reductions (with 'numeric_only=None') is deprecated; in a future version this will raise TypeError.  Select only valid columns before calling the reduction.\n",
      "  df.skew()\n"
     ]
    },
    {
     "data": {
      "text/plain": [
       "sepal_length    0.314911\n",
       "sepal_width     0.318966\n",
       "petal_length   -0.274884\n",
       "petal_width    -0.102967\n",
       "dtype: float64"
      ]
     },
     "execution_count": 11,
     "metadata": {},
     "output_type": "execute_result"
    }
   ],
   "source": [
    "df.skew()"
   ]
  },
  {
   "cell_type": "code",
   "execution_count": 8,
   "id": "02bee9ad",
   "metadata": {},
   "outputs": [
    {
     "data": {
      "text/html": [
       "<div>\n",
       "<style scoped>\n",
       "    .dataframe tbody tr th:only-of-type {\n",
       "        vertical-align: middle;\n",
       "    }\n",
       "\n",
       "    .dataframe tbody tr th {\n",
       "        vertical-align: top;\n",
       "    }\n",
       "\n",
       "    .dataframe thead th {\n",
       "        text-align: right;\n",
       "    }\n",
       "</style>\n",
       "<table border=\"1\" class=\"dataframe\">\n",
       "  <thead>\n",
       "    <tr style=\"text-align: right;\">\n",
       "      <th></th>\n",
       "      <th>patient</th>\n",
       "      <th>sex</th>\n",
       "      <th>agegrp</th>\n",
       "      <th>bp_before</th>\n",
       "      <th>bp_after</th>\n",
       "    </tr>\n",
       "  </thead>\n",
       "  <tbody>\n",
       "    <tr>\n",
       "      <th>0</th>\n",
       "      <td>1</td>\n",
       "      <td>Male</td>\n",
       "      <td>30-45</td>\n",
       "      <td>143</td>\n",
       "      <td>153</td>\n",
       "    </tr>\n",
       "    <tr>\n",
       "      <th>1</th>\n",
       "      <td>2</td>\n",
       "      <td>Male</td>\n",
       "      <td>30-45</td>\n",
       "      <td>163</td>\n",
       "      <td>170</td>\n",
       "    </tr>\n",
       "    <tr>\n",
       "      <th>2</th>\n",
       "      <td>3</td>\n",
       "      <td>Male</td>\n",
       "      <td>30-45</td>\n",
       "      <td>153</td>\n",
       "      <td>168</td>\n",
       "    </tr>\n",
       "    <tr>\n",
       "      <th>3</th>\n",
       "      <td>4</td>\n",
       "      <td>Male</td>\n",
       "      <td>30-45</td>\n",
       "      <td>153</td>\n",
       "      <td>142</td>\n",
       "    </tr>\n",
       "    <tr>\n",
       "      <th>4</th>\n",
       "      <td>5</td>\n",
       "      <td>Male</td>\n",
       "      <td>30-45</td>\n",
       "      <td>146</td>\n",
       "      <td>141</td>\n",
       "    </tr>\n",
       "    <tr>\n",
       "      <th>...</th>\n",
       "      <td>...</td>\n",
       "      <td>...</td>\n",
       "      <td>...</td>\n",
       "      <td>...</td>\n",
       "      <td>...</td>\n",
       "    </tr>\n",
       "    <tr>\n",
       "      <th>115</th>\n",
       "      <td>116</td>\n",
       "      <td>Female</td>\n",
       "      <td>60+</td>\n",
       "      <td>152</td>\n",
       "      <td>152</td>\n",
       "    </tr>\n",
       "    <tr>\n",
       "      <th>116</th>\n",
       "      <td>117</td>\n",
       "      <td>Female</td>\n",
       "      <td>60+</td>\n",
       "      <td>161</td>\n",
       "      <td>152</td>\n",
       "    </tr>\n",
       "    <tr>\n",
       "      <th>117</th>\n",
       "      <td>118</td>\n",
       "      <td>Female</td>\n",
       "      <td>60+</td>\n",
       "      <td>165</td>\n",
       "      <td>174</td>\n",
       "    </tr>\n",
       "    <tr>\n",
       "      <th>118</th>\n",
       "      <td>119</td>\n",
       "      <td>Female</td>\n",
       "      <td>60+</td>\n",
       "      <td>149</td>\n",
       "      <td>151</td>\n",
       "    </tr>\n",
       "    <tr>\n",
       "      <th>119</th>\n",
       "      <td>120</td>\n",
       "      <td>Female</td>\n",
       "      <td>60+</td>\n",
       "      <td>185</td>\n",
       "      <td>163</td>\n",
       "    </tr>\n",
       "  </tbody>\n",
       "</table>\n",
       "<p>120 rows × 5 columns</p>\n",
       "</div>"
      ],
      "text/plain": [
       "     patient     sex agegrp  bp_before  bp_after\n",
       "0          1    Male  30-45        143       153\n",
       "1          2    Male  30-45        163       170\n",
       "2          3    Male  30-45        153       168\n",
       "3          4    Male  30-45        153       142\n",
       "4          5    Male  30-45        146       141\n",
       "..       ...     ...    ...        ...       ...\n",
       "115      116  Female    60+        152       152\n",
       "116      117  Female    60+        161       152\n",
       "117      118  Female    60+        165       174\n",
       "118      119  Female    60+        149       151\n",
       "119      120  Female    60+        185       163\n",
       "\n",
       "[120 rows x 5 columns]"
      ]
     },
     "execution_count": 8,
     "metadata": {},
     "output_type": "execute_result"
    }
   ],
   "source": [
    "df1=pd.read_csv(\"C:\\\\Users\\\\Neeraj\\\\Desktop\\\\bloodpressure.csv\")\n",
    "df1"
   ]
  },
  {
   "cell_type": "code",
   "execution_count": 12,
   "id": "11b7f1f6",
   "metadata": {},
   "outputs": [
    {
     "data": {
      "image/png": "[encoded data removed]",
      "text/plain": [
       "<Figure size 432x288 with 1 Axes>"
      ]
     },
     "metadata": {
      "needs_background": "light"
     },
     "output_type": "display_data"
    }
   ],
   "source": [
    "st.probplot(df1[\"bp_before\"],dist=\"norm\",plot=pylab); #qqplot"
   ]
  },
  {
   "cell_type": "code",
   "execution_count": null,
   "id": "259eb898",
   "metadata": {},
   "outputs": [],
   "source": [
    "make it normal by transformations"
   ]
  },
  {
   "cell_type": "code",
   "execution_count": 13,
   "id": "bd389640",
   "metadata": {},
   "outputs": [],
   "source": [
    "df1[\"bp_b\"]=np.log(df1[\"bp_before\"])    #LOG TRANSFORMATION"
   ]
  },
  {
   "cell_type": "code",
   "execution_count": 14,
   "id": "533fcd8c",
   "metadata": {},
   "outputs": [
    {
     "data": {
      "text/html": [
       "<div>\n",
       "<style scoped>\n",
       "    .dataframe tbody tr th:only-of-type {\n",
       "        vertical-align: middle;\n",
       "    }\n",
       "\n",
       "    .dataframe tbody tr th {\n",
       "        vertical-align: top;\n",
       "    }\n",
       "\n",
       "    .dataframe thead th {\n",
       "        text-align: right;\n",
       "    }\n",
       "</style>\n",
       "<table border=\"1\" class=\"dataframe\">\n",
       "  <thead>\n",
       "    <tr style=\"text-align: right;\">\n",
       "      <th></th>\n",
       "      <th>patient</th>\n",
       "      <th>sex</th>\n",
       "      <th>agegrp</th>\n",
       "      <th>bp_before</th>\n",
       "      <th>bp_after</th>\n",
       "      <th>bp_b</th>\n",
       "    </tr>\n",
       "  </thead>\n",
       "  <tbody>\n",
       "    <tr>\n",
       "      <th>0</th>\n",
       "      <td>1</td>\n",
       "      <td>Male</td>\n",
       "      <td>30-45</td>\n",
       "      <td>143</td>\n",
       "      <td>153</td>\n",
       "      <td>4.962845</td>\n",
       "    </tr>\n",
       "    <tr>\n",
       "      <th>1</th>\n",
       "      <td>2</td>\n",
       "      <td>Male</td>\n",
       "      <td>30-45</td>\n",
       "      <td>163</td>\n",
       "      <td>170</td>\n",
       "      <td>5.093750</td>\n",
       "    </tr>\n",
       "    <tr>\n",
       "      <th>2</th>\n",
       "      <td>3</td>\n",
       "      <td>Male</td>\n",
       "      <td>30-45</td>\n",
       "      <td>153</td>\n",
       "      <td>168</td>\n",
       "      <td>5.030438</td>\n",
       "    </tr>\n",
       "    <tr>\n",
       "      <th>3</th>\n",
       "      <td>4</td>\n",
       "      <td>Male</td>\n",
       "      <td>30-45</td>\n",
       "      <td>153</td>\n",
       "      <td>142</td>\n",
       "      <td>5.030438</td>\n",
       "    </tr>\n",
       "    <tr>\n",
       "      <th>4</th>\n",
       "      <td>5</td>\n",
       "      <td>Male</td>\n",
       "      <td>30-45</td>\n",
       "      <td>146</td>\n",
       "      <td>141</td>\n",
       "      <td>4.983607</td>\n",
       "    </tr>\n",
       "    <tr>\n",
       "      <th>...</th>\n",
       "      <td>...</td>\n",
       "      <td>...</td>\n",
       "      <td>...</td>\n",
       "      <td>...</td>\n",
       "      <td>...</td>\n",
       "      <td>...</td>\n",
       "    </tr>\n",
       "    <tr>\n",
       "      <th>115</th>\n",
       "      <td>116</td>\n",
       "      <td>Female</td>\n",
       "      <td>60+</td>\n",
       "      <td>152</td>\n",
       "      <td>152</td>\n",
       "      <td>5.023881</td>\n",
       "    </tr>\n",
       "    <tr>\n",
       "      <th>116</th>\n",
       "      <td>117</td>\n",
       "      <td>Female</td>\n",
       "      <td>60+</td>\n",
       "      <td>161</td>\n",
       "      <td>152</td>\n",
       "      <td>5.081404</td>\n",
       "    </tr>\n",
       "    <tr>\n",
       "      <th>117</th>\n",
       "      <td>118</td>\n",
       "      <td>Female</td>\n",
       "      <td>60+</td>\n",
       "      <td>165</td>\n",
       "      <td>174</td>\n",
       "      <td>5.105945</td>\n",
       "    </tr>\n",
       "    <tr>\n",
       "      <th>118</th>\n",
       "      <td>119</td>\n",
       "      <td>Female</td>\n",
       "      <td>60+</td>\n",
       "      <td>149</td>\n",
       "      <td>151</td>\n",
       "      <td>5.003946</td>\n",
       "    </tr>\n",
       "    <tr>\n",
       "      <th>119</th>\n",
       "      <td>120</td>\n",
       "      <td>Female</td>\n",
       "      <td>60+</td>\n",
       "      <td>185</td>\n",
       "      <td>163</td>\n",
       "      <td>5.220356</td>\n",
       "    </tr>\n",
       "  </tbody>\n",
       "</table>\n",
       "<p>120 rows × 6 columns</p>\n",
       "</div>"
      ],
      "text/plain": [
       "     patient     sex agegrp  bp_before  bp_after      bp_b\n",
       "0          1    Male  30-45        143       153  4.962845\n",
       "1          2    Male  30-45        163       170  5.093750\n",
       "2          3    Male  30-45        153       168  5.030438\n",
       "3          4    Male  30-45        153       142  5.030438\n",
       "4          5    Male  30-45        146       141  4.983607\n",
       "..       ...     ...    ...        ...       ...       ...\n",
       "115      116  Female    60+        152       152  5.023881\n",
       "116      117  Female    60+        161       152  5.081404\n",
       "117      118  Female    60+        165       174  5.105945\n",
       "118      119  Female    60+        149       151  5.003946\n",
       "119      120  Female    60+        185       163  5.220356\n",
       "\n",
       "[120 rows x 6 columns]"
      ]
     },
     "execution_count": 14,
     "metadata": {},
     "output_type": "execute_result"
    }
   ],
   "source": [
    "df1"
   ]
  },
  {
   "cell_type": "code",
   "execution_count": 16,
   "id": "7c5c454f",
   "metadata": {},
   "outputs": [
    {
     "data": {
      "image/png": "[encoded data removed]",
      "text/plain": [
       "<Figure size 432x288 with 1 Axes>"
      ]
     },
     "metadata": {
      "needs_background": "light"
     },
     "output_type": "display_data"
    }
   ],
   "source": [
    "st.probplot(df1[\"bp_b\"],dist=\"norm\",plot=pylab);"
   ]
  },
  {
   "cell_type": "code",
   "execution_count": 18,
   "id": "5e4eeb98",
   "metadata": {},
   "outputs": [],
   "source": [
    "df1[\"bp_b\"]=np.exp(df1[\"bp_before\"])             #POWER(EXPONENTIAL) TRANSFORMATION"
   ]
  },
  {
   "cell_type": "code",
   "execution_count": 24,
   "id": "7270a83a",
   "metadata": {},
   "outputs": [
    {
     "data": {
      "image/png": "[encoded data removed]",
      "text/plain": [
       "<Figure size 432x288 with 1 Axes>"
      ]
     },
     "metadata": {
      "needs_background": "light"
     },
     "output_type": "display_data"
    }
   ],
   "source": [
    "st.probplot(df1[\"bp_b\"],dist=\"norm\",plot=pylab);"
   ]
  },
  {
   "cell_type": "code",
   "execution_count": 27,
   "id": "714ba695",
   "metadata": {},
   "outputs": [
    {
     "data": {
      "text/plain": [
       "(array([0.33448307, 0.33448311, 0.33448309, 0.33448309, 0.33448308,\n",
       "        0.33448308, 0.33448308, 0.33448309, 0.33448309, 0.3344831 ,\n",
       "        0.33448308, 0.33448312, 0.33448311, 0.33448307, 0.33448307,\n",
       "        0.33448309, 0.33448306, 0.33448312, 0.33448307, 0.33448311,\n",
       "        0.33448308, 0.3344831 , 0.33448309, 0.3344831 , 0.33448311,\n",
       "        0.33448309, 0.33448309, 0.33448307, 0.33448311, 0.33448309,\n",
       "        0.33448312, 0.33448313, 0.33448311, 0.33448308, 0.33448312,\n",
       "        0.3344831 , 0.33448308, 0.33448306, 0.33448313, 0.3344831 ,\n",
       "        0.3344831 , 0.3344831 , 0.33448311, 0.3344831 , 0.33448313,\n",
       "        0.33448309, 0.33448312, 0.3344831 , 0.33448312, 0.33448312,\n",
       "        0.33448312, 0.33448312, 0.33448312, 0.33448312, 0.33448312,\n",
       "        0.33448311, 0.33448308, 0.33448309, 0.33448312, 0.33448311,\n",
       "        0.33448309, 0.33448308, 0.33448307, 0.33448307, 0.3344831 ,\n",
       "        0.33448308, 0.33448309, 0.33448309, 0.33448308, 0.33448305,\n",
       "        0.33448311, 0.3344831 , 0.33448306, 0.33448311, 0.33448308,\n",
       "        0.33448307, 0.33448307, 0.33448311, 0.33448308, 0.33448307,\n",
       "        0.3344831 , 0.33448312, 0.33448308, 0.33448308, 0.33448311,\n",
       "        0.33448309, 0.33448307, 0.3344831 , 0.33448308, 0.3344831 ,\n",
       "        0.33448307, 0.33448311, 0.33448307, 0.33448307, 0.3344831 ,\n",
       "        0.33448306, 0.33448307, 0.33448307, 0.33448307, 0.33448307,\n",
       "        0.33448311, 0.33448307, 0.33448308, 0.33448308, 0.33448311,\n",
       "        0.33448312, 0.33448312, 0.33448309, 0.33448309, 0.33448311,\n",
       "        0.33448313, 0.3344831 , 0.33448308, 0.33448309, 0.33448311,\n",
       "        0.33448309, 0.3344831 , 0.33448311, 0.33448308, 0.33448313]),\n",
       " -2.9896868809483887)"
      ]
     },
     "execution_count": 27,
     "metadata": {},
     "output_type": "execute_result"
    }
   ],
   "source": [
    "x=st.boxcox(df1[\"bp_before\"])      #BOXCOX TRANSFORMATION\n",
    "x"
   ]
  },
  {
   "cell_type": "code",
   "execution_count": 30,
   "id": "06de7eeb",
   "metadata": {},
   "outputs": [
    {
     "data": {
      "image/png": "[encoded data removed]",
      "text/plain": [
       "<Figure size 432x288 with 1 Axes>"
      ]
     },
     "metadata": {
      "needs_background": "light"
     },
     "output_type": "display_data"
    }
   ],
   "source": [
    "st.probplot(x[0],dist=\"norm\",plot=pylab);   #checking boxcox by qqplot    x[0]"
   ]
  },
  {
   "cell_type": "code",
   "execution_count": null,
   "id": "f9d11b78",
   "metadata": {},
   "outputs": [],
   "source": [
    "__________________________________________________________________________________________________________________________"
   ]
  },
  {
   "cell_type": "code",
   "execution_count": 36,
   "id": "51973d28",
   "metadata": {},
   "outputs": [
    {
     "data": {
      "text/plain": [
       "25.694537815126054"
      ]
     },
     "execution_count": 36,
     "metadata": {},
     "output_type": "execute_result"
    }
   ],
   "source": [
    "x_bar  = df1[\"bp_before\"].mean()\n",
    "y_bar  = df1[\"bp_after\"].mean()\n",
    "x11,x22 = [],[]\n",
    "for i in df1[\"bp_before\"]:\n",
    "    x1 = i-x_bar\n",
    "    x11.append(x1)\n",
    "for j in df1[\"bp_after\"]:\n",
    "    x2 = j-y_bar\n",
    "    x22.append(x2)\n",
    "cov = (np.array(x11)*np.array(x22)).sum()/(df1.shape[0]-1)\n",
    "cov"
   ]
  },
  {
   "cell_type": "code",
   "execution_count": 37,
   "id": "1b506ddf",
   "metadata": {},
   "outputs": [
    {
     "data": {
      "text/html": [
       "<div>\n",
       "<style scoped>\n",
       "    .dataframe tbody tr th:only-of-type {\n",
       "        vertical-align: middle;\n",
       "    }\n",
       "\n",
       "    .dataframe tbody tr th {\n",
       "        vertical-align: top;\n",
       "    }\n",
       "\n",
       "    .dataframe thead th {\n",
       "        text-align: right;\n",
       "    }\n",
       "</style>\n",
       "<table border=\"1\" class=\"dataframe\">\n",
       "  <thead>\n",
       "    <tr style=\"text-align: right;\">\n",
       "      <th></th>\n",
       "      <th>sepal_length</th>\n",
       "      <th>sepal_width</th>\n",
       "      <th>petal_length</th>\n",
       "      <th>petal_width</th>\n",
       "      <th>species</th>\n",
       "    </tr>\n",
       "  </thead>\n",
       "  <tbody>\n",
       "    <tr>\n",
       "      <th>0</th>\n",
       "      <td>5.1</td>\n",
       "      <td>3.5</td>\n",
       "      <td>1.4</td>\n",
       "      <td>0.2</td>\n",
       "      <td>setosa</td>\n",
       "    </tr>\n",
       "    <tr>\n",
       "      <th>1</th>\n",
       "      <td>4.9</td>\n",
       "      <td>3.0</td>\n",
       "      <td>1.4</td>\n",
       "      <td>0.2</td>\n",
       "      <td>setosa</td>\n",
       "    </tr>\n",
       "    <tr>\n",
       "      <th>2</th>\n",
       "      <td>4.7</td>\n",
       "      <td>3.2</td>\n",
       "      <td>1.3</td>\n",
       "      <td>0.2</td>\n",
       "      <td>setosa</td>\n",
       "    </tr>\n",
       "    <tr>\n",
       "      <th>3</th>\n",
       "      <td>4.6</td>\n",
       "      <td>3.1</td>\n",
       "      <td>1.5</td>\n",
       "      <td>0.2</td>\n",
       "      <td>setosa</td>\n",
       "    </tr>\n",
       "    <tr>\n",
       "      <th>4</th>\n",
       "      <td>5.0</td>\n",
       "      <td>3.6</td>\n",
       "      <td>1.4</td>\n",
       "      <td>0.2</td>\n",
       "      <td>setosa</td>\n",
       "    </tr>\n",
       "    <tr>\n",
       "      <th>...</th>\n",
       "      <td>...</td>\n",
       "      <td>...</td>\n",
       "      <td>...</td>\n",
       "      <td>...</td>\n",
       "      <td>...</td>\n",
       "    </tr>\n",
       "    <tr>\n",
       "      <th>145</th>\n",
       "      <td>6.7</td>\n",
       "      <td>3.0</td>\n",
       "      <td>5.2</td>\n",
       "      <td>2.3</td>\n",
       "      <td>virginica</td>\n",
       "    </tr>\n",
       "    <tr>\n",
       "      <th>146</th>\n",
       "      <td>6.3</td>\n",
       "      <td>2.5</td>\n",
       "      <td>5.0</td>\n",
       "      <td>1.9</td>\n",
       "      <td>virginica</td>\n",
       "    </tr>\n",
       "    <tr>\n",
       "      <th>147</th>\n",
       "      <td>6.5</td>\n",
       "      <td>3.0</td>\n",
       "      <td>5.2</td>\n",
       "      <td>2.0</td>\n",
       "      <td>virginica</td>\n",
       "    </tr>\n",
       "    <tr>\n",
       "      <th>148</th>\n",
       "      <td>6.2</td>\n",
       "      <td>3.4</td>\n",
       "      <td>5.4</td>\n",
       "      <td>2.3</td>\n",
       "      <td>virginica</td>\n",
       "    </tr>\n",
       "    <tr>\n",
       "      <th>149</th>\n",
       "      <td>5.9</td>\n",
       "      <td>3.0</td>\n",
       "      <td>5.1</td>\n",
       "      <td>1.8</td>\n",
       "      <td>virginica</td>\n",
       "    </tr>\n",
       "  </tbody>\n",
       "</table>\n",
       "<p>150 rows × 5 columns</p>\n",
       "</div>"
      ],
      "text/plain": [
       "     sepal_length  sepal_width  petal_length  petal_width    species\n",
       "0             5.1          3.5           1.4          0.2     setosa\n",
       "1             4.9          3.0           1.4          0.2     setosa\n",
       "2             4.7          3.2           1.3          0.2     setosa\n",
       "3             4.6          3.1           1.5          0.2     setosa\n",
       "4             5.0          3.6           1.4          0.2     setosa\n",
       "..            ...          ...           ...          ...        ...\n",
       "145           6.7          3.0           5.2          2.3  virginica\n",
       "146           6.3          2.5           5.0          1.9  virginica\n",
       "147           6.5          3.0           5.2          2.0  virginica\n",
       "148           6.2          3.4           5.4          2.3  virginica\n",
       "149           5.9          3.0           5.1          1.8  virginica\n",
       "\n",
       "[150 rows x 5 columns]"
      ]
     },
     "execution_count": 37,
     "metadata": {},
     "output_type": "execute_result"
    }
   ],
   "source": [
    "df2=sns.load_dataset(\"iris\")\n",
    "df2"
   ]
  },
  {
   "cell_type": "code",
   "execution_count": 38,
   "id": "da4c26aa",
   "metadata": {},
   "outputs": [
    {
     "data": {
      "text/html": [
       "<div>\n",
       "<style scoped>\n",
       "    .dataframe tbody tr th:only-of-type {\n",
       "        vertical-align: middle;\n",
       "    }\n",
       "\n",
       "    .dataframe tbody tr th {\n",
       "        vertical-align: top;\n",
       "    }\n",
       "\n",
       "    .dataframe thead th {\n",
       "        text-align: right;\n",
       "    }\n",
       "</style>\n",
       "<table border=\"1\" class=\"dataframe\">\n",
       "  <thead>\n",
       "    <tr style=\"text-align: right;\">\n",
       "      <th></th>\n",
       "      <th>sepal_length</th>\n",
       "      <th>sepal_width</th>\n",
       "      <th>petal_length</th>\n",
       "      <th>petal_width</th>\n",
       "    </tr>\n",
       "  </thead>\n",
       "  <tbody>\n",
       "    <tr>\n",
       "      <th>sepal_length</th>\n",
       "      <td>1.000000</td>\n",
       "      <td>-0.117570</td>\n",
       "      <td>0.871754</td>\n",
       "      <td>0.817941</td>\n",
       "    </tr>\n",
       "    <tr>\n",
       "      <th>sepal_width</th>\n",
       "      <td>-0.117570</td>\n",
       "      <td>1.000000</td>\n",
       "      <td>-0.428440</td>\n",
       "      <td>-0.366126</td>\n",
       "    </tr>\n",
       "    <tr>\n",
       "      <th>petal_length</th>\n",
       "      <td>0.871754</td>\n",
       "      <td>-0.428440</td>\n",
       "      <td>1.000000</td>\n",
       "      <td>0.962865</td>\n",
       "    </tr>\n",
       "    <tr>\n",
       "      <th>petal_width</th>\n",
       "      <td>0.817941</td>\n",
       "      <td>-0.366126</td>\n",
       "      <td>0.962865</td>\n",
       "      <td>1.000000</td>\n",
       "    </tr>\n",
       "  </tbody>\n",
       "</table>\n",
       "</div>"
      ],
      "text/plain": [
       "              sepal_length  sepal_width  petal_length  petal_width\n",
       "sepal_length      1.000000    -0.117570      0.871754     0.817941\n",
       "sepal_width      -0.117570     1.000000     -0.428440    -0.366126\n",
       "petal_length      0.871754    -0.428440      1.000000     0.962865\n",
       "petal_width       0.817941    -0.366126      0.962865     1.000000"
      ]
     },
     "execution_count": 38,
     "metadata": {},
     "output_type": "execute_result"
    }
   ],
   "source": [
    "df2.corr()             #corellation between these columns"
   ]
  },
  {
   "cell_type": "markdown",
   "id": "4433fac0",
   "metadata": {},
   "source": [
    "# one tail and two tail test (ztest ttest)"
   ]
  },
  {
   "cell_type": "code",
   "execution_count": 3,
   "id": "f03765fc",
   "metadata": {},
   "outputs": [
    {
     "data": {
      "text/html": [
       "<div>\n",
       "<style scoped>\n",
       "    .dataframe tbody tr th:only-of-type {\n",
       "        vertical-align: middle;\n",
       "    }\n",
       "\n",
       "    .dataframe tbody tr th {\n",
       "        vertical-align: top;\n",
       "    }\n",
       "\n",
       "    .dataframe thead th {\n",
       "        text-align: right;\n",
       "    }\n",
       "</style>\n",
       "<table border=\"1\" class=\"dataframe\">\n",
       "  <thead>\n",
       "    <tr style=\"text-align: right;\">\n",
       "      <th></th>\n",
       "      <th>patient</th>\n",
       "      <th>sex</th>\n",
       "      <th>agegrp</th>\n",
       "      <th>bp_before</th>\n",
       "      <th>bp_after</th>\n",
       "    </tr>\n",
       "  </thead>\n",
       "  <tbody>\n",
       "    <tr>\n",
       "      <th>0</th>\n",
       "      <td>1</td>\n",
       "      <td>Male</td>\n",
       "      <td>30-45</td>\n",
       "      <td>143</td>\n",
       "      <td>153</td>\n",
       "    </tr>\n",
       "    <tr>\n",
       "      <th>1</th>\n",
       "      <td>2</td>\n",
       "      <td>Male</td>\n",
       "      <td>30-45</td>\n",
       "      <td>163</td>\n",
       "      <td>170</td>\n",
       "    </tr>\n",
       "    <tr>\n",
       "      <th>2</th>\n",
       "      <td>3</td>\n",
       "      <td>Male</td>\n",
       "      <td>30-45</td>\n",
       "      <td>153</td>\n",
       "      <td>168</td>\n",
       "    </tr>\n",
       "    <tr>\n",
       "      <th>3</th>\n",
       "      <td>4</td>\n",
       "      <td>Male</td>\n",
       "      <td>30-45</td>\n",
       "      <td>153</td>\n",
       "      <td>142</td>\n",
       "    </tr>\n",
       "    <tr>\n",
       "      <th>4</th>\n",
       "      <td>5</td>\n",
       "      <td>Male</td>\n",
       "      <td>30-45</td>\n",
       "      <td>146</td>\n",
       "      <td>141</td>\n",
       "    </tr>\n",
       "    <tr>\n",
       "      <th>...</th>\n",
       "      <td>...</td>\n",
       "      <td>...</td>\n",
       "      <td>...</td>\n",
       "      <td>...</td>\n",
       "      <td>...</td>\n",
       "    </tr>\n",
       "    <tr>\n",
       "      <th>115</th>\n",
       "      <td>116</td>\n",
       "      <td>Female</td>\n",
       "      <td>60+</td>\n",
       "      <td>152</td>\n",
       "      <td>152</td>\n",
       "    </tr>\n",
       "    <tr>\n",
       "      <th>116</th>\n",
       "      <td>117</td>\n",
       "      <td>Female</td>\n",
       "      <td>60+</td>\n",
       "      <td>161</td>\n",
       "      <td>152</td>\n",
       "    </tr>\n",
       "    <tr>\n",
       "      <th>117</th>\n",
       "      <td>118</td>\n",
       "      <td>Female</td>\n",
       "      <td>60+</td>\n",
       "      <td>165</td>\n",
       "      <td>174</td>\n",
       "    </tr>\n",
       "    <tr>\n",
       "      <th>118</th>\n",
       "      <td>119</td>\n",
       "      <td>Female</td>\n",
       "      <td>60+</td>\n",
       "      <td>149</td>\n",
       "      <td>151</td>\n",
       "    </tr>\n",
       "    <tr>\n",
       "      <th>119</th>\n",
       "      <td>120</td>\n",
       "      <td>Female</td>\n",
       "      <td>60+</td>\n",
       "      <td>185</td>\n",
       "      <td>163</td>\n",
       "    </tr>\n",
       "  </tbody>\n",
       "</table>\n",
       "<p>120 rows × 5 columns</p>\n",
       "</div>"
      ],
      "text/plain": [
       "     patient     sex agegrp  bp_before  bp_after\n",
       "0          1    Male  30-45        143       153\n",
       "1          2    Male  30-45        163       170\n",
       "2          3    Male  30-45        153       168\n",
       "3          4    Male  30-45        153       142\n",
       "4          5    Male  30-45        146       141\n",
       "..       ...     ...    ...        ...       ...\n",
       "115      116  Female    60+        152       152\n",
       "116      117  Female    60+        161       152\n",
       "117      118  Female    60+        165       174\n",
       "118      119  Female    60+        149       151\n",
       "119      120  Female    60+        185       163\n",
       "\n",
       "[120 rows x 5 columns]"
      ]
     },
     "execution_count": 3,
     "metadata": {},
     "output_type": "execute_result"
    }
   ],
   "source": [
    "df1=pd.read_csv(\"C:\\\\Users\\\\Neeraj\\\\Desktop\\\\bloodpressure.csv\")\n",
    "df1"
   ]
  },
  {
   "cell_type": "code",
   "execution_count": 5,
   "id": "5f272cf8",
   "metadata": {},
   "outputs": [
    {
     "data": {
      "text/plain": [
       "156.45"
      ]
     },
     "execution_count": 5,
     "metadata": {},
     "output_type": "execute_result"
    }
   ],
   "source": [
    "df1[\"bp_before\"].mean()   #population mean"
   ]
  },
  {
   "cell_type": "code",
   "execution_count": 6,
   "id": "6373d3d7",
   "metadata": {},
   "outputs": [
    {
     "data": {
      "text/plain": [
       "151.35833333333332"
      ]
     },
     "execution_count": 6,
     "metadata": {},
     "output_type": "execute_result"
    }
   ],
   "source": [
    "df1[\"bp_after\"].mean()    "
   ]
  },
  {
   "cell_type": "code",
   "execution_count": 7,
   "id": "169726c1",
   "metadata": {},
   "outputs": [],
   "source": [
    "x=df1[\"bp_before\"][0:40]   #taking sample"
   ]
  },
  {
   "cell_type": "code",
   "execution_count": 42,
   "id": "0c8f7953",
   "metadata": {},
   "outputs": [
    {
     "data": {
      "text/plain": [
       "156.25"
      ]
     },
     "execution_count": 42,
     "metadata": {},
     "output_type": "execute_result"
    }
   ],
   "source": [
    "a=x.mean() \n",
    "a                           #sample mean"
   ]
  },
  {
   "cell_type": "code",
   "execution_count": 9,
   "id": "ec65dbef",
   "metadata": {},
   "outputs": [
    {
     "data": {
      "text/plain": [
       "11.443842818806035"
      ]
     },
     "execution_count": 9,
     "metadata": {},
     "output_type": "execute_result"
    }
   ],
   "source": [
    "st=x.std()\n",
    "st"
   ]
  },
  {
   "cell_type": "code",
   "execution_count": 34,
   "id": "c5401370",
   "metadata": {},
   "outputs": [],
   "source": [
    "z_val,p_val=zt(x,value=156,alternative=\"two-sided\")   #test function"
   ]
  },
  {
   "cell_type": "code",
   "execution_count": 35,
   "id": "afeaffa3",
   "metadata": {},
   "outputs": [
    {
     "data": {
      "text/plain": [
       "0.1381650250810727"
      ]
     },
     "execution_count": 35,
     "metadata": {},
     "output_type": "execute_result"
    }
   ],
   "source": [
    "z_val"
   ]
  },
  {
   "cell_type": "code",
   "execution_count": 36,
   "id": "d5a77704",
   "metadata": {},
   "outputs": [
    {
     "data": {
      "text/plain": [
       "0.890109995889419"
      ]
     },
     "execution_count": 36,
     "metadata": {},
     "output_type": "execute_result"
    }
   ],
   "source": [
    "p_val"
   ]
  },
  {
   "cell_type": "code",
   "execution_count": 37,
   "id": "f7334d44",
   "metadata": {},
   "outputs": [
    {
     "name": "stdout",
     "output_type": "stream",
     "text": [
      "accept null hypo\n"
     ]
    }
   ],
   "source": [
    "alpha=0.05\n",
    "if p_val<alpha:\n",
    "    print(\"reject null hypo\")\n",
    "else:\n",
    "    print(\"accept null hypo\")"
   ]
  },
  {
   "cell_type": "code",
   "execution_count": null,
   "id": "d130eb37",
   "metadata": {},
   "outputs": [],
   "source": []
  },
  {
   "cell_type": "code",
   "execution_count": null,
   "id": "29342c43",
   "metadata": {},
   "outputs": [],
   "source": []
  },
  {
   "cell_type": "code",
   "execution_count": null,
   "id": "3e183541",
   "metadata": {},
   "outputs": [],
   "source": []
  },
  {
   "cell_type": "code",
   "execution_count": 12,
   "id": "12e2527b",
   "metadata": {},
   "outputs": [],
   "source": [
    "df=sns.load_dataset(\"iris\")"
   ]
  },
  {
   "cell_type": "code",
   "execution_count": 13,
   "id": "ab803619",
   "metadata": {},
   "outputs": [
    {
     "data": {
      "text/plain": [
       "3.7580000000000027"
      ]
     },
     "execution_count": 13,
     "metadata": {},
     "output_type": "execute_result"
    }
   ],
   "source": [
    "df[\"petal_length\"].mean()"
   ]
  },
  {
   "cell_type": "code",
   "execution_count": 15,
   "id": "b8907016",
   "metadata": {},
   "outputs": [
    {
     "data": {
      "text/plain": [
       "1.46"
      ]
     },
     "execution_count": 15,
     "metadata": {},
     "output_type": "execute_result"
    }
   ],
   "source": [
    "df[\"petal_length\"][0:40].mean()"
   ]
  },
  {
   "cell_type": "code",
   "execution_count": 24,
   "id": "0bb57414",
   "metadata": {},
   "outputs": [],
   "source": [
    "z_val,p_val=zt(df[\"petal_length\"][0:40],value=3.7,alternative=\"two-sided\")"
   ]
  },
  {
   "cell_type": "code",
   "execution_count": 25,
   "id": "c52c04be",
   "metadata": {},
   "outputs": [
    {
     "data": {
      "text/plain": [
       "0.0"
      ]
     },
     "execution_count": 25,
     "metadata": {},
     "output_type": "execute_result"
    }
   ],
   "source": [
    "p_val"
   ]
  },
  {
   "cell_type": "code",
   "execution_count": 23,
   "id": "6bd66ab7",
   "metadata": {},
   "outputs": [
    {
     "name": "stdout",
     "output_type": "stream",
     "text": [
      "reject null hypo\n"
     ]
    }
   ],
   "source": [
    "alpha=0.05\n",
    "if p_val<alpha:\n",
    "    print(\"reject null hypo\")\n",
    "else:\n",
    "    print(\"accept null hypo\")"
   ]
  },
  {
   "cell_type": "code",
   "execution_count": null,
   "id": "22b144b7",
   "metadata": {},
   "outputs": [],
   "source": []
  },
  {
   "cell_type": "code",
   "execution_count": null,
   "id": "7bb92d19",
   "metadata": {},
   "outputs": [],
   "source": []
  },
  {
   "cell_type": "markdown",
   "id": "bfe6d0d7",
   "metadata": {},
   "source": [
    "# ---------------------------------------------------------------------------------------------------------"
   ]
  },
  {
   "cell_type": "code",
   "execution_count": 38,
   "id": "c6473110",
   "metadata": {},
   "outputs": [],
   "source": [
    "y=df1[\"bp_after\"][0:40]"
   ]
  },
  {
   "cell_type": "code",
   "execution_count": 43,
   "id": "17bf3f76",
   "metadata": {},
   "outputs": [
    {
     "data": {
      "text/plain": [
       "151.85"
      ]
     },
     "execution_count": 43,
     "metadata": {},
     "output_type": "execute_result"
    }
   ],
   "source": [
    "b=y.mean()     #sample mean 2\n",
    "b"
   ]
  },
  {
   "cell_type": "code",
   "execution_count": 44,
   "id": "00b27676",
   "metadata": {},
   "outputs": [
    {
     "data": {
      "text/plain": [
       "4.400000000000006"
      ]
     },
     "execution_count": 44,
     "metadata": {},
     "output_type": "execute_result"
    }
   ],
   "source": [
    "a-b"
   ]
  },
  {
   "cell_type": "code",
   "execution_count": 50,
   "id": "2fa48fdd",
   "metadata": {},
   "outputs": [
    {
     "name": "stdout",
     "output_type": "stream",
     "text": [
      "-0.03265361220370129\n",
      "0.9739508162439202\n",
      "accept null hypo\n"
     ]
    }
   ],
   "source": [
    "z_val,p_val=zt(x,y,value=4.5,alternative=\"two-sided\")   #x and y are sample and we are checking mean \n",
    "print(z_val)\n",
    "print(p_val)\n",
    "alpha=0.05\n",
    "if p_val<alpha:\n",
    "    print(\"reject null hypo\")\n",
    "else:\n",
    "    print(\"accept null hypo\")"
   ]
  },
  {
   "cell_type": "code",
   "execution_count": 53,
   "id": "c731baee",
   "metadata": {},
   "outputs": [
    {
     "data": {
      "text/plain": [
       "(156.3090844393951, 156.1909155606049)"
      ]
     },
     "execution_count": 53,
     "metadata": {},
     "output_type": "execute_result"
    }
   ],
   "source": [
    "ci_neg = x.mean() - z_val*(x.std()/np.sqrt(40))\n",
    "ci_pos = x.mean() + z_val*(x.std()/np.sqrt(40))\n",
    "ci_neg,ci_pos"
   ]
  },
  {
   "cell_type": "code",
   "execution_count": null,
   "id": "db54ad6c",
   "metadata": {},
   "outputs": [],
   "source": []
  }
 ],
 "metadata": {
  "kernelspec": {
   "display_name": "Python 3 (ipykernel)",
   "language": "python",
   "name": "python3"
  },
  "language_info": {
   "codemirror_mode": {
    "name": "ipython",
    "version": 3
   },
   "file_extension": ".py",
   "mimetype": "text/x-python",
   "name": "python",
   "nbconvert_exporter": "python",
   "pygments_lexer": "ipython3",
   "version": "3.9.7"
  }
 },
 "nbformat": 4,
 "nbformat_minor": 5
}
