{
 "cells": [
  {
   "cell_type": "markdown",
   "id": "b6444359",
   "metadata": {},
   "source": [
    "FILE HANDLING"
   ]
  },
  {
   "cell_type": "code",
   "execution_count": 7,
   "id": "04e63bff",
   "metadata": {},
   "outputs": [
    {
     "data": {
      "text/plain": [
       "56"
      ]
     },
     "execution_count": 7,
     "metadata": {},
     "output_type": "execute_result"
    }
   ],
   "source": [
    "file = open(\"abc.txt\",\"x\")     # x to create\n",
    "file.write(\"the cat is small \\n the dog is black \\n they are friends \\n\")"
   ]
  },
  {
   "cell_type": "code",
   "execution_count": 8,
   "id": "48d9a9fc",
   "metadata": {},
   "outputs": [
    {
     "name": "stdout",
     "output_type": "stream",
     "text": [
      "the cat is small \n",
      "\n",
      " the dog is black \n",
      "\n",
      " they are friends \n",
      "\n"
     ]
    }
   ],
   "source": [
    "file = open(\"abc.txt\",\"r\")   #r to read\n",
    "for i in file:\n",
    "    print(i)"
   ]
  },
  {
   "cell_type": "code",
   "execution_count": 9,
   "id": "d8ca7283",
   "metadata": {},
   "outputs": [
    {
     "name": "stdout",
     "output_type": "stream",
     "text": [
      "the cat is small \n",
      " the dog is black \n",
      " they are friends \n",
      "\n"
     ]
    }
   ],
   "source": [
    "with open(\"abc.txt\") as f:\n",
    "    print(f.read())"
   ]
  },
  {
   "cell_type": "code",
   "execution_count": 5,
   "id": "97fb28a9",
   "metadata": {},
   "outputs": [],
   "source": [
    "with open(\"abc.txt\",\"a\") as f:   #a is for append = ADD\n",
    "    f.write(\"lets go for a walk \\n carry your stuff \\n\")"
   ]
  },
  {
   "cell_type": "code",
   "execution_count": 6,
   "id": "8a1ccb32",
   "metadata": {},
   "outputs": [
    {
     "name": "stdout",
     "output_type": "stream",
     "text": [
      "the cat is small \n",
      " the dog is black \n",
      " they are friends \n",
      "lets go for a walk \n",
      " carry your stuff \n",
      "\n"
     ]
    }
   ],
   "source": [
    "with open(\"abc.txt\") as f:\n",
    "    print(f.read())"
   ]
  },
  {
   "cell_type": "code",
   "execution_count": 7,
   "id": "45f3faca",
   "metadata": {},
   "outputs": [],
   "source": [
    "with open(\"abc.txt\",\"w\") as f:   #w is for overwrite \n",
    "    f.write(\"lets go for a walk \\n carry your stuff \\n\")"
   ]
  },
  {
   "cell_type": "code",
   "execution_count": 8,
   "id": "cbc300fe",
   "metadata": {},
   "outputs": [
    {
     "name": "stdout",
     "output_type": "stream",
     "text": [
      "lets go for a walk \n",
      " carry your stuff \n",
      "\n"
     ]
    }
   ],
   "source": [
    "with open(\"abc.txt\") as f:\n",
    "    print(f.read())"
   ]
  },
  {
   "cell_type": "code",
   "execution_count": 9,
   "id": "01d6902a",
   "metadata": {},
   "outputs": [
    {
     "name": "stdout",
     "output_type": "stream",
     "text": [
      "lets go for a walk \n",
      " carry your stuff \n",
      "\n"
     ]
    }
   ],
   "source": [
    "with open(\"abc.txt\",\"r+\") as f:\n",
    "    print(f.read()) \n",
    "    f.write(\"today is thrusday \\n tomo is festival \\n\")"
   ]
  },
  {
   "cell_type": "code",
   "execution_count": 10,
   "id": "3a006ffc",
   "metadata": {},
   "outputs": [
    {
     "name": "stdout",
     "output_type": "stream",
     "text": [
      "lets go for a walk \n",
      " carry your stuff \n",
      "today is thrusday \n",
      " tomo is festival \n",
      "\n"
     ]
    }
   ],
   "source": [
    "with open(\"abc.txt\") as f:\n",
    "    print(f.read())"
   ]
  },
  {
   "cell_type": "code",
   "execution_count": 11,
   "id": "d9b6168a",
   "metadata": {},
   "outputs": [
    {
     "name": "stdout",
     "output_type": "stream",
     "text": [
      "\n"
     ]
    }
   ],
   "source": [
    "with open(\"abc.txt\",\"a+\") as f:\n",
    "    print(f.read()) \n",
    "    f.write(\"lets go \\n  festival \\n\")"
   ]
  },
  {
   "cell_type": "code",
   "execution_count": 12,
   "id": "2d0ec884",
   "metadata": {},
   "outputs": [
    {
     "name": "stdout",
     "output_type": "stream",
     "text": [
      "lets go for a walk \n",
      " carry your stuff \n",
      "today is thrusday \n",
      " tomo is festival \n",
      "lets go \n",
      "  festival \n",
      "\n"
     ]
    }
   ],
   "source": [
    "with open(\"abc.txt\") as f:\n",
    "    print(f.read())"
   ]
  },
  {
   "cell_type": "code",
   "execution_count": 13,
   "id": "a0d20323",
   "metadata": {},
   "outputs": [
    {
     "name": "stdout",
     "output_type": "stream",
     "text": [
      "\n"
     ]
    }
   ],
   "source": [
    "with open(\"abc.txt\",\"w+\") as f:\n",
    "    print(f.read()) \n",
    "    f.write(\"no \\n  yes \\n\")"
   ]
  },
  {
   "cell_type": "code",
   "execution_count": 14,
   "id": "58a85171",
   "metadata": {},
   "outputs": [
    {
     "name": "stdout",
     "output_type": "stream",
     "text": [
      "no \n",
      "  yes \n",
      "\n"
     ]
    }
   ],
   "source": [
    "with open(\"abc.txt\") as f:\n",
    "    print(f.read())"
   ]
  },
  {
   "cell_type": "code",
   "execution_count": 6,
   "id": "8d3a4c4c",
   "metadata": {},
   "outputs": [
    {
     "ename": "FileExistsError",
     "evalue": "[Errno 17] File exists: 'nee.txt'",
     "output_type": "error",
     "traceback": [
      "\u001b[1;31m---------------------------------------------------------------------------\u001b[0m",
      "\u001b[1;31mFileExistsError\u001b[0m                           Traceback (most recent call last)",
      "\u001b[1;32m~\\AppData\\Local\\Temp/ipykernel_6224/1373468722.py\u001b[0m in \u001b[0;36m<module>\u001b[1;34m\u001b[0m\n\u001b[1;32m----> 1\u001b[1;33m \u001b[0ma\u001b[0m\u001b[1;33m=\u001b[0m\u001b[0mopen\u001b[0m\u001b[1;33m(\u001b[0m\u001b[1;34m\"nee.txt\"\u001b[0m\u001b[1;33m,\u001b[0m\u001b[1;34m\"x\"\u001b[0m\u001b[1;33m)\u001b[0m\u001b[1;33m\u001b[0m\u001b[1;33m\u001b[0m\u001b[0m\n\u001b[0m\u001b[0;32m      2\u001b[0m \u001b[0ma\u001b[0m\u001b[1;33m.\u001b[0m\u001b[0mwrite\u001b[0m\u001b[1;33m(\u001b[0m\u001b[1;34m\"neeraj \\n negi \\n rollno.22 \\n\"\u001b[0m\u001b[1;33m)\u001b[0m\u001b[1;33m\u001b[0m\u001b[1;33m\u001b[0m\u001b[0m\n\u001b[0;32m      3\u001b[0m \u001b[1;33m\u001b[0m\u001b[0m\n\u001b[0;32m      4\u001b[0m \u001b[1;33m\u001b[0m\u001b[0m\n",
      "\u001b[1;31mFileExistsError\u001b[0m: [Errno 17] File exists: 'nee.txt'"
     ]
    }
   ],
   "source": [
    "a=open(\"nee.txt\",\"x\")\n",
    "a.write(\"neeraj \\n negi \\n rollno.22 \\n\")\n",
    "    \n",
    "    "
   ]
  },
  {
   "cell_type": "code",
   "execution_count": 8,
   "id": "ea831d54",
   "metadata": {},
   "outputs": [
    {
     "name": "stdout",
     "output_type": "stream",
     "text": [
      "neeraj \n",
      "\n",
      " negi /n rollno.22 \n",
      "\n"
     ]
    }
   ],
   "source": [
    "a=open(\"nee.txt\",\"r\")\n",
    "for i in a:\n",
    "    print(i)\n"
   ]
  },
  {
   "cell_type": "code",
   "execution_count": 10,
   "id": "c0c0f31a",
   "metadata": {},
   "outputs": [
    {
     "name": "stdout",
     "output_type": "stream",
     "text": [
      "neeraj \n",
      " negi /n rollno.22 \n",
      "\n"
     ]
    }
   ],
   "source": [
    "with open(\"nee.txt\") as g:\n",
    "    print(g.read())"
   ]
  },
  {
   "cell_type": "code",
   "execution_count": 11,
   "id": "44fdedd2",
   "metadata": {},
   "outputs": [],
   "source": [
    "with open(\"nee.txt\",\"a\") as f:\n",
    "    f.write(\"letsgo \\n and\\n pack your \\n bag\")"
   ]
  },
  {
   "cell_type": "code",
   "execution_count": 13,
   "id": "519344f4",
   "metadata": {},
   "outputs": [
    {
     "name": "stdout",
     "output_type": "stream",
     "text": [
      "neeraj \n",
      " negi /n rollno.22 \n",
      "letsgo \n",
      " and\n",
      " pack your \n",
      " bag\n"
     ]
    }
   ],
   "source": [
    "with open(\"nee.txt\",\"r\") as f:\n",
    "    print(f.read())"
   ]
  },
  {
   "cell_type": "code",
   "execution_count": 14,
   "id": "c09e9619",
   "metadata": {},
   "outputs": [
    {
     "data": {
      "text/plain": [
       "23"
      ]
     },
     "execution_count": 14,
     "metadata": {},
     "output_type": "execute_result"
    }
   ],
   "source": [
    "f=open(\"neeraj.txt\",\"x\")\n",
    "f.write(\"neeraj \\n negi \\n class \\n\")"
   ]
  },
  {
   "cell_type": "code",
   "execution_count": 15,
   "id": "6323225a",
   "metadata": {},
   "outputs": [
    {
     "name": "stdout",
     "output_type": "stream",
     "text": [
      "\n"
     ]
    }
   ],
   "source": [
    "with open(\"neeraj.txt\",\"r\") as i:\n",
    "    print(i.read())"
   ]
  },
  {
   "cell_type": "code",
   "execution_count": 5,
   "id": "bf2ee04c",
   "metadata": {},
   "outputs": [
    {
     "data": {
      "text/plain": [
       "15"
      ]
     },
     "execution_count": 5,
     "metadata": {},
     "output_type": "execute_result"
    }
   ],
   "source": [
    "file=open(\"nqq.txt\",\"x\")\n",
    "file.write(\"neeeeraaaaajjjj\")"
   ]
  },
  {
   "cell_type": "code",
   "execution_count": 7,
   "id": "45c54608",
   "metadata": {},
   "outputs": [
    {
     "name": "stdout",
     "output_type": "stream",
     "text": [
      "\n"
     ]
    }
   ],
   "source": [
    "with open(\"nqq.txt\") as f:\n",
    "    print(f.read())"
   ]
  },
  {
   "cell_type": "code",
   "execution_count": null,
   "id": "c68eeb21",
   "metadata": {},
   "outputs": [],
   "source": [
    "with open(\"nee.txt\") as f:\n",
    "    print(f.)"
   ]
  },
  {
   "cell_type": "code",
   "execution_count": 5,
   "id": "3be1cffb",
   "metadata": {},
   "outputs": [
    {
     "name": "stdout",
     "output_type": "stream",
     "text": [
      "\n"
     ]
    }
   ],
   "source": []
  },
  {
   "cell_type": "code",
   "execution_count": 1,
   "id": "bbb798b3",
   "metadata": {},
   "outputs": [
    {
     "data": {
      "text/plain": [
       "11"
      ]
     },
     "execution_count": 1,
     "metadata": {},
     "output_type": "execute_result"
    }
   ],
   "source": []
  },
  {
   "cell_type": "code",
   "execution_count": 2,
   "id": "476ea4b9",
   "metadata": {},
   "outputs": [
    {
     "name": "stdout",
     "output_type": "stream",
     "text": [
      "\n"
     ]
    }
   ],
   "source": []
  },
  {
   "cell_type": "code",
   "execution_count": null,
   "id": "e169d66c",
   "metadata": {},
   "outputs": [],
   "source": []
  }
 ],
 "metadata": {
  "kernelspec": {
   "display_name": "Python 3 (ipykernel)",
   "language": "python",
   "name": "python3"
  },
  "language_info": {
   "codemirror_mode": {
    "name": "ipython",
    "version": 3
   },
   "file_extension": ".py",
   "mimetype": "text/x-python",
   "name": "python",
   "nbconvert_exporter": "python",
   "pygments_lexer": "ipython3",
   "version": "3.9.7"
  }
 },
 "nbformat": 4,
 "nbformat_minor": 5
}
