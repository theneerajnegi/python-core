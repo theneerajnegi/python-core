{
 "cells": [
  {
   "cell_type": "code",
   "execution_count": 1,
   "id": "f8be2e0a",
   "metadata": {},
   "outputs": [],
   "source": [
    "import numpy as np\n",
    "import pandas as pd \n",
    "import seaborn as sns\n",
    "import matplotlib.pyplot as plt"
   ]
  },
  {
   "cell_type": "code",
   "execution_count": 2,
   "id": "465e03d9",
   "metadata": {},
   "outputs": [
    {
     "data": {
      "text/html": [
       "<div>\n",
       "<style scoped>\n",
       "    .dataframe tbody tr th:only-of-type {\n",
       "        vertical-align: middle;\n",
       "    }\n",
       "\n",
       "    .dataframe tbody tr th {\n",
       "        vertical-align: top;\n",
       "    }\n",
       "\n",
       "    .dataframe thead th {\n",
       "        text-align: right;\n",
       "    }\n",
       "</style>\n",
       "<table border=\"1\" class=\"dataframe\">\n",
       "  <thead>\n",
       "    <tr style=\"text-align: right;\">\n",
       "      <th></th>\n",
       "      <th>rank</th>\n",
       "      <th>youtuber</th>\n",
       "      <th>subscribers</th>\n",
       "      <th>video views</th>\n",
       "      <th>video count</th>\n",
       "      <th>category</th>\n",
       "      <th>started</th>\n",
       "    </tr>\n",
       "  </thead>\n",
       "  <tbody>\n",
       "    <tr>\n",
       "      <th>0</th>\n",
       "      <td>1</td>\n",
       "      <td>T-Series</td>\n",
       "      <td>213000000</td>\n",
       "      <td>188,073,919,029</td>\n",
       "      <td>16708.0</td>\n",
       "      <td>Music</td>\n",
       "      <td>2006</td>\n",
       "    </tr>\n",
       "    <tr>\n",
       "      <th>1</th>\n",
       "      <td>2</td>\n",
       "      <td>YouTube Movies</td>\n",
       "      <td>150000000</td>\n",
       "      <td>167,122,746,349</td>\n",
       "      <td>NaN</td>\n",
       "      <td>Film &amp; Animation</td>\n",
       "      <td>2015</td>\n",
       "    </tr>\n",
       "    <tr>\n",
       "      <th>2</th>\n",
       "      <td>3</td>\n",
       "      <td>Cocomelon - Nursery Rhymes</td>\n",
       "      <td>133000000</td>\n",
       "      <td>126,822,520,940</td>\n",
       "      <td>751.0</td>\n",
       "      <td>Education</td>\n",
       "      <td>2006</td>\n",
       "    </tr>\n",
       "    <tr>\n",
       "      <th>3</th>\n",
       "      <td>4</td>\n",
       "      <td>SET India</td>\n",
       "      <td>131000000</td>\n",
       "      <td>101,541,977,714</td>\n",
       "      <td>78334.0</td>\n",
       "      <td>Shows</td>\n",
       "      <td>2006</td>\n",
       "    </tr>\n",
       "    <tr>\n",
       "      <th>4</th>\n",
       "      <td>5</td>\n",
       "      <td>Music</td>\n",
       "      <td>116000000</td>\n",
       "      <td>78,437,871,689</td>\n",
       "      <td>NaN</td>\n",
       "      <td>Music</td>\n",
       "      <td>2013</td>\n",
       "    </tr>\n",
       "    <tr>\n",
       "      <th>...</th>\n",
       "      <td>...</td>\n",
       "      <td>...</td>\n",
       "      <td>...</td>\n",
       "      <td>...</td>\n",
       "      <td>...</td>\n",
       "      <td>...</td>\n",
       "      <td>...</td>\n",
       "    </tr>\n",
       "    <tr>\n",
       "      <th>95</th>\n",
       "      <td>96</td>\n",
       "      <td>Markiplier</td>\n",
       "      <td>32600000</td>\n",
       "      <td>18,011,837,263</td>\n",
       "      <td>5129.0</td>\n",
       "      <td>Gaming</td>\n",
       "      <td>2012</td>\n",
       "    </tr>\n",
       "    <tr>\n",
       "      <th>96</th>\n",
       "      <td>97</td>\n",
       "      <td>Like Nastya ESP</td>\n",
       "      <td>32600000</td>\n",
       "      <td>15,144,858,210</td>\n",
       "      <td>584.0</td>\n",
       "      <td>Entertainment</td>\n",
       "      <td>2017</td>\n",
       "    </tr>\n",
       "    <tr>\n",
       "      <th>97</th>\n",
       "      <td>98</td>\n",
       "      <td>Ryan's World</td>\n",
       "      <td>32400000</td>\n",
       "      <td>51,312,603,726</td>\n",
       "      <td>2155.0</td>\n",
       "      <td>Entertainment</td>\n",
       "      <td>2015</td>\n",
       "    </tr>\n",
       "    <tr>\n",
       "      <th>98</th>\n",
       "      <td>99</td>\n",
       "      <td>ABP News</td>\n",
       "      <td>32300000</td>\n",
       "      <td>9,850,740,503</td>\n",
       "      <td>209351.0</td>\n",
       "      <td>People &amp; Blogs</td>\n",
       "      <td>2012</td>\n",
       "    </tr>\n",
       "    <tr>\n",
       "      <th>99</th>\n",
       "      <td>100</td>\n",
       "      <td>Desi Music Factory</td>\n",
       "      <td>32200000</td>\n",
       "      <td>9,115,577,588</td>\n",
       "      <td>122.0</td>\n",
       "      <td>Music</td>\n",
       "      <td>2014</td>\n",
       "    </tr>\n",
       "  </tbody>\n",
       "</table>\n",
       "<p>100 rows × 7 columns</p>\n",
       "</div>"
      ],
      "text/plain": [
       "    rank                      youtuber  subscribers      video views   \\\n",
       "0       1                    T-Series      213000000  188,073,919,029   \n",
       "1       2              YouTube Movies      150000000  167,122,746,349   \n",
       "2       3  Cocomelon - Nursery Rhymes      133000000  126,822,520,940   \n",
       "3       4                   SET India      131000000  101,541,977,714   \n",
       "4       5                       Music      116000000   78,437,871,689   \n",
       "..    ...                          ...           ...              ...   \n",
       "95     96                  Markiplier       32600000   18,011,837,263   \n",
       "96     97             Like Nastya ESP       32600000   15,144,858,210   \n",
       "97     98                Ryan's World       32400000   51,312,603,726   \n",
       "98     99                    ABP News       32300000    9,850,740,503   \n",
       "99    100          Desi Music Factory       32200000    9,115,577,588   \n",
       "\n",
       "    video count           category   started   \n",
       "0        16708.0             Music       2006  \n",
       "1            NaN  Film & Animation       2015  \n",
       "2          751.0         Education       2006  \n",
       "3        78334.0             Shows       2006  \n",
       "4            NaN             Music       2013  \n",
       "..           ...                ...       ...  \n",
       "95        5129.0            Gaming       2012  \n",
       "96         584.0     Entertainment       2017  \n",
       "97        2155.0     Entertainment       2015  \n",
       "98      209351.0    People & Blogs       2012  \n",
       "99         122.0             Music       2014  \n",
       "\n",
       "[100 rows x 7 columns]"
      ]
     },
     "execution_count": 2,
     "metadata": {},
     "output_type": "execute_result"
    }
   ],
   "source": [
    "df=pd.read_csv(\"C:\\\\Users\\\\Neeraj\\\\Desktop\\\\archive\\\\Top YouTube Channels Data .csv\")\n",
    "df"
   ]
  },
  {
   "cell_type": "code",
   "execution_count": 3,
   "id": "27acf58e",
   "metadata": {},
   "outputs": [
    {
     "data": {
      "text/plain": [
       "(100, 7)"
      ]
     },
     "execution_count": 3,
     "metadata": {},
     "output_type": "execute_result"
    }
   ],
   "source": [
    "df.shape"
   ]
  },
  {
   "cell_type": "code",
   "execution_count": 4,
   "id": "0d8b176b",
   "metadata": {},
   "outputs": [
    {
     "data": {
      "text/plain": [
       "Index(['rank ', 'youtuber', 'subscribers ', 'video views ', 'video count ',\n",
       "       'category ', 'started '],\n",
       "      dtype='object')"
      ]
     },
     "execution_count": 4,
     "metadata": {},
     "output_type": "execute_result"
    }
   ],
   "source": [
    "df.columns"
   ]
  },
  {
   "cell_type": "code",
   "execution_count": 5,
   "id": "89c392d5",
   "metadata": {},
   "outputs": [
    {
     "data": {
      "text/plain": [
       "array(['Music ', 'Film & Animation ', 'Education ', 'Shows ', 'Gaming ',\n",
       "       'Entertainment ', 'People & Blogs ', 'Sports ', 'How to & Style ',\n",
       "       'News & Politics', 'Comedy ', 'Trailers ',\n",
       "       'Nonprofits & Activism '], dtype=object)"
      ]
     },
     "execution_count": 5,
     "metadata": {},
     "output_type": "execute_result"
    }
   ],
   "source": [
    "df['category '].unique()"
   ]
  },
  {
   "cell_type": "code",
   "execution_count": 6,
   "id": "2c7d4405",
   "metadata": {},
   "outputs": [
    {
     "name": "stdout",
     "output_type": "stream",
     "text": [
      "<class 'pandas.core.frame.DataFrame'>\n",
      "RangeIndex: 100 entries, 0 to 99\n",
      "Data columns (total 7 columns):\n",
      " #   Column        Non-Null Count  Dtype  \n",
      "---  ------        --------------  -----  \n",
      " 0   rank          100 non-null    int64  \n",
      " 1   youtuber      100 non-null    object \n",
      " 2   subscribers   100 non-null    int64  \n",
      " 3   video views   100 non-null    object \n",
      " 4   video count   95 non-null     float64\n",
      " 5   category      100 non-null    object \n",
      " 6   started       100 non-null    int64  \n",
      "dtypes: float64(1), int64(3), object(3)\n",
      "memory usage: 5.6+ KB\n"
     ]
    }
   ],
   "source": [
    "df.info()"
   ]
  },
  {
   "cell_type": "code",
   "execution_count": 7,
   "id": "de31973d",
   "metadata": {},
   "outputs": [
    {
     "data": {
      "text/html": [
       "<div>\n",
       "<style scoped>\n",
       "    .dataframe tbody tr th:only-of-type {\n",
       "        vertical-align: middle;\n",
       "    }\n",
       "\n",
       "    .dataframe tbody tr th {\n",
       "        vertical-align: top;\n",
       "    }\n",
       "\n",
       "    .dataframe thead th {\n",
       "        text-align: right;\n",
       "    }\n",
       "</style>\n",
       "<table border=\"1\" class=\"dataframe\">\n",
       "  <thead>\n",
       "    <tr style=\"text-align: right;\">\n",
       "      <th></th>\n",
       "      <th>rank</th>\n",
       "      <th>subscribers</th>\n",
       "      <th>video count</th>\n",
       "      <th>started</th>\n",
       "    </tr>\n",
       "  </thead>\n",
       "  <tbody>\n",
       "    <tr>\n",
       "      <th>count</th>\n",
       "      <td>100.000000</td>\n",
       "      <td>1.000000e+02</td>\n",
       "      <td>95.000000</td>\n",
       "      <td>100.000000</td>\n",
       "    </tr>\n",
       "    <tr>\n",
       "      <th>mean</th>\n",
       "      <td>50.500000</td>\n",
       "      <td>5.336300e+07</td>\n",
       "      <td>15847.221053</td>\n",
       "      <td>2010.800000</td>\n",
       "    </tr>\n",
       "    <tr>\n",
       "      <th>std</th>\n",
       "      <td>29.011492</td>\n",
       "      <td>2.869713e+07</td>\n",
       "      <td>40955.200388</td>\n",
       "      <td>5.504819</td>\n",
       "    </tr>\n",
       "    <tr>\n",
       "      <th>min</th>\n",
       "      <td>1.000000</td>\n",
       "      <td>3.220000e+07</td>\n",
       "      <td>45.000000</td>\n",
       "      <td>1970.000000</td>\n",
       "    </tr>\n",
       "    <tr>\n",
       "      <th>25%</th>\n",
       "      <td>25.750000</td>\n",
       "      <td>3.620000e+07</td>\n",
       "      <td>393.500000</td>\n",
       "      <td>2007.750000</td>\n",
       "    </tr>\n",
       "    <tr>\n",
       "      <th>50%</th>\n",
       "      <td>50.500000</td>\n",
       "      <td>4.320000e+07</td>\n",
       "      <td>1139.000000</td>\n",
       "      <td>2012.000000</td>\n",
       "    </tr>\n",
       "    <tr>\n",
       "      <th>75%</th>\n",
       "      <td>75.250000</td>\n",
       "      <td>5.710000e+07</td>\n",
       "      <td>4986.000000</td>\n",
       "      <td>2014.000000</td>\n",
       "    </tr>\n",
       "    <tr>\n",
       "      <th>max</th>\n",
       "      <td>100.000000</td>\n",
       "      <td>2.130000e+08</td>\n",
       "      <td>209351.000000</td>\n",
       "      <td>2018.000000</td>\n",
       "    </tr>\n",
       "  </tbody>\n",
       "</table>\n",
       "</div>"
      ],
      "text/plain": [
       "            rank   subscribers    video count      started \n",
       "count  100.000000  1.000000e+02      95.000000   100.000000\n",
       "mean    50.500000  5.336300e+07   15847.221053  2010.800000\n",
       "std     29.011492  2.869713e+07   40955.200388     5.504819\n",
       "min      1.000000  3.220000e+07      45.000000  1970.000000\n",
       "25%     25.750000  3.620000e+07     393.500000  2007.750000\n",
       "50%     50.500000  4.320000e+07    1139.000000  2012.000000\n",
       "75%     75.250000  5.710000e+07    4986.000000  2014.000000\n",
       "max    100.000000  2.130000e+08  209351.000000  2018.000000"
      ]
     },
     "execution_count": 7,
     "metadata": {},
     "output_type": "execute_result"
    }
   ],
   "source": [
    "df.describe()"
   ]
  },
  {
   "cell_type": "code",
   "execution_count": 8,
   "id": "c4599293",
   "metadata": {},
   "outputs": [
    {
     "data": {
      "text/html": [
       "<div>\n",
       "<style scoped>\n",
       "    .dataframe tbody tr th:only-of-type {\n",
       "        vertical-align: middle;\n",
       "    }\n",
       "\n",
       "    .dataframe tbody tr th {\n",
       "        vertical-align: top;\n",
       "    }\n",
       "\n",
       "    .dataframe thead th {\n",
       "        text-align: right;\n",
       "    }\n",
       "</style>\n",
       "<table border=\"1\" class=\"dataframe\">\n",
       "  <thead>\n",
       "    <tr style=\"text-align: right;\">\n",
       "      <th></th>\n",
       "      <th>youtuber</th>\n",
       "      <th>subscribers</th>\n",
       "      <th>video views</th>\n",
       "      <th>video count</th>\n",
       "      <th>category</th>\n",
       "      <th>started</th>\n",
       "    </tr>\n",
       "    <tr>\n",
       "      <th>rank</th>\n",
       "      <th></th>\n",
       "      <th></th>\n",
       "      <th></th>\n",
       "      <th></th>\n",
       "      <th></th>\n",
       "      <th></th>\n",
       "    </tr>\n",
       "  </thead>\n",
       "  <tbody>\n",
       "    <tr>\n",
       "      <th>1</th>\n",
       "      <td>T-Series</td>\n",
       "      <td>213000000</td>\n",
       "      <td>188,073,919,029</td>\n",
       "      <td>16708.0</td>\n",
       "      <td>Music</td>\n",
       "      <td>2006</td>\n",
       "    </tr>\n",
       "    <tr>\n",
       "      <th>2</th>\n",
       "      <td>YouTube Movies</td>\n",
       "      <td>150000000</td>\n",
       "      <td>167,122,746,349</td>\n",
       "      <td>NaN</td>\n",
       "      <td>Film &amp; Animation</td>\n",
       "      <td>2015</td>\n",
       "    </tr>\n",
       "    <tr>\n",
       "      <th>3</th>\n",
       "      <td>Cocomelon - Nursery Rhymes</td>\n",
       "      <td>133000000</td>\n",
       "      <td>126,822,520,940</td>\n",
       "      <td>751.0</td>\n",
       "      <td>Education</td>\n",
       "      <td>2006</td>\n",
       "    </tr>\n",
       "    <tr>\n",
       "      <th>4</th>\n",
       "      <td>SET India</td>\n",
       "      <td>131000000</td>\n",
       "      <td>101,541,977,714</td>\n",
       "      <td>78334.0</td>\n",
       "      <td>Shows</td>\n",
       "      <td>2006</td>\n",
       "    </tr>\n",
       "    <tr>\n",
       "      <th>5</th>\n",
       "      <td>Music</td>\n",
       "      <td>116000000</td>\n",
       "      <td>78,437,871,689</td>\n",
       "      <td>NaN</td>\n",
       "      <td>Music</td>\n",
       "      <td>2013</td>\n",
       "    </tr>\n",
       "    <tr>\n",
       "      <th>...</th>\n",
       "      <td>...</td>\n",
       "      <td>...</td>\n",
       "      <td>...</td>\n",
       "      <td>...</td>\n",
       "      <td>...</td>\n",
       "      <td>...</td>\n",
       "    </tr>\n",
       "    <tr>\n",
       "      <th>96</th>\n",
       "      <td>Markiplier</td>\n",
       "      <td>32600000</td>\n",
       "      <td>18,011,837,263</td>\n",
       "      <td>5129.0</td>\n",
       "      <td>Gaming</td>\n",
       "      <td>2012</td>\n",
       "    </tr>\n",
       "    <tr>\n",
       "      <th>97</th>\n",
       "      <td>Like Nastya ESP</td>\n",
       "      <td>32600000</td>\n",
       "      <td>15,144,858,210</td>\n",
       "      <td>584.0</td>\n",
       "      <td>Entertainment</td>\n",
       "      <td>2017</td>\n",
       "    </tr>\n",
       "    <tr>\n",
       "      <th>98</th>\n",
       "      <td>Ryan's World</td>\n",
       "      <td>32400000</td>\n",
       "      <td>51,312,603,726</td>\n",
       "      <td>2155.0</td>\n",
       "      <td>Entertainment</td>\n",
       "      <td>2015</td>\n",
       "    </tr>\n",
       "    <tr>\n",
       "      <th>99</th>\n",
       "      <td>ABP News</td>\n",
       "      <td>32300000</td>\n",
       "      <td>9,850,740,503</td>\n",
       "      <td>209351.0</td>\n",
       "      <td>People &amp; Blogs</td>\n",
       "      <td>2012</td>\n",
       "    </tr>\n",
       "    <tr>\n",
       "      <th>100</th>\n",
       "      <td>Desi Music Factory</td>\n",
       "      <td>32200000</td>\n",
       "      <td>9,115,577,588</td>\n",
       "      <td>122.0</td>\n",
       "      <td>Music</td>\n",
       "      <td>2014</td>\n",
       "    </tr>\n",
       "  </tbody>\n",
       "</table>\n",
       "<p>100 rows × 6 columns</p>\n",
       "</div>"
      ],
      "text/plain": [
       "                          youtuber  subscribers      video views   \\\n",
       "rank                                                                \n",
       "1                        T-Series      213000000  188,073,919,029   \n",
       "2                  YouTube Movies      150000000  167,122,746,349   \n",
       "3      Cocomelon - Nursery Rhymes      133000000  126,822,520,940   \n",
       "4                       SET India      131000000  101,541,977,714   \n",
       "5                           Music      116000000   78,437,871,689   \n",
       "...                            ...           ...              ...   \n",
       "96                     Markiplier       32600000   18,011,837,263   \n",
       "97                Like Nastya ESP       32600000   15,144,858,210   \n",
       "98                   Ryan's World       32400000   51,312,603,726   \n",
       "99                       ABP News       32300000    9,850,740,503   \n",
       "100            Desi Music Factory       32200000    9,115,577,588   \n",
       "\n",
       "       video count           category   started   \n",
       "rank                                              \n",
       "1           16708.0             Music       2006  \n",
       "2               NaN  Film & Animation       2015  \n",
       "3             751.0         Education       2006  \n",
       "4           78334.0             Shows       2006  \n",
       "5               NaN             Music       2013  \n",
       "...             ...                ...       ...  \n",
       "96           5129.0            Gaming       2012  \n",
       "97            584.0     Entertainment       2017  \n",
       "98           2155.0     Entertainment       2015  \n",
       "99         209351.0    People & Blogs       2012  \n",
       "100           122.0             Music       2014  \n",
       "\n",
       "[100 rows x 6 columns]"
      ]
     },
     "execution_count": 8,
     "metadata": {},
     "output_type": "execute_result"
    }
   ],
   "source": [
    "df.set_index('rank ')"
   ]
  },
  {
   "cell_type": "code",
   "execution_count": 9,
   "id": "afbe84ae",
   "metadata": {},
   "outputs": [
    {
     "data": {
      "text/plain": [
       "rank            0\n",
       "youtuber        0\n",
       "subscribers     0\n",
       "video views     0\n",
       "video count     5\n",
       "category        0\n",
       "started         0\n",
       "dtype: int64"
      ]
     },
     "execution_count": 9,
     "metadata": {},
     "output_type": "execute_result"
    }
   ],
   "source": [
    "df.isna().sum()        #checking null values"
   ]
  },
  {
   "cell_type": "code",
   "execution_count": 10,
   "id": "1fbd1ce3",
   "metadata": {},
   "outputs": [],
   "source": [
    "df.rename({'rank ':\"rank\", 'subscribers ':\"subscribers\", 'video views ':\"video_views\", 'video count ':\"video_count\",\n",
    "       'category ':\"category\", 'started ':\"started\"},axis=1,inplace=True)"
   ]
  },
  {
   "cell_type": "code",
   "execution_count": 11,
   "id": "e639f081",
   "metadata": {},
   "outputs": [],
   "source": [
    "df.video_count.fillna(df.video_count.median(),inplace=True)      #filling null values   "
   ]
  },
  {
   "cell_type": "code",
   "execution_count": 12,
   "id": "90c8aa94",
   "metadata": {},
   "outputs": [
    {
     "data": {
      "text/plain": [
       "rank           0\n",
       "youtuber       0\n",
       "subscribers    0\n",
       "video_views    0\n",
       "video_count    0\n",
       "category       0\n",
       "started        0\n",
       "dtype: int64"
      ]
     },
     "execution_count": 12,
     "metadata": {},
     "output_type": "execute_result"
    }
   ],
   "source": [
    "df.isna().sum()             "
   ]
  },
  {
   "cell_type": "code",
   "execution_count": 13,
   "id": "f4998bcc",
   "metadata": {},
   "outputs": [
    {
     "data": {
      "text/plain": [
       "2006    13\n",
       "2014    12\n",
       "2013    10\n",
       "2012    10\n",
       "2011    10\n",
       "2015     7\n",
       "2016     7\n",
       "2007     7\n",
       "2008     5\n",
       "2009     5\n",
       "2017     5\n",
       "2005     4\n",
       "2010     3\n",
       "2018     1\n",
       "1970     1\n",
       "Name: started, dtype: int64"
      ]
     },
     "execution_count": 13,
     "metadata": {},
     "output_type": "execute_result"
    }
   ],
   "source": [
    "df[\"started\"].value_counts()                #channels started in respective year"
   ]
  },
  {
   "cell_type": "code",
   "execution_count": 14,
   "id": "9578f3cd",
   "metadata": {},
   "outputs": [
    {
     "data": {
      "text/plain": [
       "213000000"
      ]
     },
     "execution_count": 14,
     "metadata": {},
     "output_type": "execute_result"
    }
   ],
   "source": [
    "max(df[\"subscribers\"])     "
   ]
  },
  {
   "cell_type": "code",
   "execution_count": 15,
   "id": "5713894a",
   "metadata": {},
   "outputs": [
    {
     "data": {
      "text/plain": [
       "32200000"
      ]
     },
     "execution_count": 15,
     "metadata": {},
     "output_type": "execute_result"
    }
   ],
   "source": [
    "min(df[\"subscribers\"])"
   ]
  },
  {
   "cell_type": "code",
   "execution_count": 16,
   "id": "4d7ab09a",
   "metadata": {},
   "outputs": [
    {
     "data": {
      "text/html": [
       "<div>\n",
       "<style scoped>\n",
       "    .dataframe tbody tr th:only-of-type {\n",
       "        vertical-align: middle;\n",
       "    }\n",
       "\n",
       "    .dataframe tbody tr th {\n",
       "        vertical-align: top;\n",
       "    }\n",
       "\n",
       "    .dataframe thead th {\n",
       "        text-align: right;\n",
       "    }\n",
       "</style>\n",
       "<table border=\"1\" class=\"dataframe\">\n",
       "  <thead>\n",
       "    <tr style=\"text-align: right;\">\n",
       "      <th></th>\n",
       "      <th>rank</th>\n",
       "      <th>youtuber</th>\n",
       "      <th>subscribers</th>\n",
       "      <th>video_views</th>\n",
       "      <th>video_count</th>\n",
       "      <th>category</th>\n",
       "      <th>started</th>\n",
       "    </tr>\n",
       "  </thead>\n",
       "  <tbody>\n",
       "    <tr>\n",
       "      <th>0</th>\n",
       "      <td>1</td>\n",
       "      <td>T-Series</td>\n",
       "      <td>213000000</td>\n",
       "      <td>188,073,919,029</td>\n",
       "      <td>16708.0</td>\n",
       "      <td>Music</td>\n",
       "      <td>2006</td>\n",
       "    </tr>\n",
       "  </tbody>\n",
       "</table>\n",
       "</div>"
      ],
      "text/plain": [
       "   rank   youtuber  subscribers      video_views  video_count category  \\\n",
       "0     1  T-Series     213000000  188,073,919,029      16708.0   Music    \n",
       "\n",
       "   started  \n",
       "0     2006  "
      ]
     },
     "execution_count": 16,
     "metadata": {},
     "output_type": "execute_result"
    }
   ],
   "source": [
    "df.head(1)                           #maximum subscribed channel information"
   ]
  },
  {
   "cell_type": "code",
   "execution_count": 17,
   "id": "770ca860",
   "metadata": {},
   "outputs": [
    {
     "data": {
      "text/html": [
       "<div>\n",
       "<style scoped>\n",
       "    .dataframe tbody tr th:only-of-type {\n",
       "        vertical-align: middle;\n",
       "    }\n",
       "\n",
       "    .dataframe tbody tr th {\n",
       "        vertical-align: top;\n",
       "    }\n",
       "\n",
       "    .dataframe thead th {\n",
       "        text-align: right;\n",
       "    }\n",
       "</style>\n",
       "<table border=\"1\" class=\"dataframe\">\n",
       "  <thead>\n",
       "    <tr style=\"text-align: right;\">\n",
       "      <th></th>\n",
       "      <th>rank</th>\n",
       "      <th>youtuber</th>\n",
       "      <th>subscribers</th>\n",
       "      <th>video_views</th>\n",
       "      <th>video_count</th>\n",
       "      <th>category</th>\n",
       "      <th>started</th>\n",
       "    </tr>\n",
       "  </thead>\n",
       "  <tbody>\n",
       "    <tr>\n",
       "      <th>99</th>\n",
       "      <td>100</td>\n",
       "      <td>Desi Music Factory</td>\n",
       "      <td>32200000</td>\n",
       "      <td>9,115,577,588</td>\n",
       "      <td>122.0</td>\n",
       "      <td>Music</td>\n",
       "      <td>2014</td>\n",
       "    </tr>\n",
       "  </tbody>\n",
       "</table>\n",
       "</div>"
      ],
      "text/plain": [
       "    rank             youtuber  subscribers    video_views  video_count  \\\n",
       "99   100  Desi Music Factory      32200000  9,115,577,588        122.0   \n",
       "\n",
       "   category  started  \n",
       "99   Music      2014  "
      ]
     },
     "execution_count": 17,
     "metadata": {},
     "output_type": "execute_result"
    }
   ],
   "source": [
    "df.tail(1)                           #minimum subscribed channel information"
   ]
  },
  {
   "cell_type": "code",
   "execution_count": 18,
   "id": "659eece6",
   "metadata": {},
   "outputs": [
    {
     "data": {
      "text/html": [
       "<div>\n",
       "<style scoped>\n",
       "    .dataframe tbody tr th:only-of-type {\n",
       "        vertical-align: middle;\n",
       "    }\n",
       "\n",
       "    .dataframe tbody tr th {\n",
       "        vertical-align: top;\n",
       "    }\n",
       "\n",
       "    .dataframe thead th {\n",
       "        text-align: right;\n",
       "    }\n",
       "</style>\n",
       "<table border=\"1\" class=\"dataframe\">\n",
       "  <thead>\n",
       "    <tr style=\"text-align: right;\">\n",
       "      <th></th>\n",
       "      <th>rank</th>\n",
       "      <th>youtuber</th>\n",
       "      <th>subscribers</th>\n",
       "      <th>video_views</th>\n",
       "      <th>video_count</th>\n",
       "      <th>category</th>\n",
       "      <th>started</th>\n",
       "    </tr>\n",
       "  </thead>\n",
       "  <tbody>\n",
       "    <tr>\n",
       "      <th>0</th>\n",
       "      <td>1</td>\n",
       "      <td>T-Series</td>\n",
       "      <td>213000000</td>\n",
       "      <td>188,073,919,029</td>\n",
       "      <td>16708.0</td>\n",
       "      <td>Music</td>\n",
       "      <td>2006</td>\n",
       "    </tr>\n",
       "  </tbody>\n",
       "</table>\n",
       "</div>"
      ],
      "text/plain": [
       "   rank   youtuber  subscribers      video_views  video_count category  \\\n",
       "0     1  T-Series     213000000  188,073,919,029      16708.0   Music    \n",
       "\n",
       "   started  \n",
       "0     2006  "
      ]
     },
     "execution_count": 18,
     "metadata": {},
     "output_type": "execute_result"
    }
   ],
   "source": [
    "df.iloc[np.where(df[\"subscribers\"]==max(df[\"subscribers\"]))]  #one more method to check #maximum subscribed channel information"
   ]
  },
  {
   "cell_type": "code",
   "execution_count": 19,
   "id": "e0dd41bf",
   "metadata": {},
   "outputs": [
    {
     "data": {
      "text/plain": [
       "Music                     34\n",
       "Entertainment             19\n",
       "People & Blogs            10\n",
       "Gaming                     8\n",
       "Education                  6\n",
       "Film & Animation           5\n",
       "Shows                      4\n",
       "Comedy                     4\n",
       "Sports                     3\n",
       "News & Politics            3\n",
       "How to & Style             2\n",
       "Trailers                   1\n",
       "Nonprofits & Activism      1\n",
       "Name: category, dtype: int64"
      ]
     },
     "execution_count": 19,
     "metadata": {},
     "output_type": "execute_result"
    }
   ],
   "source": [
    "df[\"category\"].value_counts()       #which category have more channels"
   ]
  },
  {
   "cell_type": "code",
   "execution_count": 20,
   "id": "95023bd8",
   "metadata": {},
   "outputs": [
    {
     "data": {
      "text/html": [
       "<div>\n",
       "<style scoped>\n",
       "    .dataframe tbody tr th:only-of-type {\n",
       "        vertical-align: middle;\n",
       "    }\n",
       "\n",
       "    .dataframe tbody tr th {\n",
       "        vertical-align: top;\n",
       "    }\n",
       "\n",
       "    .dataframe thead th {\n",
       "        text-align: right;\n",
       "    }\n",
       "</style>\n",
       "<table border=\"1\" class=\"dataframe\">\n",
       "  <thead>\n",
       "    <tr style=\"text-align: right;\">\n",
       "      <th></th>\n",
       "      <th>rank</th>\n",
       "      <th>youtuber</th>\n",
       "      <th>subscribers</th>\n",
       "      <th>video_views</th>\n",
       "      <th>video_count</th>\n",
       "      <th>category</th>\n",
       "      <th>started</th>\n",
       "    </tr>\n",
       "  </thead>\n",
       "  <tbody>\n",
       "    <tr>\n",
       "      <th>5</th>\n",
       "      <td>6</td>\n",
       "      <td>PewDiePie</td>\n",
       "      <td>111000000</td>\n",
       "      <td>28,260,779,633</td>\n",
       "      <td>4472.0</td>\n",
       "      <td>Gaming</td>\n",
       "      <td>2010</td>\n",
       "    </tr>\n",
       "    <tr>\n",
       "      <th>8</th>\n",
       "      <td>9</td>\n",
       "      <td>Gaming</td>\n",
       "      <td>92100000</td>\n",
       "      <td>71,692,471,446</td>\n",
       "      <td>1139.0</td>\n",
       "      <td>Gaming</td>\n",
       "      <td>2013</td>\n",
       "    </tr>\n",
       "    <tr>\n",
       "      <th>42</th>\n",
       "      <td>43</td>\n",
       "      <td>JuegaGerman</td>\n",
       "      <td>45500000</td>\n",
       "      <td>13,400,179,485</td>\n",
       "      <td>1918.0</td>\n",
       "      <td>Gaming</td>\n",
       "      <td>2013</td>\n",
       "    </tr>\n",
       "    <tr>\n",
       "      <th>45</th>\n",
       "      <td>46</td>\n",
       "      <td>Fernanfloo</td>\n",
       "      <td>44800000</td>\n",
       "      <td>9,834,587,080</td>\n",
       "      <td>541.0</td>\n",
       "      <td>Gaming</td>\n",
       "      <td>2011</td>\n",
       "    </tr>\n",
       "    <tr>\n",
       "      <th>56</th>\n",
       "      <td>57</td>\n",
       "      <td>elrubiusOMG</td>\n",
       "      <td>40400000</td>\n",
       "      <td>7,429,801,800</td>\n",
       "      <td>704.0</td>\n",
       "      <td>Gaming</td>\n",
       "      <td>2011</td>\n",
       "    </tr>\n",
       "    <tr>\n",
       "      <th>58</th>\n",
       "      <td>59</td>\n",
       "      <td>A4</td>\n",
       "      <td>39400000</td>\n",
       "      <td>14,391,209,548</td>\n",
       "      <td>582.0</td>\n",
       "      <td>Gaming</td>\n",
       "      <td>2014</td>\n",
       "    </tr>\n",
       "    <tr>\n",
       "      <th>92</th>\n",
       "      <td>93</td>\n",
       "      <td>VEGETTA777</td>\n",
       "      <td>33000000</td>\n",
       "      <td>14,724,851,921</td>\n",
       "      <td>7007.0</td>\n",
       "      <td>Gaming</td>\n",
       "      <td>2008</td>\n",
       "    </tr>\n",
       "    <tr>\n",
       "      <th>95</th>\n",
       "      <td>96</td>\n",
       "      <td>Markiplier</td>\n",
       "      <td>32600000</td>\n",
       "      <td>18,011,837,263</td>\n",
       "      <td>5129.0</td>\n",
       "      <td>Gaming</td>\n",
       "      <td>2012</td>\n",
       "    </tr>\n",
       "  </tbody>\n",
       "</table>\n",
       "</div>"
      ],
      "text/plain": [
       "    rank     youtuber  subscribers     video_views  video_count category  \\\n",
       "5      6   PewDiePie     111000000  28,260,779,633       4472.0  Gaming    \n",
       "8      9      Gaming      92100000  71,692,471,446       1139.0  Gaming    \n",
       "42    43  JuegaGerman     45500000  13,400,179,485       1918.0  Gaming    \n",
       "45    46   Fernanfloo     44800000   9,834,587,080        541.0  Gaming    \n",
       "56    57  elrubiusOMG     40400000   7,429,801,800        704.0  Gaming    \n",
       "58    59           A4     39400000  14,391,209,548        582.0  Gaming    \n",
       "92    93   VEGETTA777     33000000  14,724,851,921       7007.0  Gaming    \n",
       "95    96  Markiplier      32600000  18,011,837,263       5129.0  Gaming    \n",
       "\n",
       "    started  \n",
       "5      2010  \n",
       "8      2013  \n",
       "42     2013  \n",
       "45     2011  \n",
       "56     2011  \n",
       "58     2014  \n",
       "92     2008  \n",
       "95     2012  "
      ]
     },
     "execution_count": 20,
     "metadata": {},
     "output_type": "execute_result"
    }
   ],
   "source": [
    "df[df[\"category\"]=='Gaming ']                #gaming channels"
   ]
  },
  {
   "cell_type": "code",
   "execution_count": 21,
   "id": "ac134ea8",
   "metadata": {},
   "outputs": [
    {
     "data": {
      "text/html": [
       "<div>\n",
       "<style scoped>\n",
       "    .dataframe tbody tr th:only-of-type {\n",
       "        vertical-align: middle;\n",
       "    }\n",
       "\n",
       "    .dataframe tbody tr th {\n",
       "        vertical-align: top;\n",
       "    }\n",
       "\n",
       "    .dataframe thead th {\n",
       "        text-align: right;\n",
       "    }\n",
       "</style>\n",
       "<table border=\"1\" class=\"dataframe\">\n",
       "  <thead>\n",
       "    <tr style=\"text-align: right;\">\n",
       "      <th></th>\n",
       "      <th>rank</th>\n",
       "      <th>youtuber</th>\n",
       "      <th>subscribers</th>\n",
       "      <th>video_views</th>\n",
       "      <th>video_count</th>\n",
       "      <th>category</th>\n",
       "      <th>started</th>\n",
       "    </tr>\n",
       "  </thead>\n",
       "  <tbody>\n",
       "    <tr>\n",
       "      <th>93</th>\n",
       "      <td>94</td>\n",
       "      <td>YouTube</td>\n",
       "      <td>32900000</td>\n",
       "      <td>2,647,950,108</td>\n",
       "      <td>483.0</td>\n",
       "      <td>News &amp; Politics</td>\n",
       "      <td>1970</td>\n",
       "    </tr>\n",
       "  </tbody>\n",
       "</table>\n",
       "</div>"
      ],
      "text/plain": [
       "    rank  youtuber  subscribers    video_views  video_count         category  \\\n",
       "93    94  YouTube      32900000  2,647,950,108        483.0  News & Politics   \n",
       "\n",
       "    started  \n",
       "93     1970  "
      ]
     },
     "execution_count": 21,
     "metadata": {},
     "output_type": "execute_result"
    }
   ],
   "source": [
    "a=df.sort_values(\"started\")               #oldest channel information\n",
    "a.head(1)"
   ]
  },
  {
   "cell_type": "code",
   "execution_count": 22,
   "id": "765620bb",
   "metadata": {},
   "outputs": [
    {
     "data": {
      "text/html": [
       "<div>\n",
       "<style scoped>\n",
       "    .dataframe tbody tr th:only-of-type {\n",
       "        vertical-align: middle;\n",
       "    }\n",
       "\n",
       "    .dataframe tbody tr th {\n",
       "        vertical-align: top;\n",
       "    }\n",
       "\n",
       "    .dataframe thead th {\n",
       "        text-align: right;\n",
       "    }\n",
       "</style>\n",
       "<table border=\"1\" class=\"dataframe\">\n",
       "  <thead>\n",
       "    <tr style=\"text-align: right;\">\n",
       "      <th></th>\n",
       "      <th>rank</th>\n",
       "      <th>youtuber</th>\n",
       "      <th>subscribers</th>\n",
       "      <th>video_views</th>\n",
       "      <th>video_count</th>\n",
       "      <th>category</th>\n",
       "      <th>started</th>\n",
       "    </tr>\n",
       "  </thead>\n",
       "  <tbody>\n",
       "    <tr>\n",
       "      <th>12</th>\n",
       "      <td>13</td>\n",
       "      <td>Vlad and Niki</td>\n",
       "      <td>80900000</td>\n",
       "      <td>62,444,514,631</td>\n",
       "      <td>443.0</td>\n",
       "      <td>Entertainment</td>\n",
       "      <td>2018</td>\n",
       "    </tr>\n",
       "  </tbody>\n",
       "</table>\n",
       "</div>"
      ],
      "text/plain": [
       "    rank        youtuber  subscribers     video_views  video_count  \\\n",
       "12    13  Vlad and Niki      80900000  62,444,514,631        443.0   \n",
       "\n",
       "          category  started  \n",
       "12  Entertainment      2018  "
      ]
     },
     "execution_count": 22,
     "metadata": {},
     "output_type": "execute_result"
    }
   ],
   "source": [
    "a=df.sort_values(\"started\")               #latest channel information\n",
    "a.tail(1)"
   ]
  },
  {
   "cell_type": "code",
   "execution_count": 23,
   "id": "6a3bf090",
   "metadata": {},
   "outputs": [
    {
     "data": {
      "text/html": [
       "<div>\n",
       "<style scoped>\n",
       "    .dataframe tbody tr th:only-of-type {\n",
       "        vertical-align: middle;\n",
       "    }\n",
       "\n",
       "    .dataframe tbody tr th {\n",
       "        vertical-align: top;\n",
       "    }\n",
       "\n",
       "    .dataframe thead th {\n",
       "        text-align: right;\n",
       "    }\n",
       "</style>\n",
       "<table border=\"1\" class=\"dataframe\">\n",
       "  <thead>\n",
       "    <tr style=\"text-align: right;\">\n",
       "      <th></th>\n",
       "      <th>rank</th>\n",
       "      <th>youtuber</th>\n",
       "      <th>subscribers</th>\n",
       "      <th>video_views</th>\n",
       "      <th>video_count</th>\n",
       "      <th>category</th>\n",
       "      <th>started</th>\n",
       "    </tr>\n",
       "  </thead>\n",
       "  <tbody>\n",
       "    <tr>\n",
       "      <th>0</th>\n",
       "      <td>1</td>\n",
       "      <td>T-Series</td>\n",
       "      <td>213000000</td>\n",
       "      <td>188,073,919,029</td>\n",
       "      <td>16708.0</td>\n",
       "      <td>Music</td>\n",
       "      <td>2006</td>\n",
       "    </tr>\n",
       "    <tr>\n",
       "      <th>1</th>\n",
       "      <td>2</td>\n",
       "      <td>YouTube Movies</td>\n",
       "      <td>150000000</td>\n",
       "      <td>167,122,746,349</td>\n",
       "      <td>1139.0</td>\n",
       "      <td>Film &amp; Animation</td>\n",
       "      <td>2015</td>\n",
       "    </tr>\n",
       "    <tr>\n",
       "      <th>2</th>\n",
       "      <td>3</td>\n",
       "      <td>Cocomelon - Nursery Rhymes</td>\n",
       "      <td>133000000</td>\n",
       "      <td>126,822,520,940</td>\n",
       "      <td>751.0</td>\n",
       "      <td>Education</td>\n",
       "      <td>2006</td>\n",
       "    </tr>\n",
       "    <tr>\n",
       "      <th>3</th>\n",
       "      <td>4</td>\n",
       "      <td>SET India</td>\n",
       "      <td>131000000</td>\n",
       "      <td>101,541,977,714</td>\n",
       "      <td>78334.0</td>\n",
       "      <td>Shows</td>\n",
       "      <td>2006</td>\n",
       "    </tr>\n",
       "    <tr>\n",
       "      <th>4</th>\n",
       "      <td>5</td>\n",
       "      <td>Music</td>\n",
       "      <td>116000000</td>\n",
       "      <td>78,437,871,689</td>\n",
       "      <td>1139.0</td>\n",
       "      <td>Music</td>\n",
       "      <td>2013</td>\n",
       "    </tr>\n",
       "    <tr>\n",
       "      <th>...</th>\n",
       "      <td>...</td>\n",
       "      <td>...</td>\n",
       "      <td>...</td>\n",
       "      <td>...</td>\n",
       "      <td>...</td>\n",
       "      <td>...</td>\n",
       "      <td>...</td>\n",
       "    </tr>\n",
       "    <tr>\n",
       "      <th>95</th>\n",
       "      <td>96</td>\n",
       "      <td>Markiplier</td>\n",
       "      <td>32600000</td>\n",
       "      <td>18,011,837,263</td>\n",
       "      <td>5129.0</td>\n",
       "      <td>Gaming</td>\n",
       "      <td>2012</td>\n",
       "    </tr>\n",
       "    <tr>\n",
       "      <th>96</th>\n",
       "      <td>97</td>\n",
       "      <td>Like Nastya ESP</td>\n",
       "      <td>32600000</td>\n",
       "      <td>15,144,858,210</td>\n",
       "      <td>584.0</td>\n",
       "      <td>Entertainment</td>\n",
       "      <td>2017</td>\n",
       "    </tr>\n",
       "    <tr>\n",
       "      <th>97</th>\n",
       "      <td>98</td>\n",
       "      <td>Ryan's World</td>\n",
       "      <td>32400000</td>\n",
       "      <td>51,312,603,726</td>\n",
       "      <td>2155.0</td>\n",
       "      <td>Entertainment</td>\n",
       "      <td>2015</td>\n",
       "    </tr>\n",
       "    <tr>\n",
       "      <th>98</th>\n",
       "      <td>99</td>\n",
       "      <td>ABP News</td>\n",
       "      <td>32300000</td>\n",
       "      <td>9,850,740,503</td>\n",
       "      <td>209351.0</td>\n",
       "      <td>People &amp; Blogs</td>\n",
       "      <td>2012</td>\n",
       "    </tr>\n",
       "    <tr>\n",
       "      <th>99</th>\n",
       "      <td>100</td>\n",
       "      <td>Desi Music Factory</td>\n",
       "      <td>32200000</td>\n",
       "      <td>9,115,577,588</td>\n",
       "      <td>122.0</td>\n",
       "      <td>Music</td>\n",
       "      <td>2014</td>\n",
       "    </tr>\n",
       "  </tbody>\n",
       "</table>\n",
       "<p>100 rows × 7 columns</p>\n",
       "</div>"
      ],
      "text/plain": [
       "    rank                     youtuber  subscribers      video_views  \\\n",
       "0      1                    T-Series     213000000  188,073,919,029   \n",
       "1      2              YouTube Movies     150000000  167,122,746,349   \n",
       "2      3  Cocomelon - Nursery Rhymes     133000000  126,822,520,940   \n",
       "3      4                   SET India     131000000  101,541,977,714   \n",
       "4      5                       Music     116000000   78,437,871,689   \n",
       "..   ...                          ...          ...              ...   \n",
       "95    96                  Markiplier      32600000   18,011,837,263   \n",
       "96    97             Like Nastya ESP      32600000   15,144,858,210   \n",
       "97    98                Ryan's World      32400000   51,312,603,726   \n",
       "98    99                    ABP News      32300000    9,850,740,503   \n",
       "99   100          Desi Music Factory      32200000    9,115,577,588   \n",
       "\n",
       "    video_count           category  started  \n",
       "0       16708.0             Music      2006  \n",
       "1        1139.0  Film & Animation      2015  \n",
       "2         751.0         Education      2006  \n",
       "3       78334.0             Shows      2006  \n",
       "4        1139.0             Music      2013  \n",
       "..          ...                ...      ...  \n",
       "95       5129.0            Gaming      2012  \n",
       "96        584.0     Entertainment      2017  \n",
       "97       2155.0     Entertainment      2015  \n",
       "98     209351.0    People & Blogs      2012  \n",
       "99        122.0             Music      2014  \n",
       "\n",
       "[100 rows x 7 columns]"
      ]
     },
     "execution_count": 23,
     "metadata": {},
     "output_type": "execute_result"
    }
   ],
   "source": [
    "df"
   ]
  },
  {
   "cell_type": "code",
   "execution_count": 24,
   "id": "a34c6c6f",
   "metadata": {},
   "outputs": [
    {
     "data": {
      "text/html": [
       "<div>\n",
       "<style scoped>\n",
       "    .dataframe tbody tr th:only-of-type {\n",
       "        vertical-align: middle;\n",
       "    }\n",
       "\n",
       "    .dataframe tbody tr th {\n",
       "        vertical-align: top;\n",
       "    }\n",
       "\n",
       "    .dataframe thead th {\n",
       "        text-align: right;\n",
       "    }\n",
       "</style>\n",
       "<table border=\"1\" class=\"dataframe\">\n",
       "  <thead>\n",
       "    <tr style=\"text-align: right;\">\n",
       "      <th></th>\n",
       "      <th>rank</th>\n",
       "      <th>youtuber</th>\n",
       "      <th>subscribers</th>\n",
       "      <th>video_views</th>\n",
       "      <th>video_count</th>\n",
       "      <th>category</th>\n",
       "      <th>started</th>\n",
       "    </tr>\n",
       "  </thead>\n",
       "  <tbody>\n",
       "    <tr>\n",
       "      <th>0</th>\n",
       "      <td>1</td>\n",
       "      <td>T-Series</td>\n",
       "      <td>213000000</td>\n",
       "      <td>188,073,919,029</td>\n",
       "      <td>16708.0</td>\n",
       "      <td>Music</td>\n",
       "      <td>2006</td>\n",
       "    </tr>\n",
       "    <tr>\n",
       "      <th>1</th>\n",
       "      <td>2</td>\n",
       "      <td>YouTube Movies</td>\n",
       "      <td>150000000</td>\n",
       "      <td>167,122,746,349</td>\n",
       "      <td>1139.0</td>\n",
       "      <td>Film &amp; Animation</td>\n",
       "      <td>2015</td>\n",
       "    </tr>\n",
       "    <tr>\n",
       "      <th>2</th>\n",
       "      <td>3</td>\n",
       "      <td>Cocomelon - Nursery Rhymes</td>\n",
       "      <td>133000000</td>\n",
       "      <td>126,822,520,940</td>\n",
       "      <td>751.0</td>\n",
       "      <td>Education</td>\n",
       "      <td>2006</td>\n",
       "    </tr>\n",
       "    <tr>\n",
       "      <th>3</th>\n",
       "      <td>4</td>\n",
       "      <td>SET India</td>\n",
       "      <td>131000000</td>\n",
       "      <td>101,541,977,714</td>\n",
       "      <td>78334.0</td>\n",
       "      <td>Shows</td>\n",
       "      <td>2006</td>\n",
       "    </tr>\n",
       "    <tr>\n",
       "      <th>4</th>\n",
       "      <td>5</td>\n",
       "      <td>Music</td>\n",
       "      <td>116000000</td>\n",
       "      <td>78,437,871,689</td>\n",
       "      <td>1139.0</td>\n",
       "      <td>Music</td>\n",
       "      <td>2013</td>\n",
       "    </tr>\n",
       "    <tr>\n",
       "      <th>...</th>\n",
       "      <td>...</td>\n",
       "      <td>...</td>\n",
       "      <td>...</td>\n",
       "      <td>...</td>\n",
       "      <td>...</td>\n",
       "      <td>...</td>\n",
       "      <td>...</td>\n",
       "    </tr>\n",
       "    <tr>\n",
       "      <th>95</th>\n",
       "      <td>96</td>\n",
       "      <td>Markiplier</td>\n",
       "      <td>32600000</td>\n",
       "      <td>18,011,837,263</td>\n",
       "      <td>5129.0</td>\n",
       "      <td>Gaming</td>\n",
       "      <td>2012</td>\n",
       "    </tr>\n",
       "    <tr>\n",
       "      <th>96</th>\n",
       "      <td>97</td>\n",
       "      <td>Like Nastya ESP</td>\n",
       "      <td>32600000</td>\n",
       "      <td>15,144,858,210</td>\n",
       "      <td>584.0</td>\n",
       "      <td>Entertainment</td>\n",
       "      <td>2017</td>\n",
       "    </tr>\n",
       "    <tr>\n",
       "      <th>97</th>\n",
       "      <td>98</td>\n",
       "      <td>Ryan's World</td>\n",
       "      <td>32400000</td>\n",
       "      <td>51,312,603,726</td>\n",
       "      <td>2155.0</td>\n",
       "      <td>Entertainment</td>\n",
       "      <td>2015</td>\n",
       "    </tr>\n",
       "    <tr>\n",
       "      <th>98</th>\n",
       "      <td>99</td>\n",
       "      <td>ABP News</td>\n",
       "      <td>32300000</td>\n",
       "      <td>9,850,740,503</td>\n",
       "      <td>209351.0</td>\n",
       "      <td>People &amp; Blogs</td>\n",
       "      <td>2012</td>\n",
       "    </tr>\n",
       "    <tr>\n",
       "      <th>99</th>\n",
       "      <td>100</td>\n",
       "      <td>Desi Music Factory</td>\n",
       "      <td>32200000</td>\n",
       "      <td>9,115,577,588</td>\n",
       "      <td>122.0</td>\n",
       "      <td>Music</td>\n",
       "      <td>2014</td>\n",
       "    </tr>\n",
       "  </tbody>\n",
       "</table>\n",
       "<p>100 rows × 7 columns</p>\n",
       "</div>"
      ],
      "text/plain": [
       "    rank                     youtuber  subscribers      video_views  \\\n",
       "0      1                    T-Series     213000000  188,073,919,029   \n",
       "1      2              YouTube Movies     150000000  167,122,746,349   \n",
       "2      3  Cocomelon - Nursery Rhymes     133000000  126,822,520,940   \n",
       "3      4                   SET India     131000000  101,541,977,714   \n",
       "4      5                       Music     116000000   78,437,871,689   \n",
       "..   ...                          ...          ...              ...   \n",
       "95    96                  Markiplier      32600000   18,011,837,263   \n",
       "96    97             Like Nastya ESP      32600000   15,144,858,210   \n",
       "97    98                Ryan's World      32400000   51,312,603,726   \n",
       "98    99                    ABP News      32300000    9,850,740,503   \n",
       "99   100          Desi Music Factory      32200000    9,115,577,588   \n",
       "\n",
       "    video_count           category  started  \n",
       "0       16708.0             Music      2006  \n",
       "1        1139.0  Film & Animation      2015  \n",
       "2         751.0         Education      2006  \n",
       "3       78334.0             Shows      2006  \n",
       "4        1139.0             Music      2013  \n",
       "..          ...                ...      ...  \n",
       "95       5129.0            Gaming      2012  \n",
       "96        584.0     Entertainment      2017  \n",
       "97       2155.0     Entertainment      2015  \n",
       "98     209351.0    People & Blogs      2012  \n",
       "99        122.0             Music      2014  \n",
       "\n",
       "[100 rows x 7 columns]"
      ]
     },
     "execution_count": 24,
     "metadata": {},
     "output_type": "execute_result"
    }
   ],
   "source": [
    "df"
   ]
  },
  {
   "cell_type": "code",
   "execution_count": 26,
   "id": "08de344e",
   "metadata": {},
   "outputs": [
    {
     "data": {
      "text/plain": [
       "<seaborn.axisgrid.FacetGrid at 0x21959064fa0>"
      ]
     },
     "execution_count": 26,
     "metadata": {},
     "output_type": "execute_result"
    },
    {
     "data": {
      "image/png": "[encoded data removed]",
      "text/plain": [
       "<Figure size 507.5x360 with 1 Axes>"
      ]
     },
     "metadata": {
      "needs_background": "light"
     },
     "output_type": "display_data"
    }
   ],
   "source": [
    "sns.relplot(x=\"video_count\",y=\"subscribers\",data=df,hue=\"category\") #there is no relationship between no. of videos and subscribers"
   ]
  },
  {
   "cell_type": "code",
   "execution_count": 27,
   "id": "f7b52833",
   "metadata": {},
   "outputs": [
    {
     "data": {
      "text/plain": [
       "<seaborn.axisgrid.PairGrid at 0x21959190940>"
      ]
     },
     "execution_count": 27,
     "metadata": {},
     "output_type": "execute_result"
    },
    {
     "data": {
      "image/png": "[encoded data removed]",
      "text/plain": [
       "<Figure size 720x720 with 20 Axes>"
      ]
     },
     "metadata": {
      "needs_background": "light"
     },
     "output_type": "display_data"
    }
   ],
   "source": [
    "sns.pairplot(df) #no relation between any coloumn "
   ]
  },
  {
   "cell_type": "code",
   "execution_count": null,
   "id": "794ff15e",
   "metadata": {},
   "outputs": [],
   "source": []
  },
  {
   "cell_type": "code",
   "execution_count": 28,
   "id": "e6c359f4",
   "metadata": {},
   "outputs": [
    {
     "data": {
      "image/png": "[encoded data removed]",
      "text/plain": [
       "<Figure size 432x288 with 1 Axes>"
      ]
     },
     "metadata": {
      "needs_background": "light"
     },
     "output_type": "display_data"
    }
   ],
   "source": [
    "sns.barplot(y=\"subscribers\",x=\"category\",data=df)\n",
    "plt.xticks(rotation=90);                               #which category have more subscribers"
   ]
  },
  {
   "cell_type": "code",
   "execution_count": 29,
   "id": "47feec60",
   "metadata": {},
   "outputs": [
    {
     "data": {
      "text/plain": [
       "<seaborn.axisgrid.FacetGrid at 0x21958e60b50>"
      ]
     },
     "execution_count": 29,
     "metadata": {},
     "output_type": "execute_result"
    },
    {
     "data": {
      "image/png": "[encoded data removed]",
      "text/plain": [
       "<Figure size 360x360 with 1 Axes>"
      ]
     },
     "metadata": {
      "needs_background": "light"
     },
     "output_type": "display_data"
    }
   ],
   "source": [
    "sns.relplot(x=\"started\",y=\"category\",data=df)    #channels category started in which year"
   ]
  },
  {
   "cell_type": "code",
   "execution_count": 30,
   "id": "7bdab066",
   "metadata": {},
   "outputs": [
    {
     "data": {
      "text/plain": [
       "<seaborn.axisgrid.FacetGrid at 0x21958cb8fd0>"
      ]
     },
     "execution_count": 30,
     "metadata": {},
     "output_type": "execute_result"
    },
    {
     "data": {
      "image/png": "[encoded data removed]",
      "text/plain": [
       "<Figure size 360x360 with 1 Axes>"
      ]
     },
     "metadata": {
      "needs_background": "light"
     },
     "output_type": "display_data"
    }
   ],
   "source": [
    "sns.relplot(x=\"started\",y=\"subscribers\",data=df) #subscribers increased after 2007"
   ]
  },
  {
   "cell_type": "code",
   "execution_count": 31,
   "id": "a00742c5",
   "metadata": {},
   "outputs": [
    {
     "data": {
      "image/png": "[encoded data removed]",
      "text/plain": [
       "<Figure size 432x288 with 1 Axes>"
      ]
     },
     "metadata": {
      "needs_background": "light"
     },
     "output_type": "display_data"
    }
   ],
   "source": [
    "sns.barplot(y=\"video_count\",x=\"category\",data=df)   #which category uploads more videos\n",
    "plt.xticks(rotation=90);   "
   ]
  },
  {
   "cell_type": "code",
   "execution_count": 32,
   "id": "02908564",
   "metadata": {},
   "outputs": [
    {
     "data": {
      "image/png": "[encoded data removed]",
      "text/plain": [
       "<Figure size 360x360 with 1 Axes>"
      ]
     },
     "metadata": {
      "needs_background": "light"
     },
     "output_type": "display_data"
    }
   ],
   "source": [
    "sns.relplot(y=\"video_count\",x=\"category\",data=df)    #which category uploads more videos\n",
    "plt.xticks(rotation=90);"
   ]
  },
  {
   "cell_type": "code",
   "execution_count": 33,
   "id": "af14dc5e",
   "metadata": {},
   "outputs": [
    {
     "data": {
      "image/png": "[encoded data removed]",
      "text/plain": [
       "<Figure size 720x720 with 1 Axes>"
      ]
     },
     "metadata": {},
     "output_type": "display_data"
    }
   ],
   "source": [
    "plt.figure(figsize=(10,10))\n",
    "x=[34,19,10,8,6,5,4,4,3,3,2,1,1]                  #no. of channels of respective category\n",
    "plt.pie(x,labels=[\"Music\",\"Entertainment\",\"People & Blogs\",\"Gaming\",\"Education\",\"Film & Animation\",\"Shows\",\"Comedy\",\"Sports\",\"News & Politics\",\"How to & Style\",\"Trailers\",\"Nonprofits & Activism\"]);\n"
   ]
  },
  {
   "cell_type": "code",
   "execution_count": 34,
   "id": "e290109e",
   "metadata": {},
   "outputs": [],
   "source": [
    "sns.set(style=\"darkgrid\")"
   ]
  },
  {
   "cell_type": "code",
   "execution_count": 35,
   "id": "3fea4298",
   "metadata": {},
   "outputs": [
    {
     "data": {
      "image/png": "[encoded data removed]",
      "text/plain": [
       "<Figure size 360x360 with 1 Axes>"
      ]
     },
     "metadata": {},
     "output_type": "display_data"
    }
   ],
   "source": [
    "sns.catplot(x=\"category\",y=\"subscribers\",data=df);             \n",
    "plt.xticks(rotation=90);"
   ]
  }
 ],
 "metadata": {
  "kernelspec": {
   "display_name": "Python 3 (ipykernel)",
   "language": "python",
   "name": "python3"
  },
  "language_info": {
   "codemirror_mode": {
    "name": "ipython",
    "version": 3
   },
   "file_extension": ".py",
   "mimetype": "text/x-python",
   "name": "python",
   "nbconvert_exporter": "python",
   "pygments_lexer": "ipython3",
   "version": "3.9.7"
  }
 },
 "nbformat": 4,
 "nbformat_minor": 5
}
