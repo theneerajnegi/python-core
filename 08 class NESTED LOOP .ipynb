{
 "cells": [
  {
   "cell_type": "code",
   "execution_count": 1,
   "id": "310da973",
   "metadata": {},
   "outputs": [],
   "source": [
    "l=[\"apple\"]"
   ]
  },
  {
   "cell_type": "markdown",
   "id": "9570e08d",
   "metadata": {},
   "source": [
    "nested for loop"
   ]
  },
  {
   "cell_type": "code",
   "execution_count": 1,
   "id": "1d70a98a",
   "metadata": {},
   "outputs": [
    {
     "name": "stdout",
     "output_type": "stream",
     "text": [
      "1\n",
      "a\n",
      "1\n",
      "2\n",
      "3\n",
      "b\n",
      "1\n",
      "2\n",
      "3\n",
      "2\n",
      "a\n",
      "1\n",
      "2\n",
      "3\n",
      "b\n",
      "1\n",
      "2\n",
      "3\n"
     ]
    }
   ],
   "source": [
    "for i in range(1,3):\n",
    "    print(i)\n",
    "    for j in [\"a\",\"b\"]:\n",
    "        print(j)\n",
    "        for k in range(1,4):\n",
    "            print(k)"
   ]
  },
  {
   "cell_type": "code",
   "execution_count": 9,
   "id": "32572ec3",
   "metadata": {},
   "outputs": [
    {
     "name": "stdout",
     "output_type": "stream",
     "text": [
      "20\n",
      "18\n",
      "16\n",
      "14\n",
      "12\n",
      "10\n",
      "8\n",
      "6\n",
      "4\n",
      "2\n",
      "30\n",
      "27\n",
      "24\n",
      "21\n",
      "18\n",
      "15\n",
      "12\n",
      "9\n",
      "6\n",
      "3\n",
      "40\n",
      "36\n",
      "32\n",
      "28\n",
      "24\n",
      "20\n",
      "16\n",
      "12\n",
      "8\n",
      "4\n",
      "50\n",
      "45\n",
      "40\n",
      "35\n",
      "30\n",
      "25\n",
      "20\n",
      "15\n",
      "10\n",
      "5\n"
     ]
    }
   ],
   "source": [
    "for i in range(10,0,-1):\n",
    "    print(2*i)\n",
    "for j in range(10,0,-1):\n",
    "    print(3*j)\n",
    "for k in range(10,0,-1):\n",
    "    print(4*k)\n",
    "for l in range(10,0,-1):\n",
    "    print(5*l)\n",
    "\n",
    "\n"
   ]
  },
  {
   "cell_type": "code",
   "execution_count": 8,
   "id": "17babb0d",
   "metadata": {},
   "outputs": [
    {
     "name": "stdout",
     "output_type": "stream",
     "text": [
      "table of  2\n",
      "2\n",
      "4\n",
      "6\n",
      "8\n",
      "10\n",
      "12\n",
      "14\n",
      "16\n",
      "18\n",
      "20\n",
      "table of  3\n",
      "3\n",
      "6\n",
      "9\n",
      "12\n",
      "15\n",
      "18\n",
      "21\n",
      "24\n",
      "27\n",
      "30\n",
      "table of  4\n",
      "4\n",
      "8\n",
      "12\n",
      "16\n",
      "20\n",
      "24\n",
      "28\n",
      "32\n",
      "36\n",
      "40\n",
      "table of  5\n",
      "5\n",
      "10\n",
      "15\n",
      "20\n",
      "25\n",
      "30\n",
      "35\n",
      "40\n",
      "45\n",
      "50\n",
      "table of  6\n",
      "6\n",
      "12\n",
      "18\n",
      "24\n",
      "30\n",
      "36\n",
      "42\n",
      "48\n",
      "54\n",
      "60\n",
      "table of  7\n",
      "7\n",
      "14\n",
      "21\n",
      "28\n",
      "35\n",
      "42\n",
      "49\n",
      "56\n",
      "63\n",
      "70\n",
      "table of  8\n",
      "8\n",
      "16\n",
      "24\n",
      "32\n",
      "40\n",
      "48\n",
      "56\n",
      "64\n",
      "72\n",
      "80\n"
     ]
    }
   ],
   "source": [
    "for i in range(2,9):\n",
    "    print(\"table of \",i)\n",
    "    for j in range(1,11):\n",
    "        print(i*j)"
   ]
  },
  {
   "cell_type": "code",
   "execution_count": 26,
   "id": "3e9a673a",
   "metadata": {},
   "outputs": [
    {
     "name": "stdout",
     "output_type": "stream",
     "text": [
      "python is fun "
     ]
    }
   ],
   "source": [
    "l=[[\"python\"],[\"is\"],[\"fun\"]]\n",
    "for i in l:\n",
    "    for j in i:\n",
    "        print(j,end = \" \")"
   ]
  },
  {
   "cell_type": "code",
   "execution_count": 30,
   "id": "b995d112",
   "metadata": {},
   "outputs": [
    {
     "name": "stdout",
     "output_type": "stream",
     "text": [
      "1\n",
      "2\n",
      "3\n",
      "4\n",
      "5\n",
      "6\n",
      "7\n",
      "8\n",
      "9\n",
      "10\n",
      "11\n",
      "12\n",
      "13\n",
      "14\n",
      "15\n",
      "16\n",
      "17\n",
      "18\n",
      "19\n",
      "20\n",
      "21\n",
      "22\n",
      "23\n",
      "24\n",
      "25\n",
      "26\n",
      "27\n",
      "28\n",
      "29\n",
      "30\n",
      "31\n",
      "32\n",
      "33\n",
      "34\n",
      "35\n",
      "36\n",
      "37\n",
      "38\n",
      "39\n",
      "40\n",
      "41\n",
      "42\n",
      "43\n",
      "44\n",
      "45\n",
      "46\n",
      "47\n",
      "48\n",
      "49\n",
      "50\n",
      "51\n",
      "52\n",
      "53\n",
      "54\n",
      "55\n",
      "56\n",
      "57\n",
      "58\n",
      "59\n",
      "60\n"
     ]
    }
   ],
   "source": [
    "for i in range(1,21):\n",
    "    for j in range(1,i+1):\n",
    "        if i%j==0:\n",
    "            \n",
    "            \n",
    "         \n",
    "        \n",
    "        \n",
    "            "
   ]
  },
  {
   "cell_type": "code",
   "execution_count": 2,
   "id": "4a16b359",
   "metadata": {},
   "outputs": [
    {
     "name": "stdout",
     "output_type": "stream",
     "text": [
      "prime no. 1\n",
      "prime no. 2\n",
      "prime no. 3\n",
      "composite no. 4\n",
      "prime no. 5\n",
      "composite no. 6\n",
      "prime no. 7\n",
      "composite no. 8\n",
      "composite no. 9\n",
      "composite no. 10\n",
      "prime no. 11\n",
      "composite no. 12\n",
      "prime no. 13\n",
      "composite no. 14\n",
      "composite no. 15\n",
      "composite no. 16\n",
      "prime no. 17\n",
      "composite no. 18\n",
      "prime no. 19\n"
     ]
    }
   ],
   "source": [
    "for i in range(1,20):\n",
    "    c=0\n",
    "    for j in range(1,20):\n",
    "        if i%j==0:\n",
    "            c=c+1\n",
    "    if c>2:\n",
    "        print(\"composite no.\",i)\n",
    "    else:\n",
    "        print(\"prime no.\",i)\n",
    "        \n",
    "        "
   ]
  },
  {
   "cell_type": "code",
   "execution_count": 20,
   "id": "ba4bda1b",
   "metadata": {},
   "outputs": [
    {
     "name": "stdout",
     "output_type": "stream",
     "text": [
      "prime 1\n",
      "prime 2\n",
      "prime 3\n",
      "composite 4\n",
      "prime 5\n",
      "composite 6\n",
      "prime 7\n",
      "composite 8\n",
      "composite 9\n",
      "composite 10\n",
      "prime 11\n",
      "composite 12\n",
      "prime 13\n",
      "composite 14\n",
      "composite 15\n",
      "composite 16\n",
      "prime 17\n",
      "composite 18\n",
      "prime 19\n"
     ]
    }
   ],
   "source": [
    "for i in range(1,20):\n",
    "    c=0\n",
    "    for j in range(1,i+1):\n",
    "        if i%j==0:\n",
    "            c=c+1\n",
    "    if c>2:\n",
    "        print(\"composite\",i)\n",
    "    else:\n",
    "         print(\"prime\",i)\n",
    "           \n",
    "            \n",
    "    "
   ]
  },
  {
   "cell_type": "code",
   "execution_count": 16,
   "id": "8c604768",
   "metadata": {},
   "outputs": [
    {
     "name": "stdout",
     "output_type": "stream",
     "text": [
      "prime 1\n",
      "prime 2\n",
      "prime 3\n",
      "composite 4\n",
      "prime 5\n",
      "composite 6\n",
      "prime 7\n",
      "composite 8\n",
      "composite 9\n",
      "composite 10\n",
      "prime 11\n",
      "composite 12\n",
      "prime 13\n",
      "composite 14\n",
      "composite 15\n",
      "composite 16\n",
      "prime 17\n",
      "composite 18\n",
      "prime 19\n",
      "composite 20\n"
     ]
    }
   ],
   "source": [
    "for i in range(1,21):\n",
    "    c=0\n",
    "    for j in range(1,i+1):\n",
    "        if i%j==0:\n",
    "            c=c+1\n",
    "    if c>2:\n",
    "        print(\"composite\",i)\n",
    "    else:\n",
    "        print(\"prime\",i)\n",
    "    \n",
    "        "
   ]
  },
  {
   "cell_type": "code",
   "execution_count": 39,
   "id": "6240288c",
   "metadata": {},
   "outputs": [
    {
     "name": "stdout",
     "output_type": "stream",
     "text": [
      "2 X 1 = 2\n",
      "2 X 2 = 4\n",
      "2 X 3 = 6\n",
      "2 X 4 = 8\n",
      "2 X 5 = 10\n",
      "2 X 6 = 12\n",
      "2 X 7 = 14\n",
      "2 X 8 = 16\n",
      "2 X 9 = 18\n",
      "2 X 10 = 20\n"
     ]
    }
   ],
   "source": [
    "a=2\n",
    "for i in range(1,11):\n",
    "    print(a,\"X\",i,\"=\",a*i)"
   ]
  },
  {
   "cell_type": "code",
   "execution_count": null,
   "id": "f2bce963",
   "metadata": {},
   "outputs": [],
   "source": []
  },
  {
   "cell_type": "code",
   "execution_count": null,
   "id": "029e7b9b",
   "metadata": {},
   "outputs": [],
   "source": []
  }
 ],
 "metadata": {
  "kernelspec": {
   "display_name": "Python 3 (ipykernel)",
   "language": "python",
   "name": "python3"
  },
  "language_info": {
   "codemirror_mode": {
    "name": "ipython",
    "version": 3
   },
   "file_extension": ".py",
   "mimetype": "text/x-python",
   "name": "python",
   "nbconvert_exporter": "python",
   "pygments_lexer": "ipython3",
   "version": "3.9.7"
  }
 },
 "nbformat": 4,
 "nbformat_minor": 5
}
