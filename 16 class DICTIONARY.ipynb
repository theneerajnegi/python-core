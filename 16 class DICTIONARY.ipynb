{
 "cells": [
  {
   "cell_type": "markdown",
   "id": "3c869eb7",
   "metadata": {},
   "source": [
    "{KEY:VALUE}"
   ]
  },
  {
   "cell_type": "code",
   "execution_count": 1,
   "id": "6faa0807",
   "metadata": {},
   "outputs": [
    {
     "data": {
      "text/plain": [
       "{1: 'aman', 2: 34, 3: True}"
      ]
     },
     "execution_count": 1,
     "metadata": {},
     "output_type": "execute_result"
    }
   ],
   "source": [
    "d={1:\"aman\",2:34,3:True}\n",
    "d"
   ]
  },
  {
   "cell_type": "code",
   "execution_count": 2,
   "id": "e94fe1d3",
   "metadata": {},
   "outputs": [
    {
     "data": {
      "text/plain": [
       "{1: 'singh', 2: 34, 3: True}"
      ]
     },
     "execution_count": 2,
     "metadata": {},
     "output_type": "execute_result"
    }
   ],
   "source": [
    "d[1]=\"singh\"        #mutialibity\n",
    "d"
   ]
  },
  {
   "cell_type": "code",
   "execution_count": 3,
   "id": "b7440039",
   "metadata": {},
   "outputs": [
    {
     "data": {
      "text/plain": [
       "{23: [3, 4, 5], 45: (56, 78, 90, 'aman'), 'a': {1, 2, 3}}"
      ]
     },
     "execution_count": 3,
     "metadata": {},
     "output_type": "execute_result"
    }
   ],
   "source": [
    "d={23:[3,4,5],45:(56,78,90,\"aman\"),\"a\":{1,2,3}}\n",
    "d"
   ]
  },
  {
   "cell_type": "code",
   "execution_count": 4,
   "id": "6ffc6a0b",
   "metadata": {},
   "outputs": [
    {
     "data": {
      "text/plain": [
       "(90, 'aman')"
      ]
     },
     "execution_count": 4,
     "metadata": {},
     "output_type": "execute_result"
    }
   ],
   "source": [
    "d[45][2:]            #slicing"
   ]
  },
  {
   "cell_type": "code",
   "execution_count": 5,
   "id": "350707ee",
   "metadata": {},
   "outputs": [
    {
     "data": {
      "text/plain": [
       "{'key': {'nestedkey': {'subnestedkey': 'value'}}}"
      ]
     },
     "execution_count": 5,
     "metadata": {},
     "output_type": "execute_result"
    }
   ],
   "source": [
    "d={\"key\":{\"nestedkey\":{\"subnestedkey\":\"value\"}}}\n",
    "d"
   ]
  },
  {
   "cell_type": "code",
   "execution_count": 6,
   "id": "18d9f546",
   "metadata": {},
   "outputs": [
    {
     "data": {
      "text/plain": [
       "'vle'"
      ]
     },
     "execution_count": 6,
     "metadata": {},
     "output_type": "execute_result"
    }
   ],
   "source": [
    "d[\"key\"][\"nestedkey\"][\"subnestedkey\"][0:5:2]"
   ]
  },
  {
   "cell_type": "code",
   "execution_count": 7,
   "id": "aaa13343",
   "metadata": {},
   "outputs": [
    {
     "data": {
      "text/plain": [
       "{1: 11, 2: 22, 3: 33}"
      ]
     },
     "execution_count": 7,
     "metadata": {},
     "output_type": "execute_result"
    }
   ],
   "source": [
    "d={1:11,2:22,3:33}\n",
    "d"
   ]
  },
  {
   "cell_type": "code",
   "execution_count": 8,
   "id": "77b56feb",
   "metadata": {},
   "outputs": [
    {
     "data": {
      "text/plain": [
       "{4: 564, 5: 564, 6: 564}"
      ]
     },
     "execution_count": 8,
     "metadata": {},
     "output_type": "execute_result"
    }
   ],
   "source": [
    "d.fromkeys([4,5,6],564)"
   ]
  },
  {
   "cell_type": "code",
   "execution_count": 10,
   "id": "3a4adb0d",
   "metadata": {},
   "outputs": [
    {
     "data": {
      "text/plain": [
       "{1: 11, 2: 22, 3: 33}"
      ]
     },
     "execution_count": 10,
     "metadata": {},
     "output_type": "execute_result"
    }
   ],
   "source": [
    "d"
   ]
  },
  {
   "cell_type": "code",
   "execution_count": 11,
   "id": "426258ba",
   "metadata": {},
   "outputs": [
    {
     "data": {
      "text/plain": [
       "33"
      ]
     },
     "execution_count": 11,
     "metadata": {},
     "output_type": "execute_result"
    }
   ],
   "source": [
    "d.get(3)"
   ]
  },
  {
   "cell_type": "code",
   "execution_count": 12,
   "id": "b4df08e1",
   "metadata": {},
   "outputs": [
    {
     "data": {
      "text/plain": [
       "dict_keys([1, 2, 3])"
      ]
     },
     "execution_count": 12,
     "metadata": {},
     "output_type": "execute_result"
    }
   ],
   "source": [
    "d.keys()"
   ]
  },
  {
   "cell_type": "code",
   "execution_count": 13,
   "id": "ebd56cfb",
   "metadata": {},
   "outputs": [
    {
     "data": {
      "text/plain": [
       "dict_values([11, 22, 33])"
      ]
     },
     "execution_count": 13,
     "metadata": {},
     "output_type": "execute_result"
    }
   ],
   "source": [
    "d.values()"
   ]
  },
  {
   "cell_type": "code",
   "execution_count": 14,
   "id": "0377ef3e",
   "metadata": {},
   "outputs": [
    {
     "data": {
      "text/plain": [
       "dict_items([(1, 11), (2, 22), (3, 33)])"
      ]
     },
     "execution_count": 14,
     "metadata": {},
     "output_type": "execute_result"
    }
   ],
   "source": [
    "d.items()"
   ]
  },
  {
   "cell_type": "code",
   "execution_count": 19,
   "id": "4fd81e84",
   "metadata": {},
   "outputs": [
    {
     "ename": "KeyError",
     "evalue": "3",
     "output_type": "error",
     "traceback": [
      "\u001b[1;31m---------------------------------------------------------------------------\u001b[0m",
      "\u001b[1;31mKeyError\u001b[0m                                  Traceback (most recent call last)",
      "\u001b[1;32m~\\AppData\\Local\\Temp/ipykernel_10224/1365017671.py\u001b[0m in \u001b[0;36m<module>\u001b[1;34m\u001b[0m\n\u001b[1;32m----> 1\u001b[1;33m \u001b[0md\u001b[0m\u001b[1;33m.\u001b[0m\u001b[0mpop\u001b[0m\u001b[1;33m(\u001b[0m\u001b[1;36m3\u001b[0m\u001b[1;33m)\u001b[0m\u001b[1;33m\u001b[0m\u001b[1;33m\u001b[0m\u001b[0m\n\u001b[0m",
      "\u001b[1;31mKeyError\u001b[0m: 3"
     ]
    }
   ],
   "source": [
    "d.pop(3)\n"
   ]
  },
  {
   "cell_type": "code",
   "execution_count": 20,
   "id": "6b6e1f42",
   "metadata": {},
   "outputs": [
    {
     "data": {
      "text/plain": [
       "{1: 11, 2: 22}"
      ]
     },
     "execution_count": 20,
     "metadata": {},
     "output_type": "execute_result"
    }
   ],
   "source": [
    "d"
   ]
  },
  {
   "cell_type": "code",
   "execution_count": 21,
   "id": "0bde1727",
   "metadata": {},
   "outputs": [
    {
     "data": {
      "text/plain": [
       "(2, 22)"
      ]
     },
     "execution_count": 21,
     "metadata": {},
     "output_type": "execute_result"
    }
   ],
   "source": [
    "d.popitem()"
   ]
  },
  {
   "cell_type": "code",
   "execution_count": 22,
   "id": "7a3a3d5b",
   "metadata": {},
   "outputs": [
    {
     "data": {
      "text/plain": [
       "{1: 11}"
      ]
     },
     "execution_count": 22,
     "metadata": {},
     "output_type": "execute_result"
    }
   ],
   "source": [
    "d"
   ]
  },
  {
   "cell_type": "code",
   "execution_count": 25,
   "id": "42330cf3",
   "metadata": {},
   "outputs": [
    {
     "data": {
      "text/plain": [
       "{1: 11, 2: 23, 4: 'nee'}"
      ]
     },
     "execution_count": 25,
     "metadata": {},
     "output_type": "execute_result"
    }
   ],
   "source": [
    "d[2]=23\n",
    "d[4]=\"nee\"\n",
    "d"
   ]
  },
  {
   "cell_type": "code",
   "execution_count": 26,
   "id": "452238ba",
   "metadata": {},
   "outputs": [
    {
     "name": "stdout",
     "output_type": "stream",
     "text": [
      "1\n",
      "2\n",
      "4\n"
     ]
    }
   ],
   "source": [
    "for i in d:\n",
    "    print(i)     "
   ]
  },
  {
   "cell_type": "code",
   "execution_count": 28,
   "id": "f44e27b9",
   "metadata": {},
   "outputs": [
    {
     "name": "stdout",
     "output_type": "stream",
     "text": [
      "(1, 11)\n",
      "(2, 23)\n",
      "(4, 'nee')\n"
     ]
    }
   ],
   "source": [
    "for i in d.items():\n",
    "    print(i)"
   ]
  },
  {
   "cell_type": "code",
   "execution_count": 29,
   "id": "c86c206c",
   "metadata": {},
   "outputs": [
    {
     "name": "stdout",
     "output_type": "stream",
     "text": [
      "11\n",
      "23\n",
      "nee\n"
     ]
    }
   ],
   "source": [
    "for i in d.values():\n",
    "    print(i)"
   ]
  },
  {
   "cell_type": "code",
   "execution_count": 30,
   "id": "347c8179",
   "metadata": {},
   "outputs": [
    {
     "name": "stdout",
     "output_type": "stream",
     "text": [
      "1 11\n",
      "2 23\n",
      "4 nee\n"
     ]
    }
   ],
   "source": [
    "for i,j in d.items():\n",
    "    print(i,j)"
   ]
  },
  {
   "cell_type": "code",
   "execution_count": null,
   "id": "df634648",
   "metadata": {},
   "outputs": [],
   "source": [
    "##########################################################################################################################"
   ]
  },
  {
   "cell_type": "code",
   "execution_count": 35,
   "id": "33aaeccc",
   "metadata": {},
   "outputs": [
    {
     "name": "stdout",
     "output_type": "stream",
     "text": [
      "neha  is young\n",
      "gaurav  is old\n",
      "pooja  is young\n",
      "gollu  is old\n",
      "ramesh  is old\n"
     ]
    }
   ],
   "source": [
    "d={\"neha\":33,\"gaurav\":55,\"pooja\":34,\"gollu\":90,\"ramesh\":45}\n",
    "for i,j in d.items():\n",
    "    if j>44:\n",
    "        print(i,\" is old\")\n",
    "    elif j<44:\n",
    "        print(i,\" is young\")"
   ]
  },
  {
   "cell_type": "code",
   "execution_count": 46,
   "id": "cd39f523",
   "metadata": {},
   "outputs": [
    {
     "data": {
      "text/plain": [
       "{'O': 'orange', 'B': 'banana', 'A': 'apple', 'G': 'grapes', 'M': 'mango'}"
      ]
     },
     "execution_count": 46,
     "metadata": {},
     "output_type": "execute_result"
    }
   ],
   "source": [
    "l=[\"orange\",\"banana\",\"apple\",\"grapes\",\"mango\"]\n",
    "d={}\n",
    "for i in l:\n",
    "    d[i[0].upper()]=i\n",
    "d"
   ]
  },
  {
   "cell_type": "code",
   "execution_count": 58,
   "id": "f2f7d3c0",
   "metadata": {},
   "outputs": [
    {
     "data": {
      "text/plain": [
       "2"
      ]
     },
     "execution_count": 58,
     "metadata": {},
     "output_type": "execute_result"
    }
   ],
   "source": [
    "c=\"i\\n\"\n",
    "len(c)"
   ]
  },
  {
   "cell_type": "code",
   "execution_count": 1,
   "id": "acba41e8",
   "metadata": {},
   "outputs": [
    {
     "data": {
      "text/plain": [
       "{'O': 'orange', 'B': 'banana', 'A': 'apple', 'G': 'grapes', 'M': 'mango'}"
      ]
     },
     "execution_count": 1,
     "metadata": {},
     "output_type": "execute_result"
    }
   ],
   "source": [
    "l=[\"orange\",\"banana\",\"apple\",\"grapes\",\"mango\"]\n",
    "d={}\n",
    "for i in l:\n",
    "    d[i[0].upper()]=i\n",
    "d"
   ]
  },
  {
   "cell_type": "code",
   "execution_count": 6,
   "id": "7ed6ec54",
   "metadata": {},
   "outputs": [
    {
     "name": "stdout",
     "output_type": "stream",
     "text": [
      "neha is young\n",
      "gaurav is old\n",
      "pooja is young\n",
      "gollu is old\n",
      "ramesh is old\n"
     ]
    }
   ],
   "source": [
    "d={\"neha\":33,\"gaurav\":55,\"pooja\":34,\"gollu\":90,\"ramesh\":45}\n",
    "for i,j in d.items():\n",
    "    if j>44:\n",
    "        print(i,\"is old\")\n",
    "    else:\n",
    "        print(i,\"is young\")"
   ]
  },
  {
   "cell_type": "code",
   "execution_count": 3,
   "id": "6823050d",
   "metadata": {},
   "outputs": [
    {
     "name": "stdout",
     "output_type": "stream",
     "text": [
      "0\n"
     ]
    }
   ],
   "source": [
    "def search(s):\n",
    "    l=[\"the learn python change casino\",\"they bought a car\",\"cassinoville\"]\n",
    "    f=[]\n",
    "    for i in l:\n",
    "        i=i.lower()\n",
    "        f.append(i)\n",
    "        if i.find(\"casino\")>0:\n",
    "            print(f.index(i))\n",
    "search(\"casino\")  "
   ]
  },
  {
   "cell_type": "code",
   "execution_count": 4,
   "id": "f3b8db92",
   "metadata": {},
   "outputs": [
    {
     "name": "stdout",
     "output_type": "stream",
     "text": [
      "casino 0\n",
      "casino 1\n"
     ]
    }
   ],
   "source": [
    "doc_list=[\"The learn python challenge casino\",\"They bought a car and a casino\",\"cassinoville\"]"
   ]
  },
  {
   "cell_type": "code",
   "execution_count": 3,
   "id": "8b7f595a",
   "metadata": {},
   "outputs": [
    {
     "name": "stdout",
     "output_type": "stream",
     "text": [
      "neha is young\n",
      "gaurav is old\n",
      "pooja is young\n",
      "gollu is old\n",
      "ramesh is old\n"
     ]
    }
   ],
   "source": [
    "d={\"neha\":33,\"gaurav\":55,\"pooja\":34,\"gollu\":90,\"ramesh\":45}\n",
    "for i,j in d.items():\n",
    "    if j>44:\n",
    "        print(i,\"is old\")\n",
    "    else:\n",
    "        print(i,\"is young\")\n",
    "    "
   ]
  },
  {
   "cell_type": "code",
   "execution_count": null,
   "id": "e82c7945",
   "metadata": {},
   "outputs": [],
   "source": []
  }
 ],
 "metadata": {
  "kernelspec": {
   "display_name": "Python 3 (ipykernel)",
   "language": "python",
   "name": "python3"
  },
  "language_info": {
   "codemirror_mode": {
    "name": "ipython",
    "version": 3
   },
   "file_extension": ".py",
   "mimetype": "text/x-python",
   "name": "python",
   "nbconvert_exporter": "python",
   "pygments_lexer": "ipython3",
   "version": "3.9.7"
  }
 },
 "nbformat": 4,
 "nbformat_minor": 5
}
