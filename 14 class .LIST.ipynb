{
 "cells": [
  {
   "cell_type": "code",
   "execution_count": 1,
   "id": "e637d692",
   "metadata": {},
   "outputs": [
    {
     "data": {
      "text/plain": [
       "[1, 2.2, 'aman', 'is', True]"
      ]
     },
     "execution_count": 1,
     "metadata": {},
     "output_type": "execute_result"
    }
   ],
   "source": [
    "l = [1,2.2,\"aman\",\"is\",True]\n",
    "l"
   ]
  },
  {
   "cell_type": "code",
   "execution_count": 2,
   "id": "a1f7fc8b",
   "metadata": {},
   "outputs": [
    {
     "data": {
      "text/plain": [
       "[1, 2, 12]"
      ]
     },
     "execution_count": 2,
     "metadata": {},
     "output_type": "execute_result"
    }
   ],
   "source": [
    "l=[1,2,3]\n",
    "l[2]=12\n",
    "l"
   ]
  },
  {
   "cell_type": "code",
   "execution_count": 10,
   "id": "c09b5eaf",
   "metadata": {},
   "outputs": [],
   "source": [
    "l=l+[34,\"ee\",[1,2,3,\"rt\"]]"
   ]
  },
  {
   "cell_type": "code",
   "execution_count": 11,
   "id": "4e25936f",
   "metadata": {},
   "outputs": [
    {
     "data": {
      "text/plain": [
       "[1, 2, 12, 34, 'ee', 34, 'ee', [1, 2, 3, 'rt']]"
      ]
     },
     "execution_count": 11,
     "metadata": {},
     "output_type": "execute_result"
    }
   ],
   "source": [
    "l"
   ]
  },
  {
   "cell_type": "code",
   "execution_count": 12,
   "id": "21cb7ce4",
   "metadata": {},
   "outputs": [
    {
     "data": {
      "text/plain": [
       "[1, 2, 3, 'rt']"
      ]
     },
     "execution_count": 12,
     "metadata": {},
     "output_type": "execute_result"
    }
   ],
   "source": [
    "l[7]      #indexing"
   ]
  },
  {
   "cell_type": "code",
   "execution_count": 13,
   "id": "8417c9e5",
   "metadata": {},
   "outputs": [
    {
     "data": {
      "text/plain": [
       "3"
      ]
     },
     "execution_count": 13,
     "metadata": {},
     "output_type": "execute_result"
    }
   ],
   "source": [
    "l[7][2]"
   ]
  },
  {
   "cell_type": "code",
   "execution_count": 14,
   "id": "1929200b",
   "metadata": {},
   "outputs": [
    {
     "data": {
      "text/plain": [
       "[12, 34, 'ee']"
      ]
     },
     "execution_count": 14,
     "metadata": {},
     "output_type": "execute_result"
    }
   ],
   "source": [
    "l[2:5] #slicing"
   ]
  },
  {
   "cell_type": "code",
   "execution_count": 15,
   "id": "0d4272f5",
   "metadata": {},
   "outputs": [
    {
     "data": {
      "text/plain": [
       "[[1, 2, 3, 'rt'], 'ee', 34, 'ee', 34, 12, 2, 1]"
      ]
     },
     "execution_count": 15,
     "metadata": {},
     "output_type": "execute_result"
    }
   ],
   "source": [
    "l[::-1] #reverse "
   ]
  },
  {
   "cell_type": "code",
   "execution_count": 16,
   "id": "63c2d6c2",
   "metadata": {},
   "outputs": [
    {
     "data": {
      "text/plain": [
       "[[1, 2, 3], [4, 5, 6], [7, 8, 9]]"
      ]
     },
     "execution_count": 16,
     "metadata": {},
     "output_type": "execute_result"
    }
   ],
   "source": [
    "l1=[1,2,3]\n",
    "l2=[4,5,6]\n",
    "l3=[7,8,9]\n",
    "l=[l1,l2,l3]\n",
    "l"
   ]
  },
  {
   "cell_type": "code",
   "execution_count": 25,
   "id": "31d21cdf",
   "metadata": {},
   "outputs": [
    {
     "name": "stdout",
     "output_type": "stream",
     "text": [
      "4 16 36 64 "
     ]
    }
   ],
   "source": [
    "for i in l:\n",
    "    for j in i:\n",
    "        if j%2==0:\n",
    "            print(j**2,end=\" \")\n",
    "        "
   ]
  },
  {
   "cell_type": "code",
   "execution_count": 21,
   "id": "f6edac38",
   "metadata": {},
   "outputs": [
    {
     "data": {
      "text/plain": [
       "[[1, 2, 3], [4, 5, 6], [7, 8, 9]]"
      ]
     },
     "execution_count": 21,
     "metadata": {},
     "output_type": "execute_result"
    }
   ],
   "source": [
    "l"
   ]
  },
  {
   "cell_type": "markdown",
   "id": "1372556c",
   "metadata": {},
   "source": [
    "LIST METHODS"
   ]
  },
  {
   "cell_type": "code",
   "execution_count": 26,
   "id": "2a4e2514",
   "metadata": {},
   "outputs": [
    {
     "data": {
      "text/plain": [
       "[1, 2, 3, 4, 5]"
      ]
     },
     "execution_count": 26,
     "metadata": {},
     "output_type": "execute_result"
    }
   ],
   "source": [
    "l=[]\n",
    "for i in range(1,6):\n",
    "    l.append(i) \n",
    "l"
   ]
  },
  {
   "cell_type": "code",
   "execution_count": 27,
   "id": "52923ae6",
   "metadata": {},
   "outputs": [
    {
     "data": {
      "text/plain": [
       "[]"
      ]
     },
     "execution_count": 27,
     "metadata": {},
     "output_type": "execute_result"
    }
   ],
   "source": [
    "l.clear()\n",
    "l"
   ]
  },
  {
   "cell_type": "code",
   "execution_count": 29,
   "id": "a1d00b9e",
   "metadata": {},
   "outputs": [
    {
     "data": {
      "text/plain": [
       "[54, 56, 33]"
      ]
     },
     "execution_count": 29,
     "metadata": {},
     "output_type": "execute_result"
    }
   ],
   "source": [
    "l1=[54,56,33]\n",
    "l=l1.copy()\n",
    "l"
   ]
  },
  {
   "cell_type": "code",
   "execution_count": 31,
   "id": "c7f0854a",
   "metadata": {},
   "outputs": [
    {
     "data": {
      "text/plain": [
       "1"
      ]
     },
     "execution_count": 31,
     "metadata": {},
     "output_type": "execute_result"
    }
   ],
   "source": [
    "l.count(54)"
   ]
  },
  {
   "cell_type": "code",
   "execution_count": 32,
   "id": "3058ccc3",
   "metadata": {},
   "outputs": [],
   "source": [
    "l.extend([1,2,3,4])"
   ]
  },
  {
   "cell_type": "code",
   "execution_count": 33,
   "id": "304599f6",
   "metadata": {},
   "outputs": [
    {
     "data": {
      "text/plain": [
       "[54, 56, 33, 1, 2, 3, 4]"
      ]
     },
     "execution_count": 33,
     "metadata": {},
     "output_type": "execute_result"
    }
   ],
   "source": [
    "l"
   ]
  },
  {
   "cell_type": "code",
   "execution_count": 36,
   "id": "1e5b3dba",
   "metadata": {},
   "outputs": [
    {
     "data": {
      "text/plain": [
       "6"
      ]
     },
     "execution_count": 36,
     "metadata": {},
     "output_type": "execute_result"
    }
   ],
   "source": [
    "l.index(4)"
   ]
  },
  {
   "cell_type": "code",
   "execution_count": 39,
   "id": "6a669652",
   "metadata": {},
   "outputs": [
    {
     "data": {
      "text/plain": [
       "[54, 56, '4444', 'stri', 'stri', 33, 1, 2, 3, 4]"
      ]
     },
     "execution_count": 39,
     "metadata": {},
     "output_type": "execute_result"
    }
   ],
   "source": [
    "l.insert(2,\"4444\")\n",
    "l"
   ]
  },
  {
   "cell_type": "code",
   "execution_count": 40,
   "id": "a07ac024",
   "metadata": {},
   "outputs": [
    {
     "data": {
      "text/plain": [
       "4"
      ]
     },
     "execution_count": 40,
     "metadata": {},
     "output_type": "execute_result"
    }
   ],
   "source": [
    "l.pop()"
   ]
  },
  {
   "cell_type": "code",
   "execution_count": null,
   "id": "ca14823c",
   "metadata": {},
   "outputs": [],
   "source": [
    "l"
   ]
  },
  {
   "cell_type": "code",
   "execution_count": 1,
   "id": "67216d1b",
   "metadata": {},
   "outputs": [
    {
     "data": {
      "text/plain": [
       "[1, 2, 3, 4, 4, 5, 6, 67]"
      ]
     },
     "execution_count": 1,
     "metadata": {},
     "output_type": "execute_result"
    }
   ],
   "source": [
    "l=[1,2,5,67,4,3,4,6,]\n",
    "l.sort()\n",
    "l"
   ]
  },
  {
   "cell_type": "code",
   "execution_count": 9,
   "id": "87560345",
   "metadata": {},
   "outputs": [
    {
     "name": "stdout",
     "output_type": "stream",
     "text": [
      "vayu is fashnabaly late\n",
      "peter is fashnabaly late\n"
     ]
    }
   ],
   "source": [
    "l=[\"aman\",\"molu\",\"golu\",\"bholu\",\"ela\",\"vayu\",\"peter\",\"hema\"]\n",
    "for i in range(len(l)):\n",
    "    if i>len(l)/2 and i!=len(l)-1:\n",
    "        print(l[i],\"is fashnabaly late\")"
   ]
  },
  {
   "cell_type": "code",
   "execution_count": 1,
   "id": "1c48fdd2",
   "metadata": {},
   "outputs": [
    {
     "name": "stdout",
     "output_type": "stream",
     "text": [
      "16\n",
      "36\n",
      "64\n"
     ]
    }
   ],
   "source": [
    "l=[1,3,4,5,6,8]\n",
    "for i in l:\n",
    "    if i%2==0:\n",
    "        print(i**2)"
   ]
  },
  {
   "cell_type": "code",
   "execution_count": 16,
   "id": "7a2d2f38",
   "metadata": {},
   "outputs": [
    {
     "name": "stdout",
     "output_type": "stream",
     "text": [
      "ela fasnabaly late\n",
      "vayu fasnabaly late\n",
      "peter fasnabaly late\n"
     ]
    }
   ],
   "source": [
    "l=[\"aman\",\"molu\",\"golu\",\"bholu\",\"ela\",\"vayu\",\"peter\",\"hema\"]\n",
    "for i in range(len(l)):\n",
    "    if i>=len(l)/2 and i!=len(l)-1:\n",
    "        print(l[i],\"fasnabaly late\")\n",
    "    "
   ]
  },
  {
   "cell_type": "code",
   "execution_count": 21,
   "id": "a95cec74",
   "metadata": {},
   "outputs": [
    {
     "name": "stdout",
     "output_type": "stream",
     "text": [
      "molu late\n",
      "golu late\n",
      "bholu late\n",
      "ela late\n",
      "vayu late\n",
      "peter late\n"
     ]
    }
   ],
   "source": [
    "l=[\"aman\",\"molu\",\"golu\",\"bholu\",\"ela\",\"vayu\",\"peter\",\"hema\",\"negi\"]\n",
    "for i in range(len(l)):\n",
    "    if i>=1 and i!=len(l)-1 and i!=len(l)-2:\n",
    "        print(l[i],\"late\")"
   ]
  },
  {
   "cell_type": "code",
   "execution_count": 1,
   "id": "3b36bc4f",
   "metadata": {},
   "outputs": [
    {
     "data": {
      "text/plain": [
       "'rahul'"
      ]
     },
     "execution_count": 1,
     "metadata": {},
     "output_type": "execute_result"
    }
   ],
   "source": [
    "l=[[\"dhoni\",\"neeraj\",\"ram\",\"aman\",\"molu\",\"golu\",\"bholu\",\"ela\",\"vayu\",\"peter\",\"hema\"],[\"negi\",\"rahul\",\"virat\",\"shewag\",\"rakul\",\"shubham\",\"suraj\",\"raj\",\"nee\",\"ashish\",\"abhishek\"]]\n",
    "l[1][1]"
   ]
  },
  {
   "cell_type": "code",
   "execution_count": 4,
   "id": "ca5c81d5",
   "metadata": {},
   "outputs": [
    {
     "data": {
      "text/plain": [
       "['c', 'b', 'a']"
      ]
     },
     "execution_count": 4,
     "metadata": {},
     "output_type": "execute_result"
    }
   ],
   "source": [
    "racer=[\"a\",\"b\",\"c\"]\n",
    "racer.reverse()\n",
    "racer"
   ]
  },
  {
   "cell_type": "code",
   "execution_count": 26,
   "id": "fe3739b4",
   "metadata": {},
   "outputs": [
    {
     "data": {
      "text/plain": [
       "['red', 'black', 'pink']"
      ]
     },
     "execution_count": 26,
     "metadata": {},
     "output_type": "execute_result"
    }
   ],
   "source": [
    "l=[\"orange\",\"red\",\"black\",\"pink\",\"yellow\",\"blue\"]\n",
    "l1=[]\n",
    "l2=[]\n",
    "for i in range(len(l)):\n",
    "    if i==0 or i==4 or i==5:\n",
    "        l1.append(l[i])\n",
    "    else:\n",
    "        l2.append(l[i])\n",
    "l2"
   ]
  },
  {
   "cell_type": "code",
   "execution_count": null,
   "id": "259c314c",
   "metadata": {},
   "outputs": [],
   "source": []
  }
 ],
 "metadata": {
  "kernelspec": {
   "display_name": "Python 3 (ipykernel)",
   "language": "python",
   "name": "python3"
  },
  "language_info": {
   "codemirror_mode": {
    "name": "ipython",
    "version": 3
   },
   "file_extension": ".py",
   "mimetype": "text/x-python",
   "name": "python",
   "nbconvert_exporter": "python",
   "pygments_lexer": "ipython3",
   "version": "3.9.7"
  }
 },
 "nbformat": 4,
 "nbformat_minor": 5
}
