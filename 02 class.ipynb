{
 "cells": [
  {
   "cell_type": "markdown",
   "id": "edd1cabf",
   "metadata": {},
   "source": [
    "    comparision operators"
   ]
  },
  {
   "cell_type": "code",
   "execution_count": 1,
   "id": "cd707c99",
   "metadata": {},
   "outputs": [],
   "source": [
    "a=10\n",
    "b=2"
   ]
  },
  {
   "cell_type": "code",
   "execution_count": 2,
   "id": "47aafb1c",
   "metadata": {},
   "outputs": [
    {
     "data": {
      "text/plain": [
       "False"
      ]
     },
     "execution_count": 2,
     "metadata": {},
     "output_type": "execute_result"
    }
   ],
   "source": [
    "a<b"
   ]
  },
  {
   "cell_type": "code",
   "execution_count": 4,
   "id": "aa137af7",
   "metadata": {},
   "outputs": [
    {
     "data": {
      "text/plain": [
       "True"
      ]
     },
     "execution_count": 4,
     "metadata": {},
     "output_type": "execute_result"
    }
   ],
   "source": [
    "a>b"
   ]
  },
  {
   "cell_type": "code",
   "execution_count": 5,
   "id": "e48f23d8",
   "metadata": {},
   "outputs": [
    {
     "data": {
      "text/plain": [
       "False"
      ]
     },
     "execution_count": 5,
     "metadata": {},
     "output_type": "execute_result"
    }
   ],
   "source": [
    "a==b"
   ]
  },
  {
   "cell_type": "code",
   "execution_count": 6,
   "id": "7f9b183f",
   "metadata": {},
   "outputs": [
    {
     "data": {
      "text/plain": [
       "2"
      ]
     },
     "execution_count": 6,
     "metadata": {},
     "output_type": "execute_result"
    }
   ],
   "source": [
    "a=b\n",
    "a"
   ]
  },
  {
   "cell_type": "code",
   "execution_count": 7,
   "id": "3e917b23",
   "metadata": {},
   "outputs": [
    {
     "data": {
      "text/plain": [
       "True"
      ]
     },
     "execution_count": 7,
     "metadata": {},
     "output_type": "execute_result"
    }
   ],
   "source": [
    "a==b"
   ]
  },
  {
   "cell_type": "code",
   "execution_count": 9,
   "id": "9b15747b",
   "metadata": {},
   "outputs": [
    {
     "data": {
      "text/plain": [
       "False"
      ]
     },
     "execution_count": 9,
     "metadata": {},
     "output_type": "execute_result"
    }
   ],
   "source": [
    "a!=b"
   ]
  },
  {
   "cell_type": "markdown",
   "id": "1883bdc1",
   "metadata": {},
   "source": [
    "logical operations"
   ]
  },
  {
   "cell_type": "code",
   "execution_count": 10,
   "id": "596e9d9c",
   "metadata": {},
   "outputs": [
    {
     "ename": "SyntaxError",
     "evalue": "invalid syntax (Temp/ipykernel_4704/1703938775.py, line 1)",
     "output_type": "error",
     "traceback": [
      "\u001b[1;36m  File \u001b[1;32m\"C:\\Users\\Neeraj\\AppData\\Local\\Temp/ipykernel_4704/1703938775.py\"\u001b[1;36m, line \u001b[1;32m1\u001b[0m\n\u001b[1;33m    and , or , not\u001b[0m\n\u001b[1;37m    ^\u001b[0m\n\u001b[1;31mSyntaxError\u001b[0m\u001b[1;31m:\u001b[0m invalid syntax\n"
     ]
    }
   ],
   "source": [
    "and , or , not\n"
   ]
  },
  {
   "cell_type": "code",
   "execution_count": 11,
   "id": "d05b8680",
   "metadata": {},
   "outputs": [
    {
     "data": {
      "text/plain": [
       "True"
      ]
     },
     "execution_count": 11,
     "metadata": {},
     "output_type": "execute_result"
    }
   ],
   "source": [
    "a<=b and a==b"
   ]
  },
  {
   "cell_type": "code",
   "execution_count": 12,
   "id": "08c66e9a",
   "metadata": {},
   "outputs": [
    {
     "data": {
      "text/plain": [
       "False"
      ]
     },
     "execution_count": 12,
     "metadata": {},
     "output_type": "execute_result"
    }
   ],
   "source": [
    "a!=b and a==b"
   ]
  },
  {
   "cell_type": "code",
   "execution_count": 13,
   "id": "5d2537fe",
   "metadata": {},
   "outputs": [
    {
     "data": {
      "text/plain": [
       "True"
      ]
     },
     "execution_count": 13,
     "metadata": {},
     "output_type": "execute_result"
    }
   ],
   "source": [
    "a>b or a==b"
   ]
  },
  {
   "cell_type": "code",
   "execution_count": 18,
   "id": "bc938287",
   "metadata": {},
   "outputs": [
    {
     "data": {
      "text/plain": [
       "False"
      ]
     },
     "execution_count": 18,
     "metadata": {},
     "output_type": "execute_result"
    }
   ],
   "source": [
    "not a<=b"
   ]
  },
  {
   "cell_type": "markdown",
   "id": "c962314b",
   "metadata": {},
   "source": [
    "assignment operator"
   ]
  },
  {
   "cell_type": "code",
   "execution_count": 19,
   "id": "7b04c830",
   "metadata": {},
   "outputs": [
    {
     "data": {
      "text/plain": [
       "15"
      ]
     },
     "execution_count": 19,
     "metadata": {},
     "output_type": "execute_result"
    }
   ],
   "source": [
    "s=5\n",
    "s=s+10\n",
    "s"
   ]
  },
  {
   "cell_type": "code",
   "execution_count": 20,
   "id": "afaf6199",
   "metadata": {},
   "outputs": [],
   "source": [
    "s+=20"
   ]
  },
  {
   "cell_type": "code",
   "execution_count": 21,
   "id": "e23de353",
   "metadata": {},
   "outputs": [
    {
     "data": {
      "text/plain": [
       "35"
      ]
     },
     "execution_count": 21,
     "metadata": {},
     "output_type": "execute_result"
    }
   ],
   "source": [
    "s"
   ]
  },
  {
   "cell_type": "code",
   "execution_count": 22,
   "id": "45b89ee2",
   "metadata": {},
   "outputs": [],
   "source": [
    "s*=4"
   ]
  },
  {
   "cell_type": "code",
   "execution_count": 23,
   "id": "22d80b03",
   "metadata": {},
   "outputs": [
    {
     "data": {
      "text/plain": [
       "140"
      ]
     },
     "execution_count": 23,
     "metadata": {},
     "output_type": "execute_result"
    }
   ],
   "source": [
    "s"
   ]
  },
  {
   "cell_type": "markdown",
   "id": "ba20c82b",
   "metadata": {},
   "source": [
    "BODMAS"
   ]
  },
  {
   "cell_type": "markdown",
   "id": "3a45a3da",
   "metadata": {},
   "source": [
    "PEMDAS"
   ]
  },
  {
   "cell_type": "markdown",
   "id": "14592c7e",
   "metadata": {},
   "source": [
    "BRACKET\n",
    ",,EXPONENTIAL\n",
    ",,MULTIPLY\n",
    ",,ADD\n",
    ",,SUBTRACTION\n"
   ]
  },
  {
   "cell_type": "code",
   "execution_count": 1,
   "id": "e0492391",
   "metadata": {},
   "outputs": [
    {
     "name": "stdout",
     "output_type": "stream",
     "text": [
      "enter no.a1\n",
      "enter no.b2\n",
      "enter no.c4\n",
      "a is smallest\n"
     ]
    }
   ],
   "source": [
    "a=int(input(\"enter no.a\"))\n",
    "b=int(input(\"enter no.b\"))\n",
    "c=int(input(\"enter no.c\"))\n",
    "if a<b and a<c:\n",
    "    print(\"a is smallest\")\n",
    "elif b<a and b<c:\n",
    "    print(\"b is smallest\")\n",
    "elif c<a and c<b:\n",
    "    print(\"c is smallest\")\n",
    "elif a==b and a==c:\n",
    "    print(\"all are equal\")\n",
    "elif a==b and a<c:\n",
    "    print(\"a and b are smallest\")\n",
    "elif a==b and a>c:\n",
    "    print(\"c is smallest\")\n",
    "elif a==c and b<a:\n",
    "    print(\"b is smallest\")\n",
    "elif a==c and b>a:\n",
    "    print(\"a and c are smallest\")\n",
    "elif b==c and b<a:\n",
    "    print(\"b and c are smallest\")\n",
    "elif b==c and b>a:\n",
    "    print(\"a is smallest\")\n",
    "\n"
   ]
  },
  {
   "cell_type": "code",
   "execution_count": 1,
   "id": "c3110339",
   "metadata": {},
   "outputs": [
    {
     "ename": "NameError",
     "evalue": "name 'c' is not defined",
     "output_type": "error",
     "traceback": [
      "\u001b[1;31m---------------------------------------------------------------------------\u001b[0m",
      "\u001b[1;31mNameError\u001b[0m                                 Traceback (most recent call last)",
      "\u001b[1;32m~\\AppData\\Local\\Temp/ipykernel_11416/2838952235.py\u001b[0m in \u001b[0;36m<module>\u001b[1;34m\u001b[0m\n\u001b[1;32m----> 1\u001b[1;33m \u001b[0ma\u001b[0m\u001b[1;33m=\u001b[0m\u001b[0mb\u001b[0m\u001b[1;33m=\u001b[0m\u001b[0mc\u001b[0m\u001b[1;33m\u001b[0m\u001b[1;33m\u001b[0m\u001b[0m\n\u001b[0m\u001b[0;32m      2\u001b[0m \u001b[0ma\u001b[0m\u001b[1;33m=\u001b[0m\u001b[0mb\u001b[0m\u001b[1;33m=\u001b[0m\u001b[0mc\u001b[0m\u001b[1;33m\u001b[0m\u001b[1;33m\u001b[0m\u001b[0m\n\u001b[0;32m      3\u001b[0m \u001b[0ma\u001b[0m\u001b[1;33m=\u001b[0m\u001b[0mb\u001b[0m\u001b[1;33m=\u001b[0m\u001b[0mc\u001b[0m\u001b[1;33m\u001b[0m\u001b[1;33m\u001b[0m\u001b[0m\n\u001b[0;32m      4\u001b[0m \u001b[0ma\u001b[0m\u001b[1;33m=\u001b[0m\u001b[0mb\u001b[0m\u001b[1;33m=\u001b[0m\u001b[0mc\u001b[0m\u001b[1;33m\u001b[0m\u001b[1;33m\u001b[0m\u001b[0m\n\u001b[0;32m      5\u001b[0m \u001b[0ma\u001b[0m\u001b[1;33m=\u001b[0m\u001b[0mb\u001b[0m\u001b[1;33m=\u001b[0m\u001b[0mc\u001b[0m\u001b[1;33m\u001b[0m\u001b[1;33m\u001b[0m\u001b[0m\n",
      "\u001b[1;31mNameError\u001b[0m: name 'c' is not defined"
     ]
    }
   ],
   "source": [
    "a=b=c\n",
    "a<b=c\n",
    "a>b=c\n",
    "a<b<c\n",
    "a>b>c\n",
    "a=b>c\n",
    "a=b<c\n",
    "a<b<c\n",
    "a>b>c\n",
    "a>b<c\n",
    "a<b>c\n",
    "a=c<b\n",
    "a=c>b\n",
    "\n"
   ]
  }
 ],
 "metadata": {
  "kernelspec": {
   "display_name": "Python 3 (ipykernel)",
   "language": "python",
   "name": "python3"
  },
  "language_info": {
   "codemirror_mode": {
    "name": "ipython",
    "version": 3
   },
   "file_extension": ".py",
   "mimetype": "text/x-python",
   "name": "python",
   "nbconvert_exporter": "python",
   "pygments_lexer": "ipython3",
   "version": "3.9.7"
  }
 },
 "nbformat": 4,
 "nbformat_minor": 5
}
