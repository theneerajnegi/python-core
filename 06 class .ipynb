{
 "cells": [
  {
   "cell_type": "markdown",
   "id": "e824eaf6",
   "metadata": {},
   "source": [
    "WAP TO TAKE INPUT FROM THE USE REGARDING SIDE OF A SHAPE IF THE SIDE IS 2 COMPUTE THE AREA OF RECTANGLE, IF THE SIDE IS 1 COMPUTE THE AREA OF SQUARE AND IF 0 IS ENTERED IN THE SIDE WE SHOULD CHECK FOR RADIUS OF CIRCLE AND THEN COMPUTE THE AREA OF CIRCLE.\n"
   ]
  },
  {
   "cell_type": "code",
   "execution_count": 4,
   "id": "57ec4506",
   "metadata": {},
   "outputs": [
    {
     "name": "stdout",
     "output_type": "stream",
     "text": [
      "enter the no. of sides2\n",
      "length of rectangle2\n",
      "breadth of rectangle2\n",
      "4\n"
     ]
    }
   ],
   "source": [
    "a=int(input(\"enter the no. of sides\"))\n",
    "if a==2:\n",
    "    b=int(input(\"length of rectangle\"))\n",
    "    c=int(input(\"breadth of rectangle\"))\n",
    "    d=b*c\n",
    "    print(d)\n",
    "elif a==1:\n",
    "    e=int(input(\"enter side of square\"))\n",
    "    e=e**2\n",
    "    print(e)\n",
    "elif a==0:\n",
    "    f=int(input(\"enter the radius\"))\n",
    "    f=3.14*f**2\n",
    "    print(f)\n",
    "    "
   ]
  },
  {
   "cell_type": "markdown",
   "id": "f924eb5e",
   "metadata": {},
   "source": [
    "WAP TO CHECK IF ENTERED NO. IS POSITIVE NEGATIVE OF 0. IF THE NO. IS POSITIVE MULTIPLY THAT WITH 2 AND IF THE PRODUCT IS GREATER THAN 40 PRINT BIGGER ELSE PRINT SMALLER. SIMILARLY IF THE ENTERED NO. IS 0 ADD ANY MULTIPLE OF 7 TO IT AND CHECK IF THE SUM IS DIVISIBLE BY 3 . IF IT IS DIVISIBLE BY 3 PRINT DONE ELSE PRINT NOT DONE.\n",
    "AND IF THE NUMBER IS NEGATIVE THAN DIVIDE IT WITH NEGATIVE MULTIPLE OF 4. IF THE RESULT IS GREATER THAN 20 PRINT GOT THAT ELSE PRINT TRY AGAIN."
   ]
  },
  {
   "cell_type": "code",
   "execution_count": 5,
   "id": "6d0197be",
   "metadata": {},
   "outputs": [
    {
     "ename": "SyntaxError",
     "evalue": "EOL while scanning string literal (Temp/ipykernel_10460/601924570.py, line 1)",
     "output_type": "error",
     "traceback": [
      "\u001b[1;36m  File \u001b[1;32m\"C:\\Users\\Neeraj\\AppData\\Local\\Temp/ipykernel_10460/601924570.py\"\u001b[1;36m, line \u001b[1;32m1\u001b[0m\n\u001b[1;33m    a=input(\"enter the number:)\u001b[0m\n\u001b[1;37m                               ^\u001b[0m\n\u001b[1;31mSyntaxError\u001b[0m\u001b[1;31m:\u001b[0m EOL while scanning string literal\n"
     ]
    }
   ],
   "source": []
  },
  {
   "cell_type": "code",
   "execution_count": 8,
   "id": "fbcd57a0",
   "metadata": {},
   "outputs": [
    {
     "name": "stdout",
     "output_type": "stream",
     "text": [
      "enter the number:5\n",
      "smaller\n"
     ]
    }
   ],
   "source": [
    "a=int(input(\"enter the number:\"))\n",
    "if a>0:\n",
    "    b=a*2\n",
    "    if b>40:\n",
    "        print(\"bigger\")\n",
    "    elif b<40:\n",
    "        print(\"smaller\")\n",
    "if a<0:\n",
    "    b=a/-4\n",
    "    if b>20:\n",
    "        print(\"got that\")\n",
    "    elif b<20:\n",
    "        print(\"try again\")\n",
    "if a==0:\n",
    "    b=a+7\n",
    "    if b%3==0:\n",
    "        print(\"done\")\n",
    "    elif b%3==0:\n",
    "        print(\"not done\")"
   ]
  },
  {
   "cell_type": "markdown",
   "id": "2a2cd858",
   "metadata": {},
   "source": [
    "WAP TO TAKE THE INPUT FROM THE USER REGARDING HIS CLOTH CHOISE MALE FEMALE\n",
    "THE CHOISES ARE INDIAN WESTERN \n",
    "IF HE CHOSES INDIAN\n",
    "GIVE HIM CHOISES OF SHERWANI AND KURTA PRICE OF SHERWANI AND CURTA PRINT price\n",
    "       then for females we have saree and suit print the prices\n",
    "western: jeans trousers skirt frock - print the prices\n",
    "       female jeans skirt frock trousers - print the prices"
   ]
  },
  {
   "cell_type": "code",
   "execution_count": 9,
   "id": "134b93b4",
   "metadata": {},
   "outputs": [
    {
     "name": "stdout",
     "output_type": "stream",
     "text": [
      "male/femalemale\n",
      "cloth choices(indian/western):western\n",
      "(jeans/trousers)jeans\n",
      "5000\n"
     ]
    }
   ],
   "source": [
    "a=input(\"male/female-\")\n",
    "if a==\"male\":\n",
    "    b=input(\"cloth choices(indian/western):\")\n",
    "    if b==\"indian\":\n",
    "        c=input(\"(sherwani/kurta)\")\n",
    "        if c==\"sherwani\":\n",
    "            print(\"5000\")\n",
    "        else:\n",
    "            print(\"2000\")\n",
    "    if b==\"western\":\n",
    "        c=input(\"(jeans/trousers)\")\n",
    "        if c==\"jeans\":\n",
    "            print(\"5000\")\n",
    "        else:\n",
    "            print(\"2000\")\n",
    "elif a==\"female\":\n",
    "    b=input(\"cloth choices(indian/western)-:\")\n",
    "    if b==\"indian\":\n",
    "        c=input(\"(suit/saree)-\")\n",
    "        if c==\"suit\":\n",
    "            print(\"5000\")\n",
    "        else:\n",
    "            print(\"2000\")\n",
    "    if b==\"western\":\n",
    "        c=input(\"(jeans/skirt/frock/trousers)-\")\n",
    "        if c==\"jeans\":\n",
    "            print(\"1000\")\n",
    "        elif c==\"skirt\":\n",
    "            print(\"200\")\n",
    "        elif c==\"frock\":\n",
    "            print(\"500\")\n",
    "        elif c==\"trousers\":\n",
    "            print(\"600\")\n",
    "\n",
    "\n",
    "        "
   ]
  },
  {
   "cell_type": "code",
   "execution_count": null,
   "id": "6992dbd4",
   "metadata": {},
   "outputs": [],
   "source": []
  }
 ],
 "metadata": {
  "kernelspec": {
   "display_name": "Python 3 (ipykernel)",
   "language": "python",
   "name": "python3"
  },
  "language_info": {
   "codemirror_mode": {
    "name": "ipython",
    "version": 3
   },
   "file_extension": ".py",
   "mimetype": "text/x-python",
   "name": "python",
   "nbconvert_exporter": "python",
   "pygments_lexer": "ipython3",
   "version": "3.9.7"
  }
 },
 "nbformat": 4,
 "nbformat_minor": 5
}
