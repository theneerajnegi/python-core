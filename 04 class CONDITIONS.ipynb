{
 "cells": [
  {
   "cell_type": "markdown",
   "id": "565fc4e5",
   "metadata": {},
   "source": [
    "conditions"
   ]
  },
  {
   "cell_type": "code",
   "execution_count": 2,
   "id": "a7332ecf",
   "metadata": {},
   "outputs": [
    {
     "name": "stdout",
     "output_type": "stream",
     "text": [
      "i want to play cricket\n",
      "enter the wheathercold\n",
      "lets play\n"
     ]
    }
   ],
   "source": [
    "print(\"i want to play cricket\")\n",
    "wheather = input(\"enter the wheather\")\n",
    "if wheather==\"sunny\":\n",
    "    print(\"lets play\")\n",
    "elif wheather==\"rainy\":\n",
    "    print(\"not play\")\n",
    "elif wheather==\"cold\":\n",
    "    print(\"lets play\")\n",
    "elif wheather==\"windy\":\n",
    "    print(\"not play\")"
   ]
  },
  {
   "cell_type": "markdown",
   "id": "48a71a76",
   "metadata": {},
   "source": [
    "WAP TO TAKE INPUT FORM THE USER REGARDING THE WEIGHT AND HEIGHT\n",
    "THEN CALCULATE BMI\n",
    "AND PRINT BMI UNDERWEIGHT0-16 NORMAL 16-20 OVERWEIGHT 20-25 AND ABOVE 25-OBESE"
   ]
  },
  {
   "cell_type": "code",
   "execution_count": 6,
   "id": "e71cc416",
   "metadata": {},
   "outputs": [
    {
     "name": "stdout",
     "output_type": "stream",
     "text": [
      "enter your weight47\n",
      "enter your height51\n",
      "underweight\n"
     ]
    }
   ],
   "source": [
    "w=float(input(\"enter your weight\"))\n",
    "h= float(input(\"enter your height\"))\n",
    "bmi= w/h**2\n",
    "if bmi>=25:\n",
    "    print(\"obese\")\n",
    "elif bmi<=25 and bmi>20 :\n",
    "    print(\"overweight\")\n",
    "elif bmi<=20 and bmi>16:\n",
    "    print(\"normal\")\n",
    "elif bmi<=16 and bmi>=0:\n",
    "    print(\"underweight\")\n"
   ]
  },
  {
   "cell_type": "markdown",
   "id": "971c62e0",
   "metadata": {},
   "source": [
    "WAP TO GIVE GRADES TO STUDENT BASED ON MARKS TAKEN AS A INPUT FROM THE USER"
   ]
  },
  {
   "cell_type": "code",
   "execution_count": 15,
   "id": "9682486c",
   "metadata": {},
   "outputs": [
    {
     "name": "stdout",
     "output_type": "stream",
     "text": [
      "enter your marks50.1\n",
      "D\n"
     ]
    }
   ],
   "source": [
    "marks=float(input(\"enter your marks\"))\n",
    "if marks>=90:\n",
    "    print(\"A+\")\n",
    "elif marks<90 and marks>80:\n",
    "    print(\"A\")\n",
    "elif marks<80 and marks>70:\n",
    "    print(\"B\")\n",
    "elif marks<70 and marks>60:\n",
    "    print(\"C\")\n",
    "elif marks<60 and marks>50:\n",
    "    print(\"D\")\n",
    "else:\n",
    "    print(\"FAIL\")\n",
    "    "
   ]
  },
  {
   "cell_type": "markdown",
   "id": "562c6e4d",
   "metadata": {},
   "source": [
    "ELECTIONS ARE TO HAPPEN IN DELHI AND WE NEED A CM \n"
   ]
  },
  {
   "cell_type": "code",
   "execution_count": 24,
   "id": "381a7b67",
   "metadata": {},
   "outputs": [
    {
     "name": "stdout",
     "output_type": "stream",
     "text": [
      "any criminal recordno\n",
      "if past cmyes\n",
      "educationgraduate\n",
      "age87\n",
      "not elegible\n"
     ]
    }
   ],
   "source": [
    "a=(input(\"any criminal record\"))\n",
    "b=(input(\"if past cm\"))\n",
    "c=(input(\"education\"))\n",
    "d=int(input(\"age\"))\n",
    "if a==\"no\" and b==\"yes\" and c==\"graduate\" and d<45:\n",
    "    print(\"elegible\")\n",
    "else:\n",
    "    print(\"not elegible\")\n"
   ]
  },
  {
   "cell_type": "markdown",
   "id": "b1b11caa",
   "metadata": {},
   "source": [
    "WAP TO TAKE INPUT REGARDING THE TRP OF A NEWS CHANNEL:"
   ]
  },
  {
   "cell_type": "code",
   "execution_count": 5,
   "id": "42fcf53d",
   "metadata": {},
   "outputs": [
    {
     "name": "stdout",
     "output_type": "stream",
     "text": [
      "enter your channels trp8k\n",
      "5star\n"
     ]
    }
   ],
   "source": [
    "trp=str(input(\"enter your channels trp\"))\n",
    "if trp>=\"10k\":\n",
    "    print(\"5star\")\n",
    "elif \"8k\"<trp<=\"10k\":\n",
    "    print(\"4star\")\n",
    "elif \"6k\"<trp<=\"8k\":\n",
    "    print(\"3star\")\n",
    "elif \"4k\"<trp<=\"6k\":\n",
    "    print(\"2star\")\n",
    "elif \"2k\"<trp<=\"4k\":\n",
    "    print(\"1star\")\n",
    "    "
   ]
  },
  {
   "cell_type": "markdown",
   "id": "cc47cae9",
   "metadata": {},
   "source": [
    "WAP TO CHEK IF NUMBER ENTERED BY THE USER IS DIVISIBLE BY 5 OR NOT"
   ]
  },
  {
   "cell_type": "code",
   "execution_count": 19,
   "id": "8b19928a",
   "metadata": {},
   "outputs": [
    {
     "name": "stdout",
     "output_type": "stream",
     "text": [
      "enter the number8\n",
      "bad luck\n"
     ]
    }
   ],
   "source": [
    "a=int(input(\"enter the number\"))\n",
    "a=a%5\n",
    "if a==0:\n",
    "    print(\"hooray\")\n",
    "else:\n",
    "    print(\"bad luck\")"
   ]
  },
  {
   "cell_type": "code",
   "execution_count": 4,
   "id": "d215127a",
   "metadata": {},
   "outputs": [
    {
     "name": "stdout",
     "output_type": "stream",
     "text": [
      "what is the weather:ranny\n",
      "no\n"
     ]
    }
   ],
   "source": [
    "weather = input(\"what is the weather:\")\n",
    "if weather=='sunny':\n",
    "    print(\"play\")\n",
    "else:\n",
    "    print(\"no\")\n"
   ]
  },
  {
   "cell_type": "code",
   "execution_count": null,
   "id": "e14a7644",
   "metadata": {},
   "outputs": [],
   "source": []
  },
  {
   "cell_type": "code",
   "execution_count": null,
   "id": "c3850881",
   "metadata": {},
   "outputs": [],
   "source": []
  }
 ],
 "metadata": {
  "kernelspec": {
   "display_name": "Python 3 (ipykernel)",
   "language": "python",
   "name": "python3"
  },
  "language_info": {
   "codemirror_mode": {
    "name": "ipython",
    "version": 3
   },
   "file_extension": ".py",
   "mimetype": "text/x-python",
   "name": "python",
   "nbconvert_exporter": "python",
   "pygments_lexer": "ipython3",
   "version": "3.9.7"
  }
 },
 "nbformat": 4,
 "nbformat_minor": 5
}
