{
 "cells": [
  {
   "cell_type": "markdown",
   "id": "43836baa",
   "metadata": {},
   "source": [
    "BREAK CONTINUE AND PASS."
   ]
  },
  {
   "cell_type": "code",
   "execution_count": 9,
   "id": "1b18f9f8",
   "metadata": {},
   "outputs": [
    {
     "name": "stdout",
     "output_type": "stream",
     "text": [
      "mad"
     ]
    }
   ],
   "source": [
    "for i in \"madrid\":\n",
    "    if i==\"r\":\n",
    "        break\n",
    "        print(\"gg\")\n",
    "    else:\n",
    "        print(i,end=\"\")"
   ]
  },
  {
   "cell_type": "code",
   "execution_count": 2,
   "id": "146f046a",
   "metadata": {},
   "outputs": [
    {
     "name": "stdout",
     "output_type": "stream",
     "text": [
      "m\n",
      "a\n",
      "d\n",
      "i\n",
      "d\n"
     ]
    }
   ],
   "source": [
    "for i in \"madrid\":\n",
    "    if i==\"r\":\n",
    "        continue\n",
    "    print(i)\n",
    "    \n",
    "    "
   ]
  },
  {
   "cell_type": "code",
   "execution_count": 11,
   "id": "7fdebbb8",
   "metadata": {},
   "outputs": [
    {
     "name": "stdout",
     "output_type": "stream",
     "text": [
      "madid"
     ]
    }
   ],
   "source": [
    "for i in \"madrid\":\n",
    "    if i==\"r\":\n",
    "        pass\n",
    "    else:\n",
    "        print(i,end=\"\")"
   ]
  },
  {
   "cell_type": "markdown",
   "id": "aab43efc",
   "metadata": {},
   "source": [
    "WAP TO PRINT CUBE"
   ]
  },
  {
   "cell_type": "code",
   "execution_count": 3,
   "id": "2f1235f1",
   "metadata": {},
   "outputs": [
    {
     "name": "stdout",
     "output_type": "stream",
     "text": [
      "1\n",
      "8\n",
      "64\n",
      "125\n",
      "216\n",
      "343\n",
      "729\n",
      "1000\n"
     ]
    }
   ],
   "source": [
    "i=1\n",
    "while i<=10:\n",
    "    if i==3 or i==8:\n",
    "        i+=1\n",
    "        continue\n",
    "    else:\n",
    "        print(i**3)\n",
    "        i+=1"
   ]
  },
  {
   "cell_type": "markdown",
   "id": "789fc3d3",
   "metadata": {},
   "source": [
    "WAP TO PRINT \"SPIDERMAN\""
   ]
  },
  {
   "cell_type": "code",
   "execution_count": 34,
   "id": "7255fc23",
   "metadata": {},
   "outputs": [
    {
     "name": "stdout",
     "output_type": "stream",
     "text": [
      "spidermansuperman"
     ]
    }
   ],
   "source": [
    "for i in \"spiderman superman\":\n",
    "    if i==\" \":\n",
    "        continue\n",
    "    else:\n",
    "        print(i,end=\"\")"
   ]
  },
  {
   "cell_type": "markdown",
   "id": "e70cc4a1",
   "metadata": {},
   "source": [
    "INFINITE WHILE LOOP"
   ]
  },
  {
   "cell_type": "code",
   "execution_count": 3,
   "id": "6ecb29ca",
   "metadata": {},
   "outputs": [
    {
     "name": "stdout",
     "output_type": "stream",
     "text": [
      "1000\n",
      "1331\n",
      "2197\n",
      "3375\n",
      "1000\n"
     ]
    }
   ],
   "source": [
    "while True:\n",
    "    l=[10,11,13,44,15,10]\n",
    "    for i in l:\n",
    "        if i**3>8000:\n",
    "            continue\n",
    "        else:\n",
    "            print(i**3)\n",
    "    break\n",
    "    \n",
    "    "
   ]
  },
  {
   "cell_type": "code",
   "execution_count": 49,
   "id": "95b2dfa8",
   "metadata": {},
   "outputs": [
    {
     "name": "stdout",
     "output_type": "stream",
     "text": [
      "enter username:=neeraj\n",
      "enter password:=sd\n",
      "try again\n",
      "enter username:=esersr\n",
      "enter password:=dr\n",
      "try again\n",
      "enter username:=rs\n",
      "enter password:=rs\n",
      "try again\n",
      "blocked cant access\n"
     ]
    }
   ],
   "source": [
    "c=0\n",
    "while True:\n",
    "    a=input(\"enter username:=\")\n",
    "    b=input(\"enter password:=\")\n",
    "    if a==\"neeraj\" and b==\"madrid\" or a==\"negi\" and b==\"laptop\":\n",
    "        print(\"correct\")\n",
    "        break\n",
    "    else:\n",
    "        print(\"try again\")\n",
    "        c=c+1\n",
    "    if c==3:\n",
    "        print(\"blocked cant access\")\n",
    "        break"
   ]
  },
  {
   "cell_type": "code",
   "execution_count": 1,
   "id": "512c269c",
   "metadata": {},
   "outputs": [
    {
     "name": "stdout",
     "output_type": "stream",
     "text": [
      "200\n",
      "202\n",
      "204\n",
      "206\n",
      "208\n",
      "220\n",
      "222\n",
      "224\n",
      "226\n",
      "228\n",
      "240\n",
      "242\n",
      "244\n",
      "246\n",
      "248\n",
      "260\n",
      "262\n",
      "264\n",
      "266\n",
      "268\n",
      "280\n",
      "282\n",
      "284\n",
      "286\n",
      "288\n",
      "400\n"
     ]
    }
   ],
   "source": [
    "for i in range(100,401):\n",
    "    i=str(i)\n",
    "    c=0\n",
    "    for j in i:\n",
    "        j=int(j)\n",
    "        if j%2==0:\n",
    "            c=c+1\n",
    "        if c==3:\n",
    "            print(i)\n",
    "        "
   ]
  },
  {
   "cell_type": "code",
   "execution_count": 9,
   "id": "c1218c00",
   "metadata": {},
   "outputs": [
    {
     "name": "stdout",
     "output_type": "stream",
     "text": [
      "mad"
     ]
    }
   ],
   "source": [
    "for i in \"madrid\":\n",
    "    if i==\"r\":\n",
    "        break\n",
    "    print(i,end=\"\")"
   ]
  },
  {
   "cell_type": "code",
   "execution_count": 34,
   "id": "cbaa1abd",
   "metadata": {},
   "outputs": [
    {
     "name": "stdout",
     "output_type": "stream",
     "text": [
      "1\n",
      "8\n",
      "64\n",
      "125\n",
      "216\n",
      "343\n",
      "729\n",
      "1000\n"
     ]
    }
   ],
   "source": [
    "i=1\n",
    "while i<11:\n",
    "    if i==3 or i==8:\n",
    "        i+=1\n",
    "        continue\n",
    "    else:\n",
    "        print(i**3)\n",
    "        i=i+1\n",
    "        "
   ]
  },
  {
   "cell_type": "code",
   "execution_count": 59,
   "id": "dda53f26",
   "metadata": {},
   "outputs": [
    {
     "name": "stdout",
     "output_type": "stream",
     "text": [
      "1\n",
      "8\n",
      "64\n",
      "125\n",
      "216\n",
      "512\n",
      "729\n",
      "1000\n"
     ]
    }
   ],
   "source": [
    "i=1\n",
    "while i<11:\n",
    "    if i==3 or i==7:\n",
    "        i=i+1\n",
    "        continue\n",
    "    print(i**3)\n",
    "    i=i+1"
   ]
  },
  {
   "cell_type": "code",
   "execution_count": 31,
   "id": "58534105",
   "metadata": {},
   "outputs": [
    {
     "name": "stdout",
     "output_type": "stream",
     "text": [
      "1\n",
      "8\n",
      "64\n",
      "125\n",
      "216\n",
      "512\n",
      "729\n",
      "1000\n"
     ]
    }
   ],
   "source": [
    "for i in range(1,11):\n",
    "    if i==3 or i==7:\n",
    "        continue\n",
    "    print(i**3)"
   ]
  },
  {
   "cell_type": "code",
   "execution_count": 51,
   "id": "cb115363",
   "metadata": {},
   "outputs": [
    {
     "name": "stdout",
     "output_type": "stream",
     "text": [
      "spidermansuperman"
     ]
    }
   ],
   "source": [
    "for i in \"spiderman superman\":\n",
    "    if i==\" \":\n",
    "        continue\n",
    "    print(i,end=\"\")\n",
    "        "
   ]
  },
  {
   "cell_type": "code",
   "execution_count": 52,
   "id": "6bc2ae4e",
   "metadata": {},
   "outputs": [
    {
     "name": "stdout",
     "output_type": "stream",
     "text": [
      "1\n",
      "8\n",
      "64\n",
      "125\n",
      "216\n",
      "512\n",
      "729\n",
      "1000\n"
     ]
    }
   ],
   "source": []
  },
  {
   "cell_type": "code",
   "execution_count": 70,
   "id": "dc4f486b",
   "metadata": {},
   "outputs": [
    {
     "name": "stdout",
     "output_type": "stream",
     "text": [
      "1331\n",
      "1728\n",
      "2197\n",
      "2744\n",
      "3375\n",
      "4096\n",
      "4913\n",
      "5832\n",
      "6859\n"
     ]
    }
   ],
   "source": [
    "while True:\n",
    "    l=[11,12,13,14,15,16,17,18,19,22,100]\n",
    "    for i in l:\n",
    "        if i**3>8000:\n",
    "            continue\n",
    "        print(i**3)\n",
    "    break\n",
    "        "
   ]
  },
  {
   "cell_type": "code",
   "execution_count": null,
   "id": "493f78e3",
   "metadata": {},
   "outputs": [],
   "source": [
    "\n",
    "\n"
   ]
  },
  {
   "cell_type": "code",
   "execution_count": null,
   "id": "0daef93a",
   "metadata": {},
   "outputs": [],
   "source": [
    "\n",
    "        \n",
    "    \n",
    "    "
   ]
  },
  {
   "cell_type": "code",
   "execution_count": null,
   "id": "bb769bbb",
   "metadata": {},
   "outputs": [],
   "source": [
    "\n",
    "\n",
    "    "
   ]
  },
  {
   "cell_type": "code",
   "execution_count": 89,
   "id": "2b4745ea",
   "metadata": {},
   "outputs": [
    {
     "name": "stdout",
     "output_type": "stream",
     "text": [
      "enter your namew\n",
      "enter your passwordw\n",
      "try again\n",
      "enter your namew\n",
      "enter your passwordw\n",
      "try again\n",
      "enter your namew\n",
      "enter your passwordw\n",
      "try again\n",
      "account blocked\n"
     ]
    }
   ],
   "source": [
    "c=0\n",
    "while True:\n",
    "    a=input(\"enter your name\")\n",
    "    b=input(\"enter your password\")\n",
    "    if a==\"neeraj\" and b==\"123\" or a==\"negi\" and b==\"1234\":\n",
    "        print(\"access\")\n",
    "        break\n",
    "    else:\n",
    "        print(\"try again\")\n",
    "        c=c+1\n",
    "    if c==3:\n",
    "        print(\"account blocked\")\n",
    "        break"
   ]
  },
  {
   "cell_type": "code",
   "execution_count": null,
   "id": "f1f34b18",
   "metadata": {},
   "outputs": [],
   "source": []
  },
  {
   "cell_type": "code",
   "execution_count": null,
   "id": "3d7cbc30",
   "metadata": {},
   "outputs": [],
   "source": [
    "while True:\n",
    "    a=input(\"enter your name--\")\n",
    "    b=input(\"enter your password--\")\n",
    "    if a==\"neeraj\" and b==\"negi\" or a==\"madrid\" and b==\"software\":\n",
    "        print(\"ACCESS GRAUNTED\")\n",
    "        break\n",
    "    else:\n",
    "        print(\"try again\")"
   ]
  },
  {
   "cell_type": "code",
   "execution_count": 12,
   "id": "2a879221",
   "metadata": {},
   "outputs": [
    {
     "name": "stdout",
     "output_type": "stream",
     "text": [
      "1\n",
      "8\n",
      "27\n",
      "64\n",
      "125\n",
      "216\n",
      "343\n",
      "512\n",
      "729\n",
      "1000\n"
     ]
    }
   ],
   "source": [
    "i=1\n",
    "while i<=10:\n",
    "    if i==3 and i==8:\n",
    "        i=i+1\n",
    "        continue\n",
    "    else:\n",
    "        print(i**3)\n",
    "        i=i+1"
   ]
  },
  {
   "cell_type": "code",
   "execution_count": 16,
   "id": "334467e5",
   "metadata": {},
   "outputs": [
    {
     "name": "stdout",
     "output_type": "stream",
     "text": [
      "1\n",
      "8\n",
      "64\n",
      "125\n",
      "216\n",
      "343\n",
      "729\n",
      "1000\n"
     ]
    }
   ],
   "source": [
    "i=1\n",
    "while i<=10:\n",
    "    if i==3 or i==8:\n",
    "        i=i+1\n",
    "        continue\n",
    "    else:\n",
    "        print(i**3)\n",
    "        i+=1\n",
    "        "
   ]
  },
  {
   "cell_type": "code",
   "execution_count": 7,
   "id": "d8e707f4",
   "metadata": {},
   "outputs": [],
   "source": [
    "i=50\n",
    "while i<50:\n",
    "    print(i)\n",
    "    i=i+1"
   ]
  },
  {
   "cell_type": "code",
   "execution_count": null,
   "id": "472f6462",
   "metadata": {},
   "outputs": [],
   "source": []
  }
 ],
 "metadata": {
  "kernelspec": {
   "display_name": "Python 3 (ipykernel)",
   "language": "python",
   "name": "python3"
  },
  "language_info": {
   "codemirror_mode": {
    "name": "ipython",
    "version": 3
   },
   "file_extension": ".py",
   "mimetype": "text/x-python",
   "name": "python",
   "nbconvert_exporter": "python",
   "pygments_lexer": "ipython3",
   "version": "3.9.7"
  }
 },
 "nbformat": 4,
 "nbformat_minor": 5
}
