{
 "cells": [
  {
   "cell_type": "code",
   "execution_count": 2,
   "id": "94559e5c",
   "metadata": {},
   "outputs": [
    {
     "name": "stdout",
     "output_type": "stream",
     "text": [
      "enter the number: 1\n",
      "{1: 1}\n"
     ]
    }
   ],
   "source": [
    "d={}\n",
    "a=int(input(\"enter the number: \"))\n",
    "for i in range (1,a+1):\n",
    "    d[i]=i*i\n",
    "print(d) #3"
   ]
  },
  {
   "cell_type": "code",
   "execution_count": null,
   "id": "23dd63f1",
   "metadata": {},
   "outputs": [],
   "source": [
    "a=input(\"enter the numbers\").split()\n",
    "print(a)\n",
    "print(tuple(a)) #4"
   ]
  }
 ],
 "metadata": {
  "kernelspec": {
   "display_name": "Python 3 (ipykernel)",
   "language": "python",
   "name": "python3"
  },
  "language_info": {
   "codemirror_mode": {
    "name": "ipython",
    "version": 3
   },
   "file_extension": ".py",
   "mimetype": "text/x-python",
   "name": "python",
   "nbconvert_exporter": "python",
   "pygments_lexer": "ipython3",
   "version": "3.9.7"
  }
 },
 "nbformat": 4,
 "nbformat_minor": 5
}
