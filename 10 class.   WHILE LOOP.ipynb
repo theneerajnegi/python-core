{
 "cells": [
  {
   "cell_type": "code",
   "execution_count": 8,
   "id": "3906cc2e",
   "metadata": {},
   "outputs": [
    {
     "name": "stdout",
     "output_type": "stream",
     "text": [
      "the value is  0\n",
      "the value is  1\n",
      "the value is  2\n",
      "the value is  3\n",
      "the value is  4\n"
     ]
    }
   ],
   "source": [
    "i=0\n",
    "while i<5:   \n",
    "    print(\"the value is \",i)\n",
    "    i=i+1"
   ]
  },
  {
   "cell_type": "code",
   "execution_count": 9,
   "id": "8aad9244",
   "metadata": {},
   "outputs": [
    {
     "name": "stdout",
     "output_type": "stream",
     "text": [
      "3\n",
      "5\n",
      "7\n",
      "9\n",
      "11\n"
     ]
    }
   ],
   "source": [
    "i=1\n",
    "while i<=10:\n",
    "    i+=2\n",
    "    print(i)"
   ]
  },
  {
   "cell_type": "code",
   "execution_count": 22,
   "id": "cc933bcf",
   "metadata": {},
   "outputs": [
    {
     "name": "stdout",
     "output_type": "stream",
     "text": [
      "enter the no.2\n",
      "2\n",
      "4\n",
      "6\n",
      "8\n",
      "10\n",
      "12\n",
      "14\n",
      "16\n",
      "18\n",
      "20\n"
     ]
    }
   ],
   "source": [
    "a=int(input(\"enter the no.\"))\n",
    "i=1\n",
    "while i<=10:\n",
    "    print(a*i)\n",
    "    i=i+1"
   ]
  },
  {
   "cell_type": "markdown",
   "id": "ca1b0173",
   "metadata": {},
   "source": [
    "WAP TO PRINT EVEN AND ODD NUMBERS FROM 30 TO 50 USING WHILE LOOP"
   ]
  },
  {
   "cell_type": "code",
   "execution_count": 29,
   "id": "0ad0fb20",
   "metadata": {},
   "outputs": [
    {
     "name": "stdout",
     "output_type": "stream",
     "text": [
      "even\n",
      "odd\n",
      "even\n",
      "odd\n",
      "even\n",
      "odd\n",
      "even\n",
      "odd\n",
      "even\n",
      "odd\n",
      "even\n",
      "odd\n",
      "even\n",
      "odd\n",
      "even\n",
      "odd\n",
      "even\n",
      "odd\n",
      "even\n",
      "odd\n",
      "even\n"
     ]
    }
   ],
   "source": [
    "i=30\n",
    "c=0\n",
    "while i<=50:\n",
    "    if i%2==0:\n",
    "        print(\"even\")\n",
    "    else:\n",
    "        print(\"odd\")\n",
    "    i=i+1"
   ]
  },
  {
   "cell_type": "markdown",
   "id": "e445df93",
   "metadata": {},
   "source": [
    "WAP "
   ]
  },
  {
   "cell_type": "code",
   "execution_count": 34,
   "id": "5ef3e6ef",
   "metadata": {},
   "outputs": [
    {
     "name": "stdout",
     "output_type": "stream",
     "text": [
      "1505\n",
      "1540\n",
      "1575\n",
      "1610\n",
      "1645\n",
      "1680\n",
      "1715\n",
      "1750\n",
      "1785\n",
      "1820\n",
      "1855\n",
      "1890\n",
      "1925\n",
      "1960\n",
      "1995\n",
      "2030\n",
      "2065\n",
      "2100\n",
      "2135\n",
      "2170\n",
      "2205\n",
      "2240\n",
      "2275\n",
      "2310\n",
      "2345\n",
      "2380\n",
      "2415\n",
      "2450\n",
      "2485\n",
      "2520\n",
      "2555\n",
      "2590\n",
      "2625\n",
      "2660\n",
      "2695\n"
     ]
    }
   ],
   "source": [
    "i=1500\n",
    "while i<=2700:\n",
    "    if i%5==0 and i%7==0:\n",
    "        print(i)\n",
    "    i=i+1"
   ]
  },
  {
   "cell_type": "code",
   "execution_count": 36,
   "id": "b07efefb",
   "metadata": {},
   "outputs": [
    {
     "name": "stdout",
     "output_type": "stream",
     "text": [
      "0\n",
      "1\n",
      "1\n",
      "2\n",
      "3\n",
      "5\n",
      "8\n",
      "13\n",
      "21\n",
      "34\n"
     ]
    }
   ],
   "source": [
    "i=0\n",
    "a=0\n",
    "b=1\n",
    "while i<=9:\n",
    "    c=a\n",
    "    a=b\n",
    "    b=a+c\n",
    "    print(c)\n",
    "    i=i+1\n",
    "    "
   ]
  },
  {
   "cell_type": "code",
   "execution_count": 1,
   "id": "b0cf2292",
   "metadata": {},
   "outputs": [
    {
     "name": "stdout",
     "output_type": "stream",
     "text": [
      "200\n",
      "202\n",
      "204\n",
      "206\n",
      "208\n",
      "220\n",
      "222\n",
      "224\n",
      "226\n",
      "228\n",
      "240\n",
      "242\n",
      "244\n",
      "246\n",
      "248\n",
      "260\n",
      "262\n",
      "264\n",
      "266\n",
      "268\n",
      "280\n",
      "282\n",
      "284\n",
      "286\n",
      "288\n",
      "400\n"
     ]
    }
   ],
   "source": [
    "for i in range(100,401):\n",
    "    i=str(i)\n",
    "    c=0\n",
    "    for j in i:\n",
    "        j=int(j)\n",
    "        if j%2==0:\n",
    "            c=c+1\n",
    "        if c==3:\n",
    "            print(i)    "
   ]
  },
  {
   "cell_type": "code",
   "execution_count": null,
   "id": "7a3c3740",
   "metadata": {},
   "outputs": [],
   "source": []
  }
 ],
 "metadata": {
  "kernelspec": {
   "display_name": "Python 3 (ipykernel)",
   "language": "python",
   "name": "python3"
  },
  "language_info": {
   "codemirror_mode": {
    "name": "ipython",
    "version": 3
   },
   "file_extension": ".py",
   "mimetype": "text/x-python",
   "name": "python",
   "nbconvert_exporter": "python",
   "pygments_lexer": "ipython3",
   "version": "3.9.7"
  }
 },
 "nbformat": 4,
 "nbformat_minor": 5
}
