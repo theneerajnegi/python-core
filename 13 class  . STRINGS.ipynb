{
 "cells": [
  {
   "cell_type": "code",
   "execution_count": 1,
   "id": "df6218f0",
   "metadata": {},
   "outputs": [],
   "source": [
    "s=\"aman\"\n",
    "n=\"neeraj\"\n",
    "d='neer'\n"
   ]
  },
  {
   "cell_type": "markdown",
   "id": "6b12449e",
   "metadata": {},
   "source": [
    "........................................................................................................"
   ]
  },
  {
   "cell_type": "markdown",
   "id": "c5441a78",
   "metadata": {},
   "source": [
    "INDEXING AND SLICING IN A STRING:"
   ]
  },
  {
   "cell_type": "markdown",
   "id": "3a1174d4",
   "metadata": {},
   "source": [
    "\n",
    "    "
   ]
  },
  {
   "cell_type": "code",
   "execution_count": 14,
   "id": "aaf89260",
   "metadata": {},
   "outputs": [
    {
     "data": {
      "text/plain": [
       "'own'"
      ]
     },
     "execution_count": 14,
     "metadata": {},
     "output_type": "execute_result"
    }
   ],
   "source": [
    "s=\"brown\"\n",
    "s[2:5:1]"
   ]
  },
  {
   "cell_type": "code",
   "execution_count": 19,
   "id": "c7d758fd",
   "metadata": {},
   "outputs": [
    {
     "data": {
      "text/plain": [
       "'m'"
      ]
     },
     "execution_count": 19,
     "metadata": {},
     "output_type": "execute_result"
    }
   ],
   "source": [
    "a=\"mimpaprasad\"\n",
    "a[2]"
   ]
  },
  {
   "cell_type": "markdown",
   "id": "4be8cbca",
   "metadata": {},
   "source": [
    "MUTABILITY"
   ]
  },
  {
   "cell_type": "markdown",
   "id": "fa708cbd",
   "metadata": {},
   "source": [
    "strings are immutability"
   ]
  },
  {
   "cell_type": "markdown",
   "id": "327cb257",
   "metadata": {},
   "source": [
    "CONCATENATION"
   ]
  },
  {
   "cell_type": "code",
   "execution_count": 23,
   "id": "288b6cae",
   "metadata": {},
   "outputs": [
    {
     "data": {
      "text/plain": [
       "'neerajnegi'"
      ]
     },
     "execution_count": 23,
     "metadata": {},
     "output_type": "execute_result"
    }
   ],
   "source": [
    "s=\"neeraj\"+\"negi\"\n",
    "s"
   ]
  },
  {
   "cell_type": "code",
   "execution_count": 24,
   "id": "3dd37887",
   "metadata": {},
   "outputs": [
    {
     "data": {
      "text/plain": [
       "['__add__',\n",
       " '__class__',\n",
       " '__contains__',\n",
       " '__delattr__',\n",
       " '__dir__',\n",
       " '__doc__',\n",
       " '__eq__',\n",
       " '__format__',\n",
       " '__ge__',\n",
       " '__getattribute__',\n",
       " '__getitem__',\n",
       " '__getnewargs__',\n",
       " '__gt__',\n",
       " '__hash__',\n",
       " '__init__',\n",
       " '__init_subclass__',\n",
       " '__iter__',\n",
       " '__le__',\n",
       " '__len__',\n",
       " '__lt__',\n",
       " '__mod__',\n",
       " '__mul__',\n",
       " '__ne__',\n",
       " '__new__',\n",
       " '__reduce__',\n",
       " '__reduce_ex__',\n",
       " '__repr__',\n",
       " '__rmod__',\n",
       " '__rmul__',\n",
       " '__setattr__',\n",
       " '__sizeof__',\n",
       " '__str__',\n",
       " '__subclasshook__',\n",
       " 'capitalize',\n",
       " 'casefold',\n",
       " 'center',\n",
       " 'count',\n",
       " 'encode',\n",
       " 'endswith',\n",
       " 'expandtabs',\n",
       " 'find',\n",
       " 'format',\n",
       " 'format_map',\n",
       " 'index',\n",
       " 'isalnum',\n",
       " 'isalpha',\n",
       " 'isascii',\n",
       " 'isdecimal',\n",
       " 'isdigit',\n",
       " 'isidentifier',\n",
       " 'islower',\n",
       " 'isnumeric',\n",
       " 'isprintable',\n",
       " 'isspace',\n",
       " 'istitle',\n",
       " 'isupper',\n",
       " 'join',\n",
       " 'ljust',\n",
       " 'lower',\n",
       " 'lstrip',\n",
       " 'maketrans',\n",
       " 'partition',\n",
       " 'removeprefix',\n",
       " 'removesuffix',\n",
       " 'replace',\n",
       " 'rfind',\n",
       " 'rindex',\n",
       " 'rjust',\n",
       " 'rpartition',\n",
       " 'rsplit',\n",
       " 'rstrip',\n",
       " 'split',\n",
       " 'splitlines',\n",
       " 'startswith',\n",
       " 'strip',\n",
       " 'swapcase',\n",
       " 'title',\n",
       " 'translate',\n",
       " 'upper',\n",
       " 'zfill']"
      ]
     },
     "execution_count": 24,
     "metadata": {},
     "output_type": "execute_result"
    }
   ],
   "source": [
    "dir(str)"
   ]
  },
  {
   "cell_type": "code",
   "execution_count": 50,
   "id": "df6cd4d7",
   "metadata": {},
   "outputs": [
    {
     "data": {
      "text/plain": [
       "6"
      ]
     },
     "execution_count": 50,
     "metadata": {},
     "output_type": "execute_result"
    }
   ],
   "source": [
    "a=\"shubham\"\n",
    "a.casefold()\n",
    "a.center(10,\"@\")\n",
    "a.count(\"h\")\n",
    "a.encode()\n",
    "a.endswith(\"m\")\n",
    "a.startswith(\"s\")\n",
    "a.find(\"m\")\n",
    "a.index(\"m\")"
   ]
  },
  {
   "cell_type": "code",
   "execution_count": 52,
   "id": "18b31bf6",
   "metadata": {},
   "outputs": [
    {
     "data": {
      "text/plain": [
       "4"
      ]
     },
     "execution_count": 52,
     "metadata": {},
     "output_type": "execute_result"
    }
   ],
   "source": [
    "s=\"the cat is sitting on a table and is eating food\"\n",
    "s.count(\"is\")\n",
    "s.find(\"c\")"
   ]
  },
  {
   "cell_type": "code",
   "execution_count": 53,
   "id": "ef4752c2",
   "metadata": {},
   "outputs": [
    {
     "data": {
      "text/plain": [
       "6"
      ]
     },
     "execution_count": 53,
     "metadata": {},
     "output_type": "execute_result"
    }
   ],
   "source": [
    "s=\"the tiger roars \"\n",
    "s.index(\"g\")"
   ]
  },
  {
   "cell_type": "code",
   "execution_count": 58,
   "id": "e0f37e3f",
   "metadata": {},
   "outputs": [
    {
     "name": "stdout",
     "output_type": "stream",
     "text": [
      "l\n",
      "w\n"
     ]
    }
   ],
   "source": [
    "s=\"helloworld\"\n",
    "for i in range(len(s)):\n",
    "    if i==3 or i==5:\n",
    "        print(s[i])\n",
    "    "
   ]
  },
  {
   "cell_type": "code",
   "execution_count": 1,
   "id": "eb97fa78",
   "metadata": {},
   "outputs": [
    {
     "data": {
      "text/plain": [
       "True"
      ]
     },
     "execution_count": 1,
     "metadata": {},
     "output_type": "execute_result"
    }
   ],
   "source": [
    "s=\"12\"\n",
    "s.isdigit()"
   ]
  },
  {
   "cell_type": "code",
   "execution_count": 2,
   "id": "d97b741d",
   "metadata": {},
   "outputs": [
    {
     "data": {
      "text/plain": [
       "False"
      ]
     },
     "execution_count": 2,
     "metadata": {},
     "output_type": "execute_result"
    }
   ],
   "source": [
    "s=\"12abs\"\n",
    "s.isdigit()"
   ]
  },
  {
   "cell_type": "code",
   "execution_count": 3,
   "id": "45c4df55",
   "metadata": {},
   "outputs": [
    {
     "data": {
      "text/plain": [
       "True"
      ]
     },
     "execution_count": 3,
     "metadata": {},
     "output_type": "execute_result"
    }
   ],
   "source": [
    "s=\"abc123\"\n",
    "s.isalnum()"
   ]
  },
  {
   "cell_type": "code",
   "execution_count": 4,
   "id": "8c827a93",
   "metadata": {},
   "outputs": [
    {
     "data": {
      "text/plain": [
       "True"
      ]
     },
     "execution_count": 4,
     "metadata": {},
     "output_type": "execute_result"
    }
   ],
   "source": [
    "s.islower()"
   ]
  },
  {
   "cell_type": "code",
   "execution_count": 8,
   "id": "a37502fc",
   "metadata": {},
   "outputs": [
    {
     "data": {
      "text/plain": [
       "'neeraj'"
      ]
     },
     "execution_count": 8,
     "metadata": {},
     "output_type": "execute_result"
    }
   ],
   "source": [
    "s=\"\"\n",
    "s=s.join(\"neeraj\")\n",
    "s"
   ]
  },
  {
   "cell_type": "code",
   "execution_count": 9,
   "id": "4889f8d2",
   "metadata": {},
   "outputs": [
    {
     "data": {
      "text/plain": [
       "'neeraj/negi'"
      ]
     },
     "execution_count": 9,
     "metadata": {},
     "output_type": "execute_result"
    }
   ],
   "source": [
    "s=\"/\"\n",
    "s=s.join([\"neeraj\",\"negi\"])\n",
    "s"
   ]
  },
  {
   "cell_type": "code",
   "execution_count": 12,
   "id": "4234c973",
   "metadata": {},
   "outputs": [
    {
     "data": {
      "text/plain": [
       "['aman', 'kumar', 'singh']"
      ]
     },
     "execution_count": 12,
     "metadata": {},
     "output_type": "execute_result"
    }
   ],
   "source": [
    "s=\"aman kumar singh\"\n",
    "s.split()"
   ]
  },
  {
   "cell_type": "code",
   "execution_count": 14,
   "id": "ed7b05bc",
   "metadata": {},
   "outputs": [
    {
     "data": {
      "text/plain": [
       "('a', 'm', 'an kumar singh')"
      ]
     },
     "execution_count": 14,
     "metadata": {},
     "output_type": "execute_result"
    }
   ],
   "source": [
    "s.partition(\"m\")"
   ]
  },
  {
   "cell_type": "code",
   "execution_count": 15,
   "id": "07704354",
   "metadata": {},
   "outputs": [
    {
     "data": {
      "text/plain": [
       "'apan kupar singh'"
      ]
     },
     "execution_count": 15,
     "metadata": {},
     "output_type": "execute_result"
    }
   ],
   "source": [
    "s.replace(\"m\",\"p\")"
   ]
  },
  {
   "cell_type": "code",
   "execution_count": 20,
   "id": "7f50d060",
   "metadata": {},
   "outputs": [
    {
     "data": {
      "text/plain": [
       "'s s  s s       s s ss'"
      ]
     },
     "execution_count": 20,
     "metadata": {},
     "output_type": "execute_result"
    }
   ],
   "source": [
    "a=\"    s s  s s       s s ss     \"\n",
    "a.strip()"
   ]
  },
  {
   "cell_type": "code",
   "execution_count": 24,
   "id": "d44bcb28",
   "metadata": {},
   "outputs": [
    {
     "data": {
      "text/plain": [
       "23"
      ]
     },
     "execution_count": 24,
     "metadata": {},
     "output_type": "execute_result"
    }
   ],
   "source": [
    "s=\"the cat is wrong i am right\"\n",
    "s.rindex(\"i\")"
   ]
  },
  {
   "cell_type": "code",
   "execution_count": 25,
   "id": "7af1e35e",
   "metadata": {},
   "outputs": [
    {
     "data": {
      "text/plain": [
       "['the cat is wrong i am right']"
      ]
     },
     "execution_count": 25,
     "metadata": {},
     "output_type": "execute_result"
    }
   ],
   "source": [
    "s.splitlines()"
   ]
  },
  {
   "cell_type": "code",
   "execution_count": 26,
   "id": "23772ff2",
   "metadata": {},
   "outputs": [
    {
     "data": {
      "text/plain": [
       "False"
      ]
     },
     "execution_count": 26,
     "metadata": {},
     "output_type": "execute_result"
    }
   ],
   "source": [
    "s.isdecimal()"
   ]
  },
  {
   "cell_type": "code",
   "execution_count": 1,
   "id": "cb0e8b3b",
   "metadata": {},
   "outputs": [
    {
     "name": "stdout",
     "output_type": "stream",
     "text": [
      "enter the password: uhiudhiuahd uisahdiuahsd uihdiuashd\n",
      "uhiudhiuahd is not valid\n",
      "uisahdiuahsd is not valid\n",
      "uihdiuashd is not valid\n"
     ]
    }
   ],
   "source": [
    "a=input(\"enter the password: \").split()\n",
    "for i in a:\n",
    "    u,l,d,sp=0,0,0,0\n",
    "    for j in i:\n",
    "        if j.isupper():\n",
    "            u=u+1\n",
    "        elif j.islower():\n",
    "            l=l+1\n",
    "        elif j.isdigit():\n",
    "            d=d+1\n",
    "        else:\n",
    "            sp=sp+1\n",
    "    if u>0 and l>0 and d>0 and sp>0 and len(i)>=10:\n",
    "        print(i,\"is valid\")\n",
    "    else:\n",
    "        print(i,\"is not valid\")"
   ]
  },
  {
   "cell_type": "code",
   "execution_count": 3,
   "id": "13d41cf7",
   "metadata": {},
   "outputs": [
    {
     "name": "stdout",
     "output_type": "stream",
     "text": [
      "enter the passwordn\n",
      "ok\n"
     ]
    }
   ],
   "source": [
    "a=input(\"enter the password\")\n",
    "d=0\n",
    "for i in a :\n",
    "    if i.isupper() and i.islower() and i.isdigit():\n",
    "        d=d+1\n",
    "    else:\n",
    "        \n",
    "if d>0:\n",
    "    print(\"ok\")\n",
    "else:\n",
    "    print(\"try again\")\n",
    "    \n",
    "    "
   ]
  },
  {
   "cell_type": "code",
   "execution_count": 2,
   "id": "6ba3ba31",
   "metadata": {},
   "outputs": [
    {
     "ename": "KeyboardInterrupt",
     "evalue": "Interrupted by user",
     "output_type": "error",
     "traceback": [
      "\u001b[1;31m---------------------------------------------------------------------------\u001b[0m",
      "\u001b[1;31mKeyboardInterrupt\u001b[0m                         Traceback (most recent call last)",
      "\u001b[1;32m~\\AppData\\Local\\Temp/ipykernel_6128/1436297397.py\u001b[0m in \u001b[0;36m<module>\u001b[1;34m\u001b[0m\n\u001b[1;32m----> 1\u001b[1;33m \u001b[0ma\u001b[0m\u001b[1;33m=\u001b[0m\u001b[0minput\u001b[0m\u001b[1;33m(\u001b[0m\u001b[1;34m\"enter the password: \"\u001b[0m\u001b[1;33m)\u001b[0m\u001b[1;33m\u001b[0m\u001b[1;33m\u001b[0m\u001b[0m\n\u001b[0m\u001b[0;32m      2\u001b[0m \u001b[0mc\u001b[0m\u001b[1;33m,\u001b[0m\u001b[0mu\u001b[0m\u001b[1;33m,\u001b[0m\u001b[0ml\u001b[0m\u001b[1;33m,\u001b[0m\u001b[0md\u001b[0m\u001b[1;33m=\u001b[0m\u001b[1;36m0\u001b[0m\u001b[1;33m,\u001b[0m\u001b[1;36m0\u001b[0m\u001b[1;33m,\u001b[0m\u001b[1;36m0\u001b[0m\u001b[1;33m,\u001b[0m\u001b[1;36m0\u001b[0m\u001b[1;33m\u001b[0m\u001b[1;33m\u001b[0m\u001b[0m\n\u001b[0;32m      3\u001b[0m \u001b[1;32mfor\u001b[0m \u001b[0mi\u001b[0m \u001b[1;32min\u001b[0m \u001b[0ma\u001b[0m\u001b[1;33m:\u001b[0m\u001b[1;33m\u001b[0m\u001b[1;33m\u001b[0m\u001b[0m\n\u001b[0;32m      4\u001b[0m     \u001b[1;32mif\u001b[0m \u001b[0mi\u001b[0m\u001b[1;33m.\u001b[0m\u001b[0misdigit\u001b[0m\u001b[1;33m(\u001b[0m\u001b[1;33m)\u001b[0m\u001b[1;33m:\u001b[0m\u001b[1;33m\u001b[0m\u001b[1;33m\u001b[0m\u001b[0m\n\u001b[0;32m      5\u001b[0m         \u001b[0mc\u001b[0m\u001b[1;33m=\u001b[0m\u001b[0mc\u001b[0m\u001b[1;33m+\u001b[0m\u001b[1;36m1\u001b[0m\u001b[1;33m\u001b[0m\u001b[1;33m\u001b[0m\u001b[0m\n",
      "\u001b[1;32m~\\anaconda3\\lib\\site-packages\\ipykernel\\kernelbase.py\u001b[0m in \u001b[0;36mraw_input\u001b[1;34m(self, prompt)\u001b[0m\n\u001b[0;32m   1004\u001b[0m                 \u001b[1;34m\"raw_input was called, but this frontend does not support input requests.\"\u001b[0m\u001b[1;33m\u001b[0m\u001b[1;33m\u001b[0m\u001b[0m\n\u001b[0;32m   1005\u001b[0m             )\n\u001b[1;32m-> 1006\u001b[1;33m         return self._input_request(\n\u001b[0m\u001b[0;32m   1007\u001b[0m             \u001b[0mstr\u001b[0m\u001b[1;33m(\u001b[0m\u001b[0mprompt\u001b[0m\u001b[1;33m)\u001b[0m\u001b[1;33m,\u001b[0m\u001b[1;33m\u001b[0m\u001b[1;33m\u001b[0m\u001b[0m\n\u001b[0;32m   1008\u001b[0m             \u001b[0mself\u001b[0m\u001b[1;33m.\u001b[0m\u001b[0m_parent_ident\u001b[0m\u001b[1;33m[\u001b[0m\u001b[1;34m\"shell\"\u001b[0m\u001b[1;33m]\u001b[0m\u001b[1;33m,\u001b[0m\u001b[1;33m\u001b[0m\u001b[1;33m\u001b[0m\u001b[0m\n",
      "\u001b[1;32m~\\anaconda3\\lib\\site-packages\\ipykernel\\kernelbase.py\u001b[0m in \u001b[0;36m_input_request\u001b[1;34m(self, prompt, ident, parent, password)\u001b[0m\n\u001b[0;32m   1049\u001b[0m             \u001b[1;32mexcept\u001b[0m \u001b[0mKeyboardInterrupt\u001b[0m\u001b[1;33m:\u001b[0m\u001b[1;33m\u001b[0m\u001b[1;33m\u001b[0m\u001b[0m\n\u001b[0;32m   1050\u001b[0m                 \u001b[1;31m# re-raise KeyboardInterrupt, to truncate traceback\u001b[0m\u001b[1;33m\u001b[0m\u001b[1;33m\u001b[0m\u001b[0m\n\u001b[1;32m-> 1051\u001b[1;33m                 \u001b[1;32mraise\u001b[0m \u001b[0mKeyboardInterrupt\u001b[0m\u001b[1;33m(\u001b[0m\u001b[1;34m\"Interrupted by user\"\u001b[0m\u001b[1;33m)\u001b[0m \u001b[1;32mfrom\u001b[0m \u001b[1;32mNone\u001b[0m\u001b[1;33m\u001b[0m\u001b[1;33m\u001b[0m\u001b[0m\n\u001b[0m\u001b[0;32m   1052\u001b[0m             \u001b[1;32mexcept\u001b[0m \u001b[0mException\u001b[0m\u001b[1;33m:\u001b[0m\u001b[1;33m\u001b[0m\u001b[1;33m\u001b[0m\u001b[0m\n\u001b[0;32m   1053\u001b[0m                 \u001b[0mself\u001b[0m\u001b[1;33m.\u001b[0m\u001b[0mlog\u001b[0m\u001b[1;33m.\u001b[0m\u001b[0mwarning\u001b[0m\u001b[1;33m(\u001b[0m\u001b[1;34m\"Invalid Message:\"\u001b[0m\u001b[1;33m,\u001b[0m \u001b[0mexc_info\u001b[0m\u001b[1;33m=\u001b[0m\u001b[1;32mTrue\u001b[0m\u001b[1;33m)\u001b[0m\u001b[1;33m\u001b[0m\u001b[1;33m\u001b[0m\u001b[0m\n",
      "\u001b[1;31mKeyboardInterrupt\u001b[0m: Interrupted by user"
     ]
    }
   ],
   "source": [
    "a=input(\"enter the password: \")\n",
    "c,u,l,d=0,0,0,0\n",
    "for i in a:\n",
    "    if i.isdigit():\n",
    "        c=c+1\n",
    "    elif i.isupper():\n",
    "        u=u+1\n",
    "    elif i.islower():\n",
    "        l=l+1\n",
    "    else:\n",
    "        d=d+1\n",
    "if c>=1 and len(a)>=10 and d>=1 and u>=1 and l>=1:\n",
    "    print(\"correct\")\n",
    "else:\n",
    "    print(\"try new password\")"
   ]
  },
  {
   "cell_type": "code",
   "execution_count": 7,
   "id": "df4e1b28",
   "metadata": {},
   "outputs": [
    {
     "name": "stdout",
     "output_type": "stream",
     "text": [
      "Enter your password: neerAj@1233344 neee\n",
      "neerAj@1233344 correct\n",
      "neee try new password\n"
     ]
    }
   ],
   "source": [
    "u,l,d,sp=0,0,0,0\n",
    "a=input(\"Enter your password: \").split()\n",
    "for i in a:\n",
    "    for j in i:\n",
    "        if j.isupper():\n",
    "            u=u+1\n",
    "        elif j.islower():\n",
    "            l=l+1\n",
    "        elif j.isdigit():\n",
    "            d=d+1\n",
    "        else:\n",
    "            sp=sp+1\n",
    "    if u>0 and l>0 and d>0 and sp>0 and len(i)>=10:\n",
    "        print(i,\"correct\")\n",
    "    else:\n",
    "        print(i,\"try new password\")"
   ]
  },
  {
   "cell_type": "code",
   "execution_count": 8,
   "id": "b91be5e6",
   "metadata": {},
   "outputs": [
    {
     "name": "stdout",
     "output_type": "stream",
     "text": [
      "Enter your password: nee\n",
      "try a new password!\n",
      "Enter your password: nee\n",
      "try a new password!\n",
      "Enter your password: NEERaj1234@hjdd\n",
      "correct\n"
     ]
    }
   ],
   "source": [
    "u,l,d,sp=0,0,0,0\n",
    "while True:\n",
    "    a=input(\"Enter your password: \")\n",
    "    for i in a:\n",
    "        if i.isupper():\n",
    "            u=u+1\n",
    "        elif i.islower():\n",
    "            l=l+1\n",
    "        elif i.isdigit():\n",
    "            d=d+1\n",
    "        else:\n",
    "            sp=sp+1\n",
    "    if u>0 and l>0 and d>0 and sp>0 and len(a)>=10:\n",
    "        print(\"correct\")\n",
    "        break\n",
    "    else:\n",
    "        print(\"try a new password!\")"
   ]
  },
  {
   "cell_type": "code",
   "execution_count": null,
   "id": "68b42981",
   "metadata": {},
   "outputs": [],
   "source": []
  }
 ],
 "metadata": {
  "kernelspec": {
   "display_name": "Python 3 (ipykernel)",
   "language": "python",
   "name": "python3"
  },
  "language_info": {
   "codemirror_mode": {
    "name": "ipython",
    "version": 3
   },
   "file_extension": ".py",
   "mimetype": "text/x-python",
   "name": "python",
   "nbconvert_exporter": "python",
   "pygments_lexer": "ipython3",
   "version": "3.9.7"
  }
 },
 "nbformat": 4,
 "nbformat_minor": 5
}
