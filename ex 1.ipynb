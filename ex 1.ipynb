{
 "cells": [
  {
   "cell_type": "markdown",
   "id": "51515014",
   "metadata": {},
   "source": [
    "1. Write a program which will find all such numbers which are divisible by 7 but are not a multiple of 5 between 2000 and 3200 (both included). The numbers obtained should be printed in a comma-separated sequence on a single line. Hints: Consider use range begin, Rend) method\n"
   ]
  },
  {
   "cell_type": "code",
   "execution_count": 1,
   "id": "003d11bc",
   "metadata": {},
   "outputs": [
    {
     "name": "stdout",
     "output_type": "stream",
     "text": [
      "2002,2009,2016,2023,2037,2044,2051,2058,2072,2079,2086,2093,2107,2114,2121,2128,2142,2149,2156,2163,2177,2184,2191,2198,2212,2219,2226,2233,2247,2254,2261,2268,2282,2289,2296,2303,2317,2324,2331,2338,2352,2359,2366,2373,2387,2394,2401,2408,2422,2429,2436,2443,2457,2464,2471,2478,2492,2499,2506,2513,2527,2534,2541,2548,2562,2569,2576,2583,2597,2604,2611,2618,2632,2639,2646,2653,2667,2674,2681,2688,2702,2709,2716,2723,2737,2744,2751,2758,2772,2779,2786,2793,2807,2814,2821,2828,2842,2849,2856,2863,2877,2884,2891,2898,2912,2919,2926,2933,2947,2954,2961,2968,2982,2989,2996,3003,3017,3024,3031,3038,3052,3059,3066,3073,3087,3094,3101,3108,3122,3129,3136,3143,3157,3164,3171,3178,3192,3199,"
     ]
    }
   ],
   "source": [
    "for i in range(2000,3201):\n",
    "    if i%7==0 and i%5!=0:\n",
    "        print(i,end=\",\") "
   ]
  },
  {
   "cell_type": "markdown",
   "id": "eae7f758",
   "metadata": {},
   "source": [
    "2. Write a program which can compute the factorial of a given numbers. The results should be printed in a comma-separated sequence on a single line Suppose the input is supplied to the program: 8 Then, the output should be 40320 Hints: In case of input data being supplied to the question, it should be assumed to be a console input\n",
    "\n"
   ]
  },
  {
   "cell_type": "code",
   "execution_count": 2,
   "id": "aa302156",
   "metadata": {},
   "outputs": [
    {
     "name": "stdout",
     "output_type": "stream",
     "text": [
      "40320\n"
     ]
    }
   ],
   "source": [
    "a=8\n",
    "s=1\n",
    "for i in range(1,a+1):\n",
    "    s=s*i\n",
    "print(s) "
   ]
  },
  {
   "cell_type": "markdown",
   "id": "1914eac1",
   "metadata": {},
   "source": [
    "3. With a given integral number, write a program to generate a dictionary that contains 8 ) such that is an integral number between 1 and n (both included) and then the program should print the dictionary Suppose the input is supplied to the program 8 Then, the output should be: (1:1,24,39,416, 5:25, 6:36. 7:49 864) Hints: In case of input data being supplied to the question, it should be assumed to be a console input. "
   ]
  },
  {
   "cell_type": "code",
   "execution_count": 3,
   "id": "1b79c1c3",
   "metadata": {},
   "outputs": [
    {
     "name": "stdout",
     "output_type": "stream",
     "text": [
      "enter the number: 5\n",
      "{1: 1, 2: 4, 3: 9, 4: 16, 5: 25}\n"
     ]
    }
   ],
   "source": [
    "d={}\n",
    "a=int(input(\"enter the number: \"))\n",
    "for i in range (1,a+1):\n",
    "    d[i]=i*i\n",
    "print(d)                                                            "
   ]
  },
  {
   "cell_type": "markdown",
   "id": "da5cd57c",
   "metadata": {},
   "source": [
    "4. Write a program which accepts a sequence of comma-separated numbers from console and generate a list and a tuple which contains every number. Suppose the input is supplied to the program 34, 67, 65, 33, 12. 98 Then, the output should be [34. 67. 55, 33, 12, 981 (34. 67. 55. 33. 17, 96) Hints in case of put data being supplied to the question, it should be assumed to be a console input. tuple() method can convert list to tuple"
   ]
  },
  {
   "cell_type": "code",
   "execution_count": 6,
   "id": "8cb77b28",
   "metadata": {},
   "outputs": [
    {
     "name": "stdout",
     "output_type": "stream",
     "text": [
      "enter the numbers2,4,6,8\n",
      "['2,4,6,8']\n",
      "('2,4,6,8',)\n"
     ]
    }
   ],
   "source": [
    "a=input(\"enter the numbers\").split()\n",
    "print(a)\n",
    "print(tuple(a))"
   ]
  },
  {
   "cell_type": "markdown",
   "id": "530604cc",
   "metadata": {},
   "source": [
    "5. Define a class which has at least two methods: getString to get a string from console input printing to print the string in upper case, Also please include simple test function to test the class methods Hints: Use\n",
    "\n",
    "init method to construct some parameters\n"
   ]
  },
  {
   "cell_type": "code",
   "execution_count": 8,
   "id": "0be40eb3",
   "metadata": {},
   "outputs": [
    {
     "name": "stdout",
     "output_type": "stream",
     "text": [
      "enter any sentenceneeraj\n",
      "NEERAJ\n"
     ]
    }
   ],
   "source": [
    "class two():\n",
    "    def getstring(self):\n",
    "        self.b=input(\"enter any sentence\")\n",
    "    def printstring(self):\n",
    "        print(self.b.upper())\n",
    "c=two()\n",
    "c.getstring()\n",
    "c.printstring()"
   ]
  },
  {
   "cell_type": "code",
   "execution_count": null,
   "id": "09140ccf",
   "metadata": {},
   "outputs": [],
   "source": []
  }
 ],
 "metadata": {
  "kernelspec": {
   "display_name": "Python 3 (ipykernel)",
   "language": "python",
   "name": "python3"
  },
  "language_info": {
   "codemirror_mode": {
    "name": "ipython",
    "version": 3
   },
   "file_extension": ".py",
   "mimetype": "text/x-python",
   "name": "python",
   "nbconvert_exporter": "python",
   "pygments_lexer": "ipython3",
   "version": "3.9.7"
  }
 },
 "nbformat": 4,
 "nbformat_minor": 5
}
